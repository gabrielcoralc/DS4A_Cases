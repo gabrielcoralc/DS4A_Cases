{
 "cells": [
  {
   "cell_type": "markdown",
   "metadata": {},
   "source": [
    "# Does a job training program improve the earnings of disadvantaged workers?"
   ]
  },
  {
   "cell_type": "code",
   "execution_count": 1,
   "metadata": {},
   "outputs": [],
   "source": [
    "# Silent warnings\n",
    "import warnings\n",
    "warnings.filterwarnings(\"ignore\")\n",
    "\n",
    "# Core\n",
    "import numpy as np\n",
    "import scipy\n",
    "import statsmodels.api as sm\n",
    "import statsmodels.formula.api as smf\n",
    "import pylab\n",
    "\n",
    "# Data\n",
    "import pandas as pd\n",
    "from sklearn import tree\n",
    "from sklearn import metrics\n",
    "from sklearn import neighbors\n",
    "from sklearn import ensemble\n",
    "\n",
    "\n",
    "# Visualisation\n",
    "import matplotlib.pyplot as plt\n",
    "import seaborn as sns\n",
    "\n",
    "%matplotlib inline\n",
    "sns.set_style('darkgrid')\n",
    "plt.style.use('ggplot')"
   ]
  },
  {
   "cell_type": "markdown",
   "metadata": {},
   "source": [
    "## Introduction"
   ]
  },
  {
   "cell_type": "markdown",
   "metadata": {},
   "source": [
    "**Business Context.** In the 1980s, Robert Lalonde conducted a study to evaluate the effects of training programs on labour workers. He observed the characteristic background data of the individuals involved. Several of them were selected for enrollment in the job training program (the National Supported Work Demonstration). The training program specifically targeted unemployed women, ex-drug addicts, ex-criminal offenders, and high school dropouts.\n",
    "\n",
    "<img src=\"data/trainingfailsmain.jpg\" width=\"550\" alt=\"Labour Training\">\n",
    "\n",
    "The Department of Labor is interested in digging deeper into this data and coming up with some actionable insights in order to raise the earnings of disadvantaged workers. They have contracted you as a data science consultant to assist them with this task.\n",
    "\n",
    "**Business Problem.** Your goal is to evaluate **whether the job training program *causes* the earnings of disadvantaged workers to go up**.\n",
    "\n",
    "**Analytical Context.** In this case we will continue our discussion of causal inference. We will study the importance of covariate balance and explore how to perform matching to get this balance. We will leverage a lot of the new classification models we have learned for this purpose."
   ]
  },
  {
   "cell_type": "markdown",
   "metadata": {},
   "source": [
    "## Examining the data\n",
    "\n",
    "The Lalonde dataset provides information on annual income for workers who enroll in the training workshop and those who did not enroll in the year subsequent to training. The outcome of interest is `re78` in which we want to know if there was an increase in earnings in 1978:\n",
    "\n",
    "1. **age**: age in years\n",
    "2. **educ**: years of schooling\n",
    "3. **black**: indicator variable for blacks\n",
    "4. **hisp**: indicator variable for Hispanics\n",
    "5. **married**: indicator variable for martial status\n",
    "6. **nodegr**: indicator variable for high school diploma\n",
    "7. **re74**: real earnings in 1974\n",
    "8. **re75**: real earnings in 1975\n",
    "9. **re78**: real earnings in 1978 - this is the outcome of interest\n",
    "10. **treat**: an indicator variable for treatment status"
   ]
  },
  {
   "cell_type": "code",
   "execution_count": 2,
   "metadata": {},
   "outputs": [
    {
     "data": {
      "text/html": [
       "<div>\n",
       "<style scoped>\n",
       "    .dataframe tbody tr th:only-of-type {\n",
       "        vertical-align: middle;\n",
       "    }\n",
       "\n",
       "    .dataframe tbody tr th {\n",
       "        vertical-align: top;\n",
       "    }\n",
       "\n",
       "    .dataframe thead th {\n",
       "        text-align: right;\n",
       "    }\n",
       "</style>\n",
       "<table border=\"1\" class=\"dataframe\">\n",
       "  <thead>\n",
       "    <tr style=\"text-align: right;\">\n",
       "      <th></th>\n",
       "      <th>treat</th>\n",
       "      <th>age</th>\n",
       "      <th>educ</th>\n",
       "      <th>black</th>\n",
       "      <th>hispan</th>\n",
       "      <th>married</th>\n",
       "      <th>nodegree</th>\n",
       "      <th>re74</th>\n",
       "      <th>re75</th>\n",
       "      <th>re78</th>\n",
       "    </tr>\n",
       "  </thead>\n",
       "  <tbody>\n",
       "    <tr>\n",
       "      <th>NSW1</th>\n",
       "      <td>1</td>\n",
       "      <td>37</td>\n",
       "      <td>11</td>\n",
       "      <td>1</td>\n",
       "      <td>0</td>\n",
       "      <td>1</td>\n",
       "      <td>1</td>\n",
       "      <td>0.0</td>\n",
       "      <td>0.0</td>\n",
       "      <td>9930.0460</td>\n",
       "    </tr>\n",
       "    <tr>\n",
       "      <th>NSW2</th>\n",
       "      <td>1</td>\n",
       "      <td>22</td>\n",
       "      <td>9</td>\n",
       "      <td>0</td>\n",
       "      <td>1</td>\n",
       "      <td>0</td>\n",
       "      <td>1</td>\n",
       "      <td>0.0</td>\n",
       "      <td>0.0</td>\n",
       "      <td>3595.8940</td>\n",
       "    </tr>\n",
       "    <tr>\n",
       "      <th>NSW3</th>\n",
       "      <td>1</td>\n",
       "      <td>30</td>\n",
       "      <td>12</td>\n",
       "      <td>1</td>\n",
       "      <td>0</td>\n",
       "      <td>0</td>\n",
       "      <td>0</td>\n",
       "      <td>0.0</td>\n",
       "      <td>0.0</td>\n",
       "      <td>24909.4500</td>\n",
       "    </tr>\n",
       "    <tr>\n",
       "      <th>NSW4</th>\n",
       "      <td>1</td>\n",
       "      <td>27</td>\n",
       "      <td>11</td>\n",
       "      <td>1</td>\n",
       "      <td>0</td>\n",
       "      <td>0</td>\n",
       "      <td>1</td>\n",
       "      <td>0.0</td>\n",
       "      <td>0.0</td>\n",
       "      <td>7506.1460</td>\n",
       "    </tr>\n",
       "    <tr>\n",
       "      <th>NSW5</th>\n",
       "      <td>1</td>\n",
       "      <td>33</td>\n",
       "      <td>8</td>\n",
       "      <td>1</td>\n",
       "      <td>0</td>\n",
       "      <td>0</td>\n",
       "      <td>1</td>\n",
       "      <td>0.0</td>\n",
       "      <td>0.0</td>\n",
       "      <td>289.7899</td>\n",
       "    </tr>\n",
       "  </tbody>\n",
       "</table>\n",
       "</div>"
      ],
      "text/plain": [
       "      treat  age  educ  black  hispan  married  nodegree  re74  re75  \\\n",
       "NSW1      1   37    11      1       0        1         1   0.0   0.0   \n",
       "NSW2      1   22     9      0       1        0         1   0.0   0.0   \n",
       "NSW3      1   30    12      1       0        0         0   0.0   0.0   \n",
       "NSW4      1   27    11      1       0        0         1   0.0   0.0   \n",
       "NSW5      1   33     8      1       0        0         1   0.0   0.0   \n",
       "\n",
       "            re78  \n",
       "NSW1   9930.0460  \n",
       "NSW2   3595.8940  \n",
       "NSW3  24909.4500  \n",
       "NSW4   7506.1460  \n",
       "NSW5    289.7899  "
      ]
     },
     "execution_count": 2,
     "metadata": {},
     "output_type": "execute_result"
    }
   ],
   "source": [
    "lalonde_df = pd.read_csv('lalonde.csv', index_col=0)\n",
    "lalonde_df.head()"
   ]
  },
  {
   "cell_type": "markdown",
   "metadata": {},
   "source": [
    "### Exercise 1:\n",
    "\n",
    "#### 1.1\n",
    "\n",
    "Provide summary statistics for all the variables in the dataset. What can you say about the average income of the population throughout the years? What percentage of the population saw a decrease in income from 1974 to 1975? What do you think happened in 1975?"
   ]
  },
  {
   "cell_type": "markdown",
   "metadata": {},
   "source": [
    "**Answer.**"
   ]
  },
  {
   "cell_type": "markdown",
   "metadata": {},
   "source": [
    "---------"
   ]
  },
  {
   "cell_type": "code",
   "execution_count": 3,
   "metadata": {
    "scrolled": true
   },
   "outputs": [
    {
     "data": {
      "text/html": [
       "<div>\n",
       "<style scoped>\n",
       "    .dataframe tbody tr th:only-of-type {\n",
       "        vertical-align: middle;\n",
       "    }\n",
       "\n",
       "    .dataframe tbody tr th {\n",
       "        vertical-align: top;\n",
       "    }\n",
       "\n",
       "    .dataframe thead th {\n",
       "        text-align: right;\n",
       "    }\n",
       "</style>\n",
       "<table border=\"1\" class=\"dataframe\">\n",
       "  <thead>\n",
       "    <tr style=\"text-align: right;\">\n",
       "      <th></th>\n",
       "      <th>treat</th>\n",
       "      <th>age</th>\n",
       "      <th>educ</th>\n",
       "      <th>black</th>\n",
       "      <th>hispan</th>\n",
       "      <th>married</th>\n",
       "      <th>nodegree</th>\n",
       "      <th>re74</th>\n",
       "      <th>re75</th>\n",
       "      <th>re78</th>\n",
       "    </tr>\n",
       "  </thead>\n",
       "  <tbody>\n",
       "    <tr>\n",
       "      <th>count</th>\n",
       "      <td>614.000000</td>\n",
       "      <td>614.000000</td>\n",
       "      <td>614.000000</td>\n",
       "      <td>614.000000</td>\n",
       "      <td>614.000000</td>\n",
       "      <td>614.000000</td>\n",
       "      <td>614.000000</td>\n",
       "      <td>614.000000</td>\n",
       "      <td>614.000000</td>\n",
       "      <td>614.000000</td>\n",
       "    </tr>\n",
       "    <tr>\n",
       "      <th>mean</th>\n",
       "      <td>0.301303</td>\n",
       "      <td>27.363192</td>\n",
       "      <td>10.268730</td>\n",
       "      <td>0.395765</td>\n",
       "      <td>0.117264</td>\n",
       "      <td>0.415309</td>\n",
       "      <td>0.630293</td>\n",
       "      <td>4557.546569</td>\n",
       "      <td>2184.938207</td>\n",
       "      <td>6792.834483</td>\n",
       "    </tr>\n",
       "    <tr>\n",
       "      <th>std</th>\n",
       "      <td>0.459198</td>\n",
       "      <td>9.881187</td>\n",
       "      <td>2.628325</td>\n",
       "      <td>0.489413</td>\n",
       "      <td>0.321997</td>\n",
       "      <td>0.493177</td>\n",
       "      <td>0.483119</td>\n",
       "      <td>6477.964479</td>\n",
       "      <td>3295.679043</td>\n",
       "      <td>7470.730792</td>\n",
       "    </tr>\n",
       "    <tr>\n",
       "      <th>min</th>\n",
       "      <td>0.000000</td>\n",
       "      <td>16.000000</td>\n",
       "      <td>0.000000</td>\n",
       "      <td>0.000000</td>\n",
       "      <td>0.000000</td>\n",
       "      <td>0.000000</td>\n",
       "      <td>0.000000</td>\n",
       "      <td>0.000000</td>\n",
       "      <td>0.000000</td>\n",
       "      <td>0.000000</td>\n",
       "    </tr>\n",
       "    <tr>\n",
       "      <th>25%</th>\n",
       "      <td>0.000000</td>\n",
       "      <td>20.000000</td>\n",
       "      <td>9.000000</td>\n",
       "      <td>0.000000</td>\n",
       "      <td>0.000000</td>\n",
       "      <td>0.000000</td>\n",
       "      <td>0.000000</td>\n",
       "      <td>0.000000</td>\n",
       "      <td>0.000000</td>\n",
       "      <td>238.283425</td>\n",
       "    </tr>\n",
       "    <tr>\n",
       "      <th>50%</th>\n",
       "      <td>0.000000</td>\n",
       "      <td>25.000000</td>\n",
       "      <td>11.000000</td>\n",
       "      <td>0.000000</td>\n",
       "      <td>0.000000</td>\n",
       "      <td>0.000000</td>\n",
       "      <td>1.000000</td>\n",
       "      <td>1042.330000</td>\n",
       "      <td>601.548400</td>\n",
       "      <td>4759.018500</td>\n",
       "    </tr>\n",
       "    <tr>\n",
       "      <th>75%</th>\n",
       "      <td>1.000000</td>\n",
       "      <td>32.000000</td>\n",
       "      <td>12.000000</td>\n",
       "      <td>1.000000</td>\n",
       "      <td>0.000000</td>\n",
       "      <td>1.000000</td>\n",
       "      <td>1.000000</td>\n",
       "      <td>7888.498250</td>\n",
       "      <td>3248.987500</td>\n",
       "      <td>10893.592500</td>\n",
       "    </tr>\n",
       "    <tr>\n",
       "      <th>max</th>\n",
       "      <td>1.000000</td>\n",
       "      <td>55.000000</td>\n",
       "      <td>18.000000</td>\n",
       "      <td>1.000000</td>\n",
       "      <td>1.000000</td>\n",
       "      <td>1.000000</td>\n",
       "      <td>1.000000</td>\n",
       "      <td>35040.070000</td>\n",
       "      <td>25142.240000</td>\n",
       "      <td>60307.930000</td>\n",
       "    </tr>\n",
       "  </tbody>\n",
       "</table>\n",
       "</div>"
      ],
      "text/plain": [
       "            treat         age        educ       black      hispan     married  \\\n",
       "count  614.000000  614.000000  614.000000  614.000000  614.000000  614.000000   \n",
       "mean     0.301303   27.363192   10.268730    0.395765    0.117264    0.415309   \n",
       "std      0.459198    9.881187    2.628325    0.489413    0.321997    0.493177   \n",
       "min      0.000000   16.000000    0.000000    0.000000    0.000000    0.000000   \n",
       "25%      0.000000   20.000000    9.000000    0.000000    0.000000    0.000000   \n",
       "50%      0.000000   25.000000   11.000000    0.000000    0.000000    0.000000   \n",
       "75%      1.000000   32.000000   12.000000    1.000000    0.000000    1.000000   \n",
       "max      1.000000   55.000000   18.000000    1.000000    1.000000    1.000000   \n",
       "\n",
       "         nodegree          re74          re75          re78  \n",
       "count  614.000000    614.000000    614.000000    614.000000  \n",
       "mean     0.630293   4557.546569   2184.938207   6792.834483  \n",
       "std      0.483119   6477.964479   3295.679043   7470.730792  \n",
       "min      0.000000      0.000000      0.000000      0.000000  \n",
       "25%      0.000000      0.000000      0.000000    238.283425  \n",
       "50%      1.000000   1042.330000    601.548400   4759.018500  \n",
       "75%      1.000000   7888.498250   3248.987500  10893.592500  \n",
       "max      1.000000  35040.070000  25142.240000  60307.930000  "
      ]
     },
     "execution_count": 3,
     "metadata": {},
     "output_type": "execute_result"
    }
   ],
   "source": [
    "lalonde_df.describe()"
   ]
  },
  {
   "cell_type": "code",
   "execution_count": 4,
   "metadata": {},
   "outputs": [
    {
     "data": {
      "text/plain": [
       "46.416938110749186"
      ]
     },
     "execution_count": 4,
     "metadata": {},
     "output_type": "execute_result"
    }
   ],
   "source": [
    "len(lalonde_df[lalonde_df.re74 > lalonde_df.re75])*100/len(lalonde_df)"
   ]
  },
  {
   "cell_type": "code",
   "execution_count": 5,
   "metadata": {},
   "outputs": [
    {
     "data": {
      "text/html": [
       "<div>\n",
       "<style scoped>\n",
       "    .dataframe tbody tr th:only-of-type {\n",
       "        vertical-align: middle;\n",
       "    }\n",
       "\n",
       "    .dataframe tbody tr th {\n",
       "        vertical-align: top;\n",
       "    }\n",
       "\n",
       "    .dataframe thead th {\n",
       "        text-align: right;\n",
       "    }\n",
       "</style>\n",
       "<table border=\"1\" class=\"dataframe\">\n",
       "  <thead>\n",
       "    <tr style=\"text-align: right;\">\n",
       "      <th></th>\n",
       "      <th>treat</th>\n",
       "      <th>age</th>\n",
       "      <th>educ</th>\n",
       "      <th>black</th>\n",
       "      <th>hispan</th>\n",
       "      <th>married</th>\n",
       "      <th>nodegree</th>\n",
       "      <th>re74</th>\n",
       "      <th>re75</th>\n",
       "      <th>re78</th>\n",
       "    </tr>\n",
       "  </thead>\n",
       "  <tbody>\n",
       "    <tr>\n",
       "      <th>NSW110</th>\n",
       "      <td>1</td>\n",
       "      <td>26</td>\n",
       "      <td>10</td>\n",
       "      <td>1</td>\n",
       "      <td>0</td>\n",
       "      <td>1</td>\n",
       "      <td>1</td>\n",
       "      <td>2027.99900</td>\n",
       "      <td>0.00000</td>\n",
       "      <td>0.0000</td>\n",
       "    </tr>\n",
       "    <tr>\n",
       "      <th>NSW111</th>\n",
       "      <td>1</td>\n",
       "      <td>20</td>\n",
       "      <td>9</td>\n",
       "      <td>1</td>\n",
       "      <td>0</td>\n",
       "      <td>0</td>\n",
       "      <td>1</td>\n",
       "      <td>6083.99400</td>\n",
       "      <td>0.00000</td>\n",
       "      <td>8881.6650</td>\n",
       "    </tr>\n",
       "    <tr>\n",
       "      <th>NSW112</th>\n",
       "      <td>1</td>\n",
       "      <td>17</td>\n",
       "      <td>9</td>\n",
       "      <td>0</td>\n",
       "      <td>1</td>\n",
       "      <td>0</td>\n",
       "      <td>1</td>\n",
       "      <td>445.17040</td>\n",
       "      <td>74.34345</td>\n",
       "      <td>6210.6700</td>\n",
       "    </tr>\n",
       "    <tr>\n",
       "      <th>NSW113</th>\n",
       "      <td>1</td>\n",
       "      <td>20</td>\n",
       "      <td>12</td>\n",
       "      <td>1</td>\n",
       "      <td>0</td>\n",
       "      <td>0</td>\n",
       "      <td>0</td>\n",
       "      <td>989.26780</td>\n",
       "      <td>165.20770</td>\n",
       "      <td>0.0000</td>\n",
       "    </tr>\n",
       "    <tr>\n",
       "      <th>NSW114</th>\n",
       "      <td>1</td>\n",
       "      <td>18</td>\n",
       "      <td>11</td>\n",
       "      <td>1</td>\n",
       "      <td>0</td>\n",
       "      <td>0</td>\n",
       "      <td>1</td>\n",
       "      <td>858.25430</td>\n",
       "      <td>214.56360</td>\n",
       "      <td>929.8839</td>\n",
       "    </tr>\n",
       "    <tr>\n",
       "      <th>...</th>\n",
       "      <td>...</td>\n",
       "      <td>...</td>\n",
       "      <td>...</td>\n",
       "      <td>...</td>\n",
       "      <td>...</td>\n",
       "      <td>...</td>\n",
       "      <td>...</td>\n",
       "      <td>...</td>\n",
       "      <td>...</td>\n",
       "      <td>...</td>\n",
       "    </tr>\n",
       "    <tr>\n",
       "      <th>PSID358</th>\n",
       "      <td>0</td>\n",
       "      <td>16</td>\n",
       "      <td>7</td>\n",
       "      <td>0</td>\n",
       "      <td>1</td>\n",
       "      <td>0</td>\n",
       "      <td>1</td>\n",
       "      <td>289.97150</td>\n",
       "      <td>0.00000</td>\n",
       "      <td>7515.7170</td>\n",
       "    </tr>\n",
       "    <tr>\n",
       "      <th>PSID359</th>\n",
       "      <td>0</td>\n",
       "      <td>21</td>\n",
       "      <td>11</td>\n",
       "      <td>0</td>\n",
       "      <td>0</td>\n",
       "      <td>1</td>\n",
       "      <td>1</td>\n",
       "      <td>246.86760</td>\n",
       "      <td>0.00000</td>\n",
       "      <td>6708.8790</td>\n",
       "    </tr>\n",
       "    <tr>\n",
       "      <th>PSID360</th>\n",
       "      <td>0</td>\n",
       "      <td>55</td>\n",
       "      <td>6</td>\n",
       "      <td>0</td>\n",
       "      <td>0</td>\n",
       "      <td>1</td>\n",
       "      <td>1</td>\n",
       "      <td>111.67820</td>\n",
       "      <td>0.00000</td>\n",
       "      <td>0.0000</td>\n",
       "    </tr>\n",
       "    <tr>\n",
       "      <th>PSID361</th>\n",
       "      <td>0</td>\n",
       "      <td>37</td>\n",
       "      <td>12</td>\n",
       "      <td>0</td>\n",
       "      <td>0</td>\n",
       "      <td>0</td>\n",
       "      <td>0</td>\n",
       "      <td>48.98167</td>\n",
       "      <td>0.00000</td>\n",
       "      <td>877.7696</td>\n",
       "    </tr>\n",
       "    <tr>\n",
       "      <th>PSID362</th>\n",
       "      <td>0</td>\n",
       "      <td>26</td>\n",
       "      <td>12</td>\n",
       "      <td>0</td>\n",
       "      <td>1</td>\n",
       "      <td>1</td>\n",
       "      <td>0</td>\n",
       "      <td>47.02240</td>\n",
       "      <td>0.00000</td>\n",
       "      <td>0.0000</td>\n",
       "    </tr>\n",
       "  </tbody>\n",
       "</table>\n",
       "<p>285 rows × 10 columns</p>\n",
       "</div>"
      ],
      "text/plain": [
       "         treat  age  educ  black  hispan  married  nodegree        re74  \\\n",
       "NSW110       1   26    10      1       0        1         1  2027.99900   \n",
       "NSW111       1   20     9      1       0        0         1  6083.99400   \n",
       "NSW112       1   17     9      0       1        0         1   445.17040   \n",
       "NSW113       1   20    12      1       0        0         0   989.26780   \n",
       "NSW114       1   18    11      1       0        0         1   858.25430   \n",
       "...        ...  ...   ...    ...     ...      ...       ...         ...   \n",
       "PSID358      0   16     7      0       1        0         1   289.97150   \n",
       "PSID359      0   21    11      0       0        1         1   246.86760   \n",
       "PSID360      0   55     6      0       0        1         1   111.67820   \n",
       "PSID361      0   37    12      0       0        0         0    48.98167   \n",
       "PSID362      0   26    12      0       1        1         0    47.02240   \n",
       "\n",
       "              re75       re78  \n",
       "NSW110     0.00000     0.0000  \n",
       "NSW111     0.00000  8881.6650  \n",
       "NSW112    74.34345  6210.6700  \n",
       "NSW113   165.20770     0.0000  \n",
       "NSW114   214.56360   929.8839  \n",
       "...            ...        ...  \n",
       "PSID358    0.00000  7515.7170  \n",
       "PSID359    0.00000  6708.8790  \n",
       "PSID360    0.00000     0.0000  \n",
       "PSID361    0.00000   877.7696  \n",
       "PSID362    0.00000     0.0000  \n",
       "\n",
       "[285 rows x 10 columns]"
      ]
     },
     "execution_count": 5,
     "metadata": {},
     "output_type": "execute_result"
    }
   ],
   "source": [
    "lalonde_df[lalonde_df.re74 > lalonde_df.re75]"
   ]
  },
  {
   "cell_type": "markdown",
   "metadata": {},
   "source": [
    "- We see a great reduction in the average income between 1974 and 1975\n",
    "- 46% of the population reduced their income between 1974 and 1975\n",
    "- Economic recession in the 70's"
   ]
  },
  {
   "cell_type": "markdown",
   "metadata": {},
   "source": [
    "#### 1.2 \n",
    "    \n",
    "What percentage of the workers in our dataset are in the treatment group? Find the difference in means and medians of earnings between the control group and the treatment group. Is the difference of means statistically significant?\n",
    "\n",
    "**Note:** Remember that the *treatment and control groups* correspond to the sets of workers that were enrolled and not enrolled in the job training program, respectively. We can check if a worker is part of the treatment group by simply checking the value of the  `treat` column."
   ]
  },
  {
   "cell_type": "markdown",
   "metadata": {},
   "source": [
    "**Answer.**"
   ]
  },
  {
   "cell_type": "code",
   "execution_count": 6,
   "metadata": {},
   "outputs": [],
   "source": [
    "from   scipy import stats"
   ]
  },
  {
   "cell_type": "code",
   "execution_count": 7,
   "metadata": {},
   "outputs": [],
   "source": [
    "treatment=lalonde_df[lalonde_df.treat==1]\n",
    "control=lalonde_df[lalonde_df.treat==0]"
   ]
  },
  {
   "cell_type": "code",
   "execution_count": 8,
   "metadata": {},
   "outputs": [
    {
     "data": {
      "text/plain": [
       "30.13029315960912"
      ]
     },
     "execution_count": 8,
     "metadata": {},
     "output_type": "execute_result"
    }
   ],
   "source": [
    "len(treatment)*100/len(lalonde_df)"
   ]
  },
  {
   "cell_type": "code",
   "execution_count": 9,
   "metadata": {},
   "outputs": [
    {
     "name": "stdout",
     "output_type": "stream",
     "text": [
      "-3523.6628177382977\n",
      "-2547.047\n",
      "t = -6.381464485508746\n",
      "p = 3.464585257757616e-10\n"
     ]
    }
   ],
   "source": [
    "print(treatment.re74.mean()-control.re74.mean())\n",
    "print(treatment.re74.median()-control.re74.median())\n",
    "## A simple t test for difference of means\n",
    "t2, p2 = stats.ttest_ind(treatment.re74,control.re74)\n",
    "print(\"t = \" + str(t2))\n",
    "print(\"p = \" + str(p2))"
   ]
  },
  {
   "cell_type": "code",
   "execution_count": 10,
   "metadata": {},
   "outputs": [
    {
     "name": "stdout",
     "output_type": "stream",
     "text": [
      "-934.4291293397591\n",
      "-1086.726\n",
      "t = -3.2485513845081773\n",
      "p = 0.0012234443948498416\n"
     ]
    }
   ],
   "source": [
    "print(treatment.re75.mean()-control.re75.mean())\n",
    "print(treatment.re75.median()-control.re75.median())\n",
    "## A simple t test for difference of means\n",
    "t2, p2 = stats.ttest_ind(treatment.re75,control.re75)\n",
    "print(\"t = \" + str(t2))\n",
    "print(\"p = \" + str(p2))"
   ]
  },
  {
   "cell_type": "code",
   "execution_count": 11,
   "metadata": {},
   "outputs": [
    {
     "name": "stdout",
     "output_type": "stream",
     "text": [
      "-635.0262120374209\n",
      "-743.1959999999999\n",
      "t = -0.9663522254463778\n",
      "p = 0.3342496685909654\n"
     ]
    }
   ],
   "source": [
    "print(treatment.re78.mean()-control.re78.mean())\n",
    "print(treatment.re78.median()-control.re78.median())\n",
    "## A simple t test for difference of means\n",
    "t2, p2 = stats.ttest_ind(treatment.re78,control.re78)\n",
    "print(\"t = \" + str(t2))\n",
    "print(\"p = \" + str(p2))"
   ]
  },
  {
   "cell_type": "code",
   "execution_count": 12,
   "metadata": {},
   "outputs": [
    {
     "name": "stdout",
     "output_type": "stream",
     "text": [
      "2095.573688648649\n",
      "1532.0553137837837\n",
      "6349.143530270271\n"
     ]
    }
   ],
   "source": [
    "print(treatment.re74.mean())\n",
    "print(treatment.re75.mean())\n",
    "print(treatment.re78.mean())"
   ]
  },
  {
   "cell_type": "code",
   "execution_count": 13,
   "metadata": {},
   "outputs": [
    {
     "name": "stdout",
     "output_type": "stream",
     "text": [
      "5619.2365063869465\n",
      "2466.484443123543\n",
      "6984.169742307692\n"
     ]
    }
   ],
   "source": [
    "print(control.re74.mean())\n",
    "print(control.re75.mean())\n",
    "print(control.re78.mean())"
   ]
  },
  {
   "cell_type": "markdown",
   "metadata": {},
   "source": [
    "- 30% of the population is part of the group under treatment"
   ]
  },
  {
   "cell_type": "markdown",
   "metadata": {},
   "source": [
    "---------"
   ]
  },
  {
   "cell_type": "markdown",
   "metadata": {},
   "source": [
    "#### 1.3\n",
    "\n",
    "Does your previous result mean that the treatment had a negative impact? Why or why not?"
   ]
  },
  {
   "cell_type": "markdown",
   "metadata": {},
   "source": [
    "**Answer.**"
   ]
  },
  {
   "cell_type": "markdown",
   "metadata": {},
   "source": [
    "The treatment had a positive impact, since people in this group on average increased their income from 1974 to 1978"
   ]
  },
  {
   "cell_type": "markdown",
   "metadata": {},
   "source": [
    "---------"
   ]
  },
  {
   "cell_type": "markdown",
   "metadata": {},
   "source": [
    "## Assessing balance between the control group and the treatment group\n",
    "\n",
    "Suppose we want to assess whether balance has been achieved for a particular feature $x = age$. That is, we would like to check whether the treatment and control groups have similar distributions of ages. We can look at **Standardized Mean Differences (SMD)**, which is calculated as follows: let $(\\bar{x}_t,s_t^2)$ and $(\\bar{x}_c, s_c^2)$ denote the mean and variance corresponding to the treatment and control groups of the particular feature of interest. Then, the SMD is defined as the value:\n",
    "\n",
    "$$\\mathrm{SMD}(x)=\\frac{\\bar{x}_{t}-{\\bar{x}_{c}}}{\\sqrt{\\frac{s^{2}_{t} + s^{2}_{c}}{2}}}.$$\n",
    "\n",
    "We can calculate the SMD for every feature. If our calculated SMD is 1, then that means there is a 1 standard deviation difference in means. The benefit of having standard deviation in the denominator is that this number becomes insensitive to the scale of the feature. \n",
    "\n",
    "After computing this measurement for all of our features, there is a rule of thumb that is commonly used to determine whether that feature is balanced or not (similar to the idea of using 0.05 as a threshold for $p$ - values):\n",
    "\n",
    "1. **SMD < 0.1**: We say that the feature is balanced. In general, for a **randomized trial**, the SMD for all of the covariates should typically fall into this bucket.\n",
    "2. **SMD is between 0.1 and 0.2**:  Not necessarily balanced, but small enough that people are usually not too worried about them. Sometimes, even after performing matching, there might still be a few covariates whose SMD falls in this range.\n",
    "3. **SMD > 0.2**: Values that are greater than this threshold are considered seriously imbalanced."
   ]
  },
  {
   "cell_type": "markdown",
   "metadata": {},
   "source": [
    "### Exercise 2:\n",
    "\n",
    "#### 2.1\n",
    "\n",
    "Assess covariate balance between the treatment and control groups. What features (covariates) are imbalanced between the control group and the treatment group in this dataset?"
   ]
  },
  {
   "cell_type": "markdown",
   "metadata": {},
   "source": [
    "**Answer.**"
   ]
  },
  {
   "cell_type": "code",
   "execution_count": 14,
   "metadata": {},
   "outputs": [],
   "source": [
    "def SMD(treatment,control):\n",
    "    smd=abs((treatment.mean()-control.mean())/(np.sqrt((treatment.std()**2 + control.std()**2)/2)))\n",
    "    return smd"
   ]
  },
  {
   "cell_type": "code",
   "execution_count": 15,
   "metadata": {},
   "outputs": [
    {
     "data": {
      "text/plain": [
       "0.24190362292609968"
      ]
     },
     "execution_count": 15,
     "metadata": {},
     "output_type": "execute_result"
    }
   ],
   "source": [
    "SMD(treatment.age,control.age)"
   ]
  },
  {
   "cell_type": "code",
   "execution_count": 16,
   "metadata": {},
   "outputs": [
    {
     "data": {
      "text/html": [
       "<div>\n",
       "<style scoped>\n",
       "    .dataframe tbody tr th:only-of-type {\n",
       "        vertical-align: middle;\n",
       "    }\n",
       "\n",
       "    .dataframe tbody tr th {\n",
       "        vertical-align: top;\n",
       "    }\n",
       "\n",
       "    .dataframe thead th {\n",
       "        text-align: right;\n",
       "    }\n",
       "</style>\n",
       "<table border=\"1\" class=\"dataframe\">\n",
       "  <thead>\n",
       "    <tr style=\"text-align: right;\">\n",
       "      <th></th>\n",
       "      <th>treat</th>\n",
       "      <th>age</th>\n",
       "      <th>educ</th>\n",
       "      <th>black</th>\n",
       "      <th>hispan</th>\n",
       "      <th>married</th>\n",
       "      <th>nodegree</th>\n",
       "      <th>re74</th>\n",
       "      <th>re75</th>\n",
       "      <th>re78</th>\n",
       "    </tr>\n",
       "  </thead>\n",
       "  <tbody>\n",
       "    <tr>\n",
       "      <th>0</th>\n",
       "      <td>inf</td>\n",
       "      <td>0.241904</td>\n",
       "      <td>0.044755</td>\n",
       "      <td>1.667719</td>\n",
       "      <td>0.27694</td>\n",
       "      <td>0.719492</td>\n",
       "      <td>0.235048</td>\n",
       "      <td>0.595752</td>\n",
       "      <td>0.287002</td>\n",
       "      <td>0.083708</td>\n",
       "    </tr>\n",
       "  </tbody>\n",
       "</table>\n",
       "</div>"
      ],
      "text/plain": [
       "   treat       age      educ     black   hispan   married  nodegree      re74  \\\n",
       "0    inf  0.241904  0.044755  1.667719  0.27694  0.719492  0.235048  0.595752   \n",
       "\n",
       "       re75      re78  \n",
       "0  0.287002  0.083708  "
      ]
     },
     "execution_count": 16,
     "metadata": {},
     "output_type": "execute_result"
    }
   ],
   "source": [
    "names=treatment.columns\n",
    "smd=pd.DataFrame()\n",
    "for name in names:\n",
    "    smd[name]= [SMD(treatment[name],control[name])]\n",
    "smd"
   ]
  },
  {
   "cell_type": "markdown",
   "metadata": {},
   "source": [
    "'age', 'black', 'hispan', 'married', 'nodegree','re74', 're75' are imbalaced"
   ]
  },
  {
   "cell_type": "markdown",
   "metadata": {},
   "source": [
    "---------"
   ]
  },
  {
   "cell_type": "markdown",
   "metadata": {},
   "source": [
    "#### 2.2\n",
    "\n",
    "Make plots which show the histograms for both the treatment and control groups of the imbalanced covariates."
   ]
  },
  {
   "cell_type": "markdown",
   "metadata": {},
   "source": [
    "**Answer.**"
   ]
  },
  {
   "cell_type": "code",
   "execution_count": 17,
   "metadata": {},
   "outputs": [
    {
     "data": {
      "text/plain": [
       "Index(['treat', 'age', 'educ', 'black', 'hispan', 'married', 'nodegree',\n",
       "       're74', 're75', 're78'],\n",
       "      dtype='object')"
      ]
     },
     "execution_count": 17,
     "metadata": {},
     "output_type": "execute_result"
    }
   ],
   "source": [
    "control.columns"
   ]
  },
  {
   "cell_type": "code",
   "execution_count": 18,
   "metadata": {},
   "outputs": [
    {
     "data": {
      "image/png": "[encoded data removed]",
      "text/plain": [
       "<Figure size 432x288 with 1 Axes>"
      ]
     },
     "metadata": {},
     "output_type": "display_data"
    },
    {
     "data": {
      "image/png": "[encoded data removed]",
      "text/plain": [
       "<Figure size 432x288 with 1 Axes>"
      ]
     },
     "metadata": {},
     "output_type": "display_data"
    },
    {
     "data": {
      "image/png": "[encoded data removed]",
      "text/plain": [
       "<Figure size 432x288 with 1 Axes>"
      ]
     },
     "metadata": {},
     "output_type": "display_data"
    },
    {
     "data": {
      "image/png": "[encoded data removed]",
      "text/plain": [
       "<Figure size 432x288 with 1 Axes>"
      ]
     },
     "metadata": {},
     "output_type": "display_data"
    },
    {
     "data": {
      "image/png": "[encoded data removed]",
      "text/plain": [
       "<Figure size 432x288 with 1 Axes>"
      ]
     },
     "metadata": {},
     "output_type": "display_data"
    },
    {
     "data": {
      "image/png": "[encoded data removed]",
      "text/plain": [
       "<Figure size 432x288 with 1 Axes>"
      ]
     },
     "metadata": {},
     "output_type": "display_data"
    },
    {
     "data": {
      "image/png": "[encoded data removed]",
      "text/plain": [
       "<Figure size 432x288 with 1 Axes>"
      ]
     },
     "metadata": {},
     "output_type": "display_data"
    }
   ],
   "source": [
    "labels=['age', 'black', 'hispan', 'married', 'nodegree','re74', 're75',]\n",
    "for l in labels:\n",
    "    plt.figure()\n",
    "    control[l].plot.hist(label='Control')\n",
    "    treatment[l].plot.hist(label='Treatment')\n",
    "    plt.title(\"Histogram \" + l)\n",
    "    plt.legend()"
   ]
  },
  {
   "cell_type": "markdown",
   "metadata": {},
   "source": [
    "## Propensity score matching using logistic regression "
   ]
  },
  {
   "cell_type": "markdown",
   "metadata": {},
   "source": [
    "In order to balance the covariates of the control and treatment groups, we will use **matching**. Remember that we used matching in Case 7.5 to balance a population of prisoners to evaluate the effectiveness of a program aiming to reduce recidivism. Thus, the situation here is quite similar.\n",
    "    \n",
    "In Case 7.5 we used the *Euclidean distance* on the sample data to create the matching: for each individual of the treatment group, we would find the closest (in Euclidean distance) individual in the control group to match on. Although this method is attractive in general, we may have instances in which the balancing of some particular feature is more important than others. Say the employment program was aiming to create a positive impact within the Hispanic community and a higher proportion of individuals in the treatment group were Hispanic. The Euclidean distance would not take this into account, and we may end up comparing the effect of the treatment between Hispanics and other ethnicities.\n",
    "\n",
    "We can alleviate this issue by using a metric that takes into account the characteristics of the treatment group. In this context, a metric called the **propensity score** helps us do the matching on select features in an efficient way. The key idea is that *the features that are correlated with the probability of a worker being selected into the treatment group affect our causal results*. A propensity score is this probability. The propensity score for subject $i$, denoted as $\\pi_i$ is defined as:\n",
    "\n",
    "$\\pi_i$ = P(Subject $i$ is given training given their features $X_i$)\n",
    " \n",
    "As an example, if a person had a propensity score of 0.3, that would mean that given their particular covariates, there was a 30% chance that they were placed in the treatment group. We can calculate this score by fitting a classification model to our data, where the input features are our covariates, and the output is whether that person was part of the treatment group or not."
   ]
  },
  {
   "cell_type": "markdown",
   "metadata": {},
   "source": [
    "### Exercise 3:\n",
    "\n",
    "#### 3.1 \n",
    "\n",
    "Estimate the propensity scores using a logistic regression. Build a logistic regression model where the outcome variable is whether a subject was in the treatment group or not, and the covariates are all the other variables except `re78`. How would you interpret the predicted values output by the model? "
   ]
  },
  {
   "cell_type": "markdown",
   "metadata": {},
   "source": [
    "**Answer.**"
   ]
  },
  {
   "cell_type": "code",
   "execution_count": 19,
   "metadata": {},
   "outputs": [
    {
     "name": "stdout",
     "output_type": "stream",
     "text": [
      "Optimization terminated successfully.\n",
      "         Current function value: 0.397267\n",
      "         Iterations 7\n"
     ]
    },
    {
     "data": {
      "text/html": [
       "<table class=\"simpletable\">\n",
       "<caption>Logit Regression Results</caption>\n",
       "<tr>\n",
       "  <th>Dep. Variable:</th>         <td>treat</td>      <th>  No. Observations:  </th>  <td>   614</td>  \n",
       "</tr>\n",
       "<tr>\n",
       "  <th>Model:</th>                 <td>Logit</td>      <th>  Df Residuals:      </th>  <td>   605</td>  \n",
       "</tr>\n",
       "<tr>\n",
       "  <th>Method:</th>                 <td>MLE</td>       <th>  Df Model:          </th>  <td>     8</td>  \n",
       "</tr>\n",
       "<tr>\n",
       "  <th>Date:</th>            <td>Thu, 16 Jul 2020</td> <th>  Pseudo R-squ.:     </th>  <td>0.3508</td>  \n",
       "</tr>\n",
       "<tr>\n",
       "  <th>Time:</th>                <td>10:06:06</td>     <th>  Log-Likelihood:    </th> <td> -243.92</td> \n",
       "</tr>\n",
       "<tr>\n",
       "  <th>converged:</th>             <td>True</td>       <th>  LL-Null:           </th> <td> -375.75</td> \n",
       "</tr>\n",
       "<tr>\n",
       "  <th>Covariance Type:</th>     <td>nonrobust</td>    <th>  LLR p-value:       </th> <td>2.194e-52</td>\n",
       "</tr>\n",
       "</table>\n",
       "<table class=\"simpletable\">\n",
       "<tr>\n",
       "      <td></td>         <th>coef</th>     <th>std err</th>      <th>z</th>      <th>P>|z|</th>  <th>[0.025</th>    <th>0.975]</th>  \n",
       "</tr>\n",
       "<tr>\n",
       "  <th>Intercept</th> <td>   -4.9390</td> <td>    1.026</td> <td>   -4.815</td> <td> 0.000</td> <td>   -6.950</td> <td>   -2.928</td>\n",
       "</tr>\n",
       "<tr>\n",
       "  <th>age</th>       <td>    0.0158</td> <td>    0.014</td> <td>    1.162</td> <td> 0.245</td> <td>   -0.011</td> <td>    0.042</td>\n",
       "</tr>\n",
       "<tr>\n",
       "  <th>educ</th>      <td>    0.1613</td> <td>    0.065</td> <td>    2.477</td> <td> 0.013</td> <td>    0.034</td> <td>    0.289</td>\n",
       "</tr>\n",
       "<tr>\n",
       "  <th>black</th>     <td>    3.0654</td> <td>    0.287</td> <td>   10.698</td> <td> 0.000</td> <td>    2.504</td> <td>    3.627</td>\n",
       "</tr>\n",
       "<tr>\n",
       "  <th>hispan</th>    <td>    0.9836</td> <td>    0.426</td> <td>    2.311</td> <td> 0.021</td> <td>    0.149</td> <td>    1.818</td>\n",
       "</tr>\n",
       "<tr>\n",
       "  <th>married</th>   <td>   -0.8321</td> <td>    0.290</td> <td>   -2.866</td> <td> 0.004</td> <td>   -1.401</td> <td>   -0.263</td>\n",
       "</tr>\n",
       "<tr>\n",
       "  <th>nodegree</th>  <td>    0.7073</td> <td>    0.338</td> <td>    2.095</td> <td> 0.036</td> <td>    0.045</td> <td>    1.369</td>\n",
       "</tr>\n",
       "<tr>\n",
       "  <th>re74</th>      <td>   -0.4650</td> <td>    0.186</td> <td>   -2.497</td> <td> 0.013</td> <td>   -0.830</td> <td>   -0.100</td>\n",
       "</tr>\n",
       "<tr>\n",
       "  <th>re75</th>      <td>    0.1761</td> <td>    0.153</td> <td>    1.153</td> <td> 0.249</td> <td>   -0.123</td> <td>    0.476</td>\n",
       "</tr>\n",
       "</table>"
      ],
      "text/plain": [
       "<class 'statsmodels.iolib.summary.Summary'>\n",
       "\"\"\"\n",
       "                           Logit Regression Results                           \n",
       "==============================================================================\n",
       "Dep. Variable:                  treat   No. Observations:                  614\n",
       "Model:                          Logit   Df Residuals:                      605\n",
       "Method:                           MLE   Df Model:                            8\n",
       "Date:                Thu, 16 Jul 2020   Pseudo R-squ.:                  0.3508\n",
       "Time:                        10:06:06   Log-Likelihood:                -243.92\n",
       "converged:                       True   LL-Null:                       -375.75\n",
       "Covariance Type:            nonrobust   LLR p-value:                 2.194e-52\n",
       "==============================================================================\n",
       "                 coef    std err          z      P>|z|      [0.025      0.975]\n",
       "------------------------------------------------------------------------------\n",
       "Intercept     -4.9390      1.026     -4.815      0.000      -6.950      -2.928\n",
       "age            0.0158      0.014      1.162      0.245      -0.011       0.042\n",
       "educ           0.1613      0.065      2.477      0.013       0.034       0.289\n",
       "black          3.0654      0.287     10.698      0.000       2.504       3.627\n",
       "hispan         0.9836      0.426      2.311      0.021       0.149       1.818\n",
       "married       -0.8321      0.290     -2.866      0.004      -1.401      -0.263\n",
       "nodegree       0.7073      0.338      2.095      0.036       0.045       1.369\n",
       "re74          -0.4650      0.186     -2.497      0.013      -0.830      -0.100\n",
       "re75           0.1761      0.153      1.153      0.249      -0.123       0.476\n",
       "==============================================================================\n",
       "\"\"\""
      ]
     },
     "execution_count": 19,
     "metadata": {},
     "output_type": "execute_result"
    }
   ],
   "source": [
    "lalonde_copy=lalonde_df.copy()\n",
    "lalonde_copy['Intercept'] = 1\n",
    "lalonde_copy['re74']=(lalonde_copy['re74']-lalonde_copy['re74'].mean())/lalonde_copy['re74'].std()\n",
    "lalonde_copy['re75']=(lalonde_copy['re75']-lalonde_copy['re75'].mean())/lalonde_copy['re75'].std()\n",
    "logit = sm.Logit(lalonde_copy['treat'], lalonde_copy[['Intercept','age', 'educ', 'black', 'hispan', 'married', 'nodegree','re74', 're75']])\n",
    "logit_res = logit.fit()\n",
    "logit_res.summary()"
   ]
  },
  {
   "cell_type": "code",
   "execution_count": 20,
   "metadata": {},
   "outputs": [
    {
     "data": {
      "text/plain": [
       "Index(['treat', 'age', 'educ', 'black', 'hispan', 'married', 'nodegree',\n",
       "       're74', 're75', 're78'],\n",
       "      dtype='object')"
      ]
     },
     "execution_count": 20,
     "metadata": {},
     "output_type": "execute_result"
    }
   ],
   "source": [
    "lalonde_df.columns"
   ]
  },
  {
   "cell_type": "markdown",
   "metadata": {},
   "source": [
    "Each of the covariates in the model gives us information on the probability that the person is in the control group or in the treatment group, since negative values indicate that they are less likely to be part of the treatment group.\n",
    "\n",
    "- The intercept gives us an initial value of probability with a high negative value, initially indicating that without knowing the other variables it is more likely that they are not part of the treatment group.\n",
    "- Age, education, hispanic, nodegree, re75 have positive coefficients indicating that the higher the values of these variables, the more likely they belong to the treatment group. The variable black has a high positive coefficient thus giving a high probability that they belong to the treatment group if a person is black skinned\n",
    "- Married and re74, are variables with negative coefficients indicating the opposite of the previous variables."
   ]
  },
  {
   "cell_type": "markdown",
   "metadata": {},
   "source": [
    "---------"
   ]
  },
  {
   "cell_type": "markdown",
   "metadata": {},
   "source": [
    "#### 3.2\n",
    "\n",
    "Use `.predict()`  to obtain the propensity scores of individuals in our dataset. Save the the results with the name `pscore_logit` (these will be used later). In addition, make plots which show the distribution for both the treatment and control groups of propensity scores."
   ]
  },
  {
   "cell_type": "markdown",
   "metadata": {},
   "source": [
    "**Answer.**"
   ]
  },
  {
   "cell_type": "code",
   "execution_count": 21,
   "metadata": {},
   "outputs": [
    {
     "data": {
      "text/html": [
       "<div>\n",
       "<style scoped>\n",
       "    .dataframe tbody tr th:only-of-type {\n",
       "        vertical-align: middle;\n",
       "    }\n",
       "\n",
       "    .dataframe tbody tr th {\n",
       "        vertical-align: top;\n",
       "    }\n",
       "\n",
       "    .dataframe thead th {\n",
       "        text-align: right;\n",
       "    }\n",
       "</style>\n",
       "<table border=\"1\" class=\"dataframe\">\n",
       "  <thead>\n",
       "    <tr style=\"text-align: right;\">\n",
       "      <th></th>\n",
       "      <th>index</th>\n",
       "      <th>pscore</th>\n",
       "    </tr>\n",
       "  </thead>\n",
       "  <tbody>\n",
       "    <tr>\n",
       "      <th>0</th>\n",
       "      <td>NSW1</td>\n",
       "      <td>0.638770</td>\n",
       "    </tr>\n",
       "    <tr>\n",
       "      <th>1</th>\n",
       "      <td>NSW2</td>\n",
       "      <td>0.224634</td>\n",
       "    </tr>\n",
       "    <tr>\n",
       "      <th>2</th>\n",
       "      <td>NSW3</td>\n",
       "      <td>0.678244</td>\n",
       "    </tr>\n",
       "    <tr>\n",
       "      <th>3</th>\n",
       "      <td>NSW4</td>\n",
       "      <td>0.776324</td>\n",
       "    </tr>\n",
       "    <tr>\n",
       "      <th>4</th>\n",
       "      <td>NSW5</td>\n",
       "      <td>0.701639</td>\n",
       "    </tr>\n",
       "    <tr>\n",
       "      <th>...</th>\n",
       "      <td>...</td>\n",
       "      <td>...</td>\n",
       "    </tr>\n",
       "    <tr>\n",
       "      <th>609</th>\n",
       "      <td>PSID425</td>\n",
       "      <td>0.123144</td>\n",
       "    </tr>\n",
       "    <tr>\n",
       "      <th>610</th>\n",
       "      <td>PSID426</td>\n",
       "      <td>0.034560</td>\n",
       "    </tr>\n",
       "    <tr>\n",
       "      <th>611</th>\n",
       "      <td>PSID427</td>\n",
       "      <td>0.183351</td>\n",
       "    </tr>\n",
       "    <tr>\n",
       "      <th>612</th>\n",
       "      <td>PSID428</td>\n",
       "      <td>0.383032</td>\n",
       "    </tr>\n",
       "    <tr>\n",
       "      <th>613</th>\n",
       "      <td>PSID429</td>\n",
       "      <td>0.089712</td>\n",
       "    </tr>\n",
       "  </tbody>\n",
       "</table>\n",
       "<p>614 rows × 2 columns</p>\n",
       "</div>"
      ],
      "text/plain": [
       "       index    pscore\n",
       "0       NSW1  0.638770\n",
       "1       NSW2  0.224634\n",
       "2       NSW3  0.678244\n",
       "3       NSW4  0.776324\n",
       "4       NSW5  0.701639\n",
       "..       ...       ...\n",
       "609  PSID425  0.123144\n",
       "610  PSID426  0.034560\n",
       "611  PSID427  0.183351\n",
       "612  PSID428  0.383032\n",
       "613  PSID429  0.089712\n",
       "\n",
       "[614 rows x 2 columns]"
      ]
     },
     "execution_count": 21,
     "metadata": {},
     "output_type": "execute_result"
    }
   ],
   "source": [
    "pscore_logit=logit_res.predict(lalonde_copy[['Intercept','age', 'educ', 'black', 'hispan', 'married', 'nodegree','re74', 're75']]).reset_index().rename(columns={0:'pscore'})\n",
    "pscore_logit"
   ]
  },
  {
   "cell_type": "code",
   "execution_count": 22,
   "metadata": {},
   "outputs": [
    {
     "data": {
      "text/plain": [
       "Text(0.5, 1.0, 'pscores for the Control Group')"
      ]
     },
     "execution_count": 22,
     "metadata": {},
     "output_type": "execute_result"
    },
    {
     "data": {
      "image/png": "[encoded data removed]",
      "text/plain": [
       "<Figure size 432x288 with 1 Axes>"
      ]
     },
     "metadata": {},
     "output_type": "display_data"
    }
   ],
   "source": [
    "control=control.merge(pscore_logit,left_index=True,right_on='index')\n",
    "control.pscore.plot.hist()\n",
    "plt.title('pscores for the Control Group')"
   ]
  },
  {
   "cell_type": "code",
   "execution_count": 23,
   "metadata": {},
   "outputs": [
    {
     "data": {
      "text/plain": [
       "Text(0.5, 1.0, 'pscores for the treatment Group')"
      ]
     },
     "execution_count": 23,
     "metadata": {},
     "output_type": "execute_result"
    },
    {
     "data": {
      "image/png": "[encoded data removed]",
      "text/plain": [
       "<Figure size 432x288 with 1 Axes>"
      ]
     },
     "metadata": {},
     "output_type": "display_data"
    }
   ],
   "source": [
    "treatment=treatment.merge(pscore_logit,left_index=True,right_on='index')\n",
    "treatment.pscore.plot.hist()\n",
    "plt.title('pscores for the treatment Group')"
   ]
  },
  {
   "cell_type": "markdown",
   "metadata": {},
   "source": [
    "---------"
   ]
  },
  {
   "cell_type": "markdown",
   "metadata": {},
   "source": [
    "### Matching using $k$-nearest neighbors\n",
    "\n",
    "We are going to match each treated subject with a control subject using nearest neighbors matching on the estimated propensity score. Here, we use another popular clustering algorithm: the **$k$-nearest neighbors ($k$-NN) algorithm**. This algorithm is quite similar to the one we used in Case 7.5. However, instead of finding the single control individual with the closest propensity score, it finds the $k$ control individuals with the closest propensity scores. The use of $k>1$ is handy for classification purposes: if each individual lies in a category, we can classify a new individual by finding its $k$ nearest neighbors and use the most common category of its neighbors as the selected category for the new individual. "
   ]
  },
  {
   "cell_type": "markdown",
   "metadata": {},
   "source": [
    "### Exercise 4:\n",
    "\n",
    "In this exercise, we will use the `sklearn.neighbors` function [`NearestNeighbors`](https://scikit-learn.org/stable/modules/generated/sklearn.neighbors.NearestNeighbors.html#sklearn.neighbors.NearestNeighbors.kneighbors) to find, for each subject in the treatment group, the $k=5$ subjects in the control group with the closest propensity scores.\n",
    "\n",
    "#### 4.1\n",
    "\n",
    "Separate the propensity scores `pscore_logit` found in Exercise 3 for treatment and control groups. Call these `treat_pscores` and `control_pscores` respectively. Use the `control_pscores` to train a $k$-NN algorithm with $k=5$.\n",
    "\n",
    "**Hint:** Load the model using `knn = neighbors.NearestNeighbors(n_neighbors=5,metric='euclidean')`. You may want to reshape the control scores using `control_pscores.reshape(-1,1)`."
   ]
  },
  {
   "cell_type": "markdown",
   "metadata": {},
   "source": [
    "**Answer.**"
   ]
  },
  {
   "cell_type": "code",
   "execution_count": 24,
   "metadata": {},
   "outputs": [
    {
     "data": {
      "text/plain": [
       "NearestNeighbors(metric='euclidean')"
      ]
     },
     "execution_count": 24,
     "metadata": {},
     "output_type": "execute_result"
    }
   ],
   "source": [
    "treat_pscores=treatment.pscore\n",
    "control_pscores=control.pscore\n",
    "knn = neighbors.NearestNeighbors(n_neighbors=5,metric='euclidean')\n",
    "knn.fit(np.array(control_pscores).reshape(-1,1))\n"
   ]
  },
  {
   "cell_type": "markdown",
   "metadata": {},
   "source": [
    "---------"
   ]
  },
  {
   "cell_type": "markdown",
   "metadata": {},
   "source": [
    "#### 4.2\n",
    "\n",
    "Find the indices of the five nearest neighbors using the method `.kneighbors()` applied to `treat_pscores`. "
   ]
  },
  {
   "cell_type": "markdown",
   "metadata": {},
   "source": [
    "**Answer.**"
   ]
  },
  {
   "cell_type": "code",
   "execution_count": 25,
   "metadata": {},
   "outputs": [],
   "source": [
    "neigh=knn.kneighbors(np.array(treat_pscores).reshape(-1,1))[1]\n"
   ]
  },
  {
   "cell_type": "markdown",
   "metadata": {},
   "source": [
    "---------"
   ]
  },
  {
   "cell_type": "markdown",
   "metadata": {},
   "source": [
    "#### 4.3\n",
    "\n",
    "Match the treatment and control groups using the closest of the five neighbors found above. Your output should be a pair of `DataFrames`, each with $185$ rows from the `lalonde_df`. The first should correspond to the treatment group and the second should correspond to the matched control group."
   ]
  },
  {
   "cell_type": "markdown",
   "metadata": {},
   "source": [
    "**Answer.**"
   ]
  },
  {
   "cell_type": "code",
   "execution_count": 26,
   "metadata": {},
   "outputs": [
    {
     "data": {
      "text/html": [
       "<div>\n",
       "<style scoped>\n",
       "    .dataframe tbody tr th:only-of-type {\n",
       "        vertical-align: middle;\n",
       "    }\n",
       "\n",
       "    .dataframe tbody tr th {\n",
       "        vertical-align: top;\n",
       "    }\n",
       "\n",
       "    .dataframe thead th {\n",
       "        text-align: right;\n",
       "    }\n",
       "</style>\n",
       "<table border=\"1\" class=\"dataframe\">\n",
       "  <thead>\n",
       "    <tr style=\"text-align: right;\">\n",
       "      <th></th>\n",
       "      <th>treat</th>\n",
       "      <th>age</th>\n",
       "      <th>educ</th>\n",
       "      <th>black</th>\n",
       "      <th>hispan</th>\n",
       "      <th>married</th>\n",
       "      <th>nodegree</th>\n",
       "      <th>re74</th>\n",
       "      <th>re75</th>\n",
       "      <th>re78</th>\n",
       "    </tr>\n",
       "  </thead>\n",
       "  <tbody>\n",
       "    <tr>\n",
       "      <th>PSID69</th>\n",
       "      <td>0</td>\n",
       "      <td>30</td>\n",
       "      <td>17</td>\n",
       "      <td>1</td>\n",
       "      <td>0</td>\n",
       "      <td>0</td>\n",
       "      <td>0</td>\n",
       "      <td>17827.37000</td>\n",
       "      <td>5546.4190</td>\n",
       "      <td>14421.1300</td>\n",
       "    </tr>\n",
       "    <tr>\n",
       "      <th>PSID111</th>\n",
       "      <td>0</td>\n",
       "      <td>51</td>\n",
       "      <td>11</td>\n",
       "      <td>0</td>\n",
       "      <td>0</td>\n",
       "      <td>0</td>\n",
       "      <td>1</td>\n",
       "      <td>48.98167</td>\n",
       "      <td>3813.3870</td>\n",
       "      <td>1525.0140</td>\n",
       "    </tr>\n",
       "    <tr>\n",
       "      <th>PSID370</th>\n",
       "      <td>0</td>\n",
       "      <td>16</td>\n",
       "      <td>9</td>\n",
       "      <td>1</td>\n",
       "      <td>0</td>\n",
       "      <td>0</td>\n",
       "      <td>1</td>\n",
       "      <td>0.00000</td>\n",
       "      <td>0.0000</td>\n",
       "      <td>2158.9590</td>\n",
       "    </tr>\n",
       "    <tr>\n",
       "      <th>PSID226</th>\n",
       "      <td>0</td>\n",
       "      <td>39</td>\n",
       "      <td>10</td>\n",
       "      <td>1</td>\n",
       "      <td>0</td>\n",
       "      <td>0</td>\n",
       "      <td>1</td>\n",
       "      <td>844.44400</td>\n",
       "      <td>889.7903</td>\n",
       "      <td>701.9201</td>\n",
       "    </tr>\n",
       "    <tr>\n",
       "      <th>PSID140</th>\n",
       "      <td>0</td>\n",
       "      <td>19</td>\n",
       "      <td>9</td>\n",
       "      <td>1</td>\n",
       "      <td>0</td>\n",
       "      <td>0</td>\n",
       "      <td>1</td>\n",
       "      <td>1079.55600</td>\n",
       "      <td>2873.4680</td>\n",
       "      <td>14344.2900</td>\n",
       "    </tr>\n",
       "    <tr>\n",
       "      <th>...</th>\n",
       "      <td>...</td>\n",
       "      <td>...</td>\n",
       "      <td>...</td>\n",
       "      <td>...</td>\n",
       "      <td>...</td>\n",
       "      <td>...</td>\n",
       "      <td>...</td>\n",
       "      <td>...</td>\n",
       "      <td>...</td>\n",
       "      <td>...</td>\n",
       "    </tr>\n",
       "    <tr>\n",
       "      <th>PSID239</th>\n",
       "      <td>0</td>\n",
       "      <td>18</td>\n",
       "      <td>11</td>\n",
       "      <td>0</td>\n",
       "      <td>1</td>\n",
       "      <td>0</td>\n",
       "      <td>1</td>\n",
       "      <td>0.00000</td>\n",
       "      <td>630.1935</td>\n",
       "      <td>0.0000</td>\n",
       "    </tr>\n",
       "    <tr>\n",
       "      <th>PSID76</th>\n",
       "      <td>0</td>\n",
       "      <td>26</td>\n",
       "      <td>12</td>\n",
       "      <td>0</td>\n",
       "      <td>1</td>\n",
       "      <td>0</td>\n",
       "      <td>0</td>\n",
       "      <td>7968.33800</td>\n",
       "      <td>5109.5810</td>\n",
       "      <td>4181.9660</td>\n",
       "    </tr>\n",
       "    <tr>\n",
       "      <th>PSID380</th>\n",
       "      <td>0</td>\n",
       "      <td>34</td>\n",
       "      <td>12</td>\n",
       "      <td>1</td>\n",
       "      <td>0</td>\n",
       "      <td>1</td>\n",
       "      <td>0</td>\n",
       "      <td>0.00000</td>\n",
       "      <td>0.0000</td>\n",
       "      <td>18716.8800</td>\n",
       "    </tr>\n",
       "    <tr>\n",
       "      <th>PSID24</th>\n",
       "      <td>0</td>\n",
       "      <td>47</td>\n",
       "      <td>8</td>\n",
       "      <td>1</td>\n",
       "      <td>0</td>\n",
       "      <td>1</td>\n",
       "      <td>1</td>\n",
       "      <td>9275.16900</td>\n",
       "      <td>8543.4190</td>\n",
       "      <td>0.0000</td>\n",
       "    </tr>\n",
       "    <tr>\n",
       "      <th>PSID269</th>\n",
       "      <td>0</td>\n",
       "      <td>23</td>\n",
       "      <td>13</td>\n",
       "      <td>1</td>\n",
       "      <td>0</td>\n",
       "      <td>0</td>\n",
       "      <td>0</td>\n",
       "      <td>172.41550</td>\n",
       "      <td>272.1290</td>\n",
       "      <td>582.2243</td>\n",
       "    </tr>\n",
       "  </tbody>\n",
       "</table>\n",
       "<p>185 rows × 10 columns</p>\n",
       "</div>"
      ],
      "text/plain": [
       "         treat  age  educ  black  hispan  married  nodegree         re74  \\\n",
       "PSID69       0   30    17      1       0        0         0  17827.37000   \n",
       "PSID111      0   51    11      0       0        0         1     48.98167   \n",
       "PSID370      0   16     9      1       0        0         1      0.00000   \n",
       "PSID226      0   39    10      1       0        0         1    844.44400   \n",
       "PSID140      0   19     9      1       0        0         1   1079.55600   \n",
       "...        ...  ...   ...    ...     ...      ...       ...          ...   \n",
       "PSID239      0   18    11      0       1        0         1      0.00000   \n",
       "PSID76       0   26    12      0       1        0         0   7968.33800   \n",
       "PSID380      0   34    12      1       0        1         0      0.00000   \n",
       "PSID24       0   47     8      1       0        1         1   9275.16900   \n",
       "PSID269      0   23    13      1       0        0         0    172.41550   \n",
       "\n",
       "              re75        re78  \n",
       "PSID69   5546.4190  14421.1300  \n",
       "PSID111  3813.3870   1525.0140  \n",
       "PSID370     0.0000   2158.9590  \n",
       "PSID226   889.7903    701.9201  \n",
       "PSID140  2873.4680  14344.2900  \n",
       "...            ...         ...  \n",
       "PSID239   630.1935      0.0000  \n",
       "PSID76   5109.5810   4181.9660  \n",
       "PSID380     0.0000  18716.8800  \n",
       "PSID24   8543.4190      0.0000  \n",
       "PSID269   272.1290    582.2243  \n",
       "\n",
       "[185 rows x 10 columns]"
      ]
     },
     "execution_count": 26,
     "metadata": {},
     "output_type": "execute_result"
    }
   ],
   "source": [
    "matched=pd.DataFrame()\n",
    "for n in neigh:\n",
    "    matched=matched.append(lalonde_df.loc[control.iloc[[n[0]]]['index']])\n",
    "matched"
   ]
  },
  {
   "cell_type": "code",
   "execution_count": 27,
   "metadata": {},
   "outputs": [],
   "source": [
    "#Previously create this Df in ex 3.2\n",
    "treatment=treatment.set_index('index')"
   ]
  },
  {
   "cell_type": "code",
   "execution_count": 28,
   "metadata": {},
   "outputs": [
    {
     "data": {
      "text/html": [
       "<div>\n",
       "<style scoped>\n",
       "    .dataframe tbody tr th:only-of-type {\n",
       "        vertical-align: middle;\n",
       "    }\n",
       "\n",
       "    .dataframe tbody tr th {\n",
       "        vertical-align: top;\n",
       "    }\n",
       "\n",
       "    .dataframe thead th {\n",
       "        text-align: right;\n",
       "    }\n",
       "</style>\n",
       "<table border=\"1\" class=\"dataframe\">\n",
       "  <thead>\n",
       "    <tr style=\"text-align: right;\">\n",
       "      <th></th>\n",
       "      <th>treat</th>\n",
       "      <th>age</th>\n",
       "      <th>educ</th>\n",
       "      <th>black</th>\n",
       "      <th>hispan</th>\n",
       "      <th>married</th>\n",
       "      <th>nodegree</th>\n",
       "      <th>re74</th>\n",
       "      <th>re75</th>\n",
       "      <th>re78</th>\n",
       "      <th>pscore</th>\n",
       "    </tr>\n",
       "    <tr>\n",
       "      <th>index</th>\n",
       "      <th></th>\n",
       "      <th></th>\n",
       "      <th></th>\n",
       "      <th></th>\n",
       "      <th></th>\n",
       "      <th></th>\n",
       "      <th></th>\n",
       "      <th></th>\n",
       "      <th></th>\n",
       "      <th></th>\n",
       "      <th></th>\n",
       "    </tr>\n",
       "  </thead>\n",
       "  <tbody>\n",
       "    <tr>\n",
       "      <th>NSW1</th>\n",
       "      <td>1</td>\n",
       "      <td>37</td>\n",
       "      <td>11</td>\n",
       "      <td>1</td>\n",
       "      <td>0</td>\n",
       "      <td>1</td>\n",
       "      <td>1</td>\n",
       "      <td>0.00</td>\n",
       "      <td>0.00</td>\n",
       "      <td>9930.0460</td>\n",
       "      <td>0.638770</td>\n",
       "    </tr>\n",
       "    <tr>\n",
       "      <th>NSW2</th>\n",
       "      <td>1</td>\n",
       "      <td>22</td>\n",
       "      <td>9</td>\n",
       "      <td>0</td>\n",
       "      <td>1</td>\n",
       "      <td>0</td>\n",
       "      <td>1</td>\n",
       "      <td>0.00</td>\n",
       "      <td>0.00</td>\n",
       "      <td>3595.8940</td>\n",
       "      <td>0.224634</td>\n",
       "    </tr>\n",
       "    <tr>\n",
       "      <th>NSW3</th>\n",
       "      <td>1</td>\n",
       "      <td>30</td>\n",
       "      <td>12</td>\n",
       "      <td>1</td>\n",
       "      <td>0</td>\n",
       "      <td>0</td>\n",
       "      <td>0</td>\n",
       "      <td>0.00</td>\n",
       "      <td>0.00</td>\n",
       "      <td>24909.4500</td>\n",
       "      <td>0.678244</td>\n",
       "    </tr>\n",
       "    <tr>\n",
       "      <th>NSW4</th>\n",
       "      <td>1</td>\n",
       "      <td>27</td>\n",
       "      <td>11</td>\n",
       "      <td>1</td>\n",
       "      <td>0</td>\n",
       "      <td>0</td>\n",
       "      <td>1</td>\n",
       "      <td>0.00</td>\n",
       "      <td>0.00</td>\n",
       "      <td>7506.1460</td>\n",
       "      <td>0.776324</td>\n",
       "    </tr>\n",
       "    <tr>\n",
       "      <th>NSW5</th>\n",
       "      <td>1</td>\n",
       "      <td>33</td>\n",
       "      <td>8</td>\n",
       "      <td>1</td>\n",
       "      <td>0</td>\n",
       "      <td>0</td>\n",
       "      <td>1</td>\n",
       "      <td>0.00</td>\n",
       "      <td>0.00</td>\n",
       "      <td>289.7899</td>\n",
       "      <td>0.701639</td>\n",
       "    </tr>\n",
       "    <tr>\n",
       "      <th>...</th>\n",
       "      <td>...</td>\n",
       "      <td>...</td>\n",
       "      <td>...</td>\n",
       "      <td>...</td>\n",
       "      <td>...</td>\n",
       "      <td>...</td>\n",
       "      <td>...</td>\n",
       "      <td>...</td>\n",
       "      <td>...</td>\n",
       "      <td>...</td>\n",
       "      <td>...</td>\n",
       "    </tr>\n",
       "    <tr>\n",
       "      <th>NSW181</th>\n",
       "      <td>1</td>\n",
       "      <td>33</td>\n",
       "      <td>12</td>\n",
       "      <td>1</td>\n",
       "      <td>0</td>\n",
       "      <td>1</td>\n",
       "      <td>0</td>\n",
       "      <td>20279.95</td>\n",
       "      <td>10941.35</td>\n",
       "      <td>15952.6000</td>\n",
       "      <td>0.287016</td>\n",
       "    </tr>\n",
       "    <tr>\n",
       "      <th>NSW182</th>\n",
       "      <td>1</td>\n",
       "      <td>25</td>\n",
       "      <td>14</td>\n",
       "      <td>1</td>\n",
       "      <td>0</td>\n",
       "      <td>1</td>\n",
       "      <td>0</td>\n",
       "      <td>35040.07</td>\n",
       "      <td>11536.57</td>\n",
       "      <td>36646.9500</td>\n",
       "      <td>0.149168</td>\n",
       "    </tr>\n",
       "    <tr>\n",
       "      <th>NSW183</th>\n",
       "      <td>1</td>\n",
       "      <td>35</td>\n",
       "      <td>9</td>\n",
       "      <td>1</td>\n",
       "      <td>0</td>\n",
       "      <td>1</td>\n",
       "      <td>1</td>\n",
       "      <td>13602.43</td>\n",
       "      <td>13830.64</td>\n",
       "      <td>12803.9700</td>\n",
       "      <td>0.494681</td>\n",
       "    </tr>\n",
       "    <tr>\n",
       "      <th>NSW184</th>\n",
       "      <td>1</td>\n",
       "      <td>35</td>\n",
       "      <td>8</td>\n",
       "      <td>1</td>\n",
       "      <td>0</td>\n",
       "      <td>1</td>\n",
       "      <td>1</td>\n",
       "      <td>13732.07</td>\n",
       "      <td>17976.15</td>\n",
       "      <td>3786.6280</td>\n",
       "      <td>0.507418</td>\n",
       "    </tr>\n",
       "    <tr>\n",
       "      <th>NSW185</th>\n",
       "      <td>1</td>\n",
       "      <td>33</td>\n",
       "      <td>11</td>\n",
       "      <td>1</td>\n",
       "      <td>0</td>\n",
       "      <td>1</td>\n",
       "      <td>1</td>\n",
       "      <td>14660.71</td>\n",
       "      <td>25142.24</td>\n",
       "      <td>4181.9420</td>\n",
       "      <td>0.689629</td>\n",
       "    </tr>\n",
       "  </tbody>\n",
       "</table>\n",
       "<p>185 rows × 11 columns</p>\n",
       "</div>"
      ],
      "text/plain": [
       "        treat  age  educ  black  hispan  married  nodegree      re74  \\\n",
       "index                                                                  \n",
       "NSW1        1   37    11      1       0        1         1      0.00   \n",
       "NSW2        1   22     9      0       1        0         1      0.00   \n",
       "NSW3        1   30    12      1       0        0         0      0.00   \n",
       "NSW4        1   27    11      1       0        0         1      0.00   \n",
       "NSW5        1   33     8      1       0        0         1      0.00   \n",
       "...       ...  ...   ...    ...     ...      ...       ...       ...   \n",
       "NSW181      1   33    12      1       0        1         0  20279.95   \n",
       "NSW182      1   25    14      1       0        1         0  35040.07   \n",
       "NSW183      1   35     9      1       0        1         1  13602.43   \n",
       "NSW184      1   35     8      1       0        1         1  13732.07   \n",
       "NSW185      1   33    11      1       0        1         1  14660.71   \n",
       "\n",
       "            re75        re78    pscore  \n",
       "index                                   \n",
       "NSW1        0.00   9930.0460  0.638770  \n",
       "NSW2        0.00   3595.8940  0.224634  \n",
       "NSW3        0.00  24909.4500  0.678244  \n",
       "NSW4        0.00   7506.1460  0.776324  \n",
       "NSW5        0.00    289.7899  0.701639  \n",
       "...          ...         ...       ...  \n",
       "NSW181  10941.35  15952.6000  0.287016  \n",
       "NSW182  11536.57  36646.9500  0.149168  \n",
       "NSW183  13830.64  12803.9700  0.494681  \n",
       "NSW184  17976.15   3786.6280  0.507418  \n",
       "NSW185  25142.24   4181.9420  0.689629  \n",
       "\n",
       "[185 rows x 11 columns]"
      ]
     },
     "execution_count": 28,
     "metadata": {},
     "output_type": "execute_result"
    }
   ],
   "source": [
    "treatment"
   ]
  },
  {
   "cell_type": "markdown",
   "metadata": {},
   "source": [
    "---------"
   ]
  },
  {
   "cell_type": "markdown",
   "metadata": {},
   "source": [
    "### Propensity score distribution plot after matching\n",
    "\n",
    "Let's take a glance at the distribution of propensity score after matching. Both groups have similar distributions on the propensity score. This means we have reach a balance in both groups. This enables us to further analyze the causality effect of the treatment."
   ]
  },
  {
   "cell_type": "markdown",
   "metadata": {},
   "source": [
    "### Exercise 5:\n",
    "\n",
    "Make a plot which shows the histograms of propensity scores for the control and treatment groups after matching. Compare your results with the plot in Exercise 3.2."
   ]
  },
  {
   "cell_type": "markdown",
   "metadata": {},
   "source": [
    "**Answer.**"
   ]
  },
  {
   "cell_type": "markdown",
   "metadata": {},
   "source": [
    "---------"
   ]
  },
  {
   "cell_type": "code",
   "execution_count": 29,
   "metadata": {},
   "outputs": [
    {
     "data": {
      "text/plain": [
       "Text(0.5, 1.0, 'pscores for the treatment Group')"
      ]
     },
     "execution_count": 29,
     "metadata": {},
     "output_type": "execute_result"
    },
    {
     "data": {
      "image/png": "[encoded data removed]",
      "text/plain": [
       "<Figure size 432x288 with 1 Axes>"
      ]
     },
     "metadata": {},
     "output_type": "display_data"
    }
   ],
   "source": [
    "treatment.pscore.plot.hist()\n",
    "plt.title('pscores for the treatment Group')"
   ]
  },
  {
   "cell_type": "code",
   "execution_count": 30,
   "metadata": {},
   "outputs": [
    {
     "data": {
      "text/plain": [
       "Text(0.5, 1.0, 'pscores for the matches control Group')"
      ]
     },
     "execution_count": 30,
     "metadata": {},
     "output_type": "execute_result"
    },
    {
     "data": {
      "image/png": "[encoded data removed]",
      "text/plain": [
       "<Figure size 432x288 with 1 Axes>"
      ]
     },
     "metadata": {},
     "output_type": "display_data"
    }
   ],
   "source": [
    "matched=matched.merge(pscore_logit,left_index=True,right_on='index')\n",
    "matched.pscore.plot.hist()\n",
    "plt.title('pscores for the matches control Group')"
   ]
  },
  {
   "cell_type": "markdown",
   "metadata": {},
   "source": [
    "### Exercise 6:\n",
    "\n",
    "Assess covariate balance after the $k$-NN matching.  For this, compute the absolute standardized differences in means in the covariates after matching,  $$ASMD_a(x)=\\frac{\\bar{x}_{t,a}-{\\bar{x}_{c,a}}}{\\sqrt{\\frac{s^{2}_{t,b} + s^{2}_{c,b}}{2}}},$$ where $\\bar{x}_{t,a}$ and $\\bar{x}_{c,a}$ are, respectively, the means of covariate $x$ in the treatment and control groups after matching, and $s^{2}_{t,b}$ and $s^{2}_{c,b}$ are, correspondingly, the sample variances treatment and control groups before matching. \n",
    "\n",
    "One reason to use the sample variances before matching rather than the sample variances after matching is to free the comparisons of the means after matching from simultaneous changes in the variances. Comment on covariate balance."
   ]
  },
  {
   "cell_type": "markdown",
   "metadata": {},
   "source": [
    "**Answer.**"
   ]
  },
  {
   "cell_type": "code",
   "execution_count": 31,
   "metadata": {},
   "outputs": [],
   "source": [
    "def ASMD(treatment,control,matched):\n",
    "    smd=abs((treatment.mean()-matched.mean())/(np.sqrt((treatment.std()**2 + control.std()**2)/2)))\n",
    "    return smd"
   ]
  },
  {
   "cell_type": "code",
   "execution_count": 32,
   "metadata": {},
   "outputs": [
    {
     "data": {
      "text/plain": [
       "Index(['treat', 'age', 'educ', 'black', 'hispan', 'married', 'nodegree',\n",
       "       're74', 're75', 're78'],\n",
       "      dtype='object')"
      ]
     },
     "execution_count": 32,
     "metadata": {},
     "output_type": "execute_result"
    }
   ],
   "source": [
    "names"
   ]
  },
  {
   "cell_type": "code",
   "execution_count": 33,
   "metadata": {},
   "outputs": [
    {
     "data": {
      "text/html": [
       "<div>\n",
       "<style scoped>\n",
       "    .dataframe tbody tr th:only-of-type {\n",
       "        vertical-align: middle;\n",
       "    }\n",
       "\n",
       "    .dataframe tbody tr th {\n",
       "        vertical-align: top;\n",
       "    }\n",
       "\n",
       "    .dataframe thead th {\n",
       "        text-align: right;\n",
       "    }\n",
       "</style>\n",
       "<table border=\"1\" class=\"dataframe\">\n",
       "  <thead>\n",
       "    <tr style=\"text-align: right;\">\n",
       "      <th></th>\n",
       "      <th>treat</th>\n",
       "      <th>age</th>\n",
       "      <th>educ</th>\n",
       "      <th>black</th>\n",
       "      <th>hispan</th>\n",
       "      <th>married</th>\n",
       "      <th>nodegree</th>\n",
       "      <th>re74</th>\n",
       "      <th>re75</th>\n",
       "      <th>re78</th>\n",
       "    </tr>\n",
       "  </thead>\n",
       "  <tbody>\n",
       "    <tr>\n",
       "      <th>0</th>\n",
       "      <td>inf</td>\n",
       "      <td>0.187213</td>\n",
       "      <td>0.013134</td>\n",
       "      <td>0.014076</td>\n",
       "      <td>0.018094</td>\n",
       "      <td>0.132189</td>\n",
       "      <td>0.011408</td>\n",
       "      <td>0.040728</td>\n",
       "      <td>0.008639</td>\n",
       "      <td>0.233907</td>\n",
       "    </tr>\n",
       "  </tbody>\n",
       "</table>\n",
       "</div>"
      ],
      "text/plain": [
       "   treat       age      educ     black    hispan   married  nodegree  \\\n",
       "0    inf  0.187213  0.013134  0.014076  0.018094  0.132189  0.011408   \n",
       "\n",
       "       re74      re75      re78  \n",
       "0  0.040728  0.008639  0.233907  "
      ]
     },
     "execution_count": 33,
     "metadata": {},
     "output_type": "execute_result"
    }
   ],
   "source": [
    "names=treatment.columns[:-1]\n",
    "asmd=pd.DataFrame()\n",
    "for name in names:\n",
    "    asmd[name]= [ASMD(treatment[name],control[name],matched[name])]\n",
    "asmd"
   ]
  },
  {
   "cell_type": "markdown",
   "metadata": {},
   "source": [
    "With the matching that was performed we can see that now all the variables are balanced except for re78"
   ]
  },
  {
   "cell_type": "markdown",
   "metadata": {},
   "source": [
    "---------"
   ]
  },
  {
   "cell_type": "markdown",
   "metadata": {},
   "source": [
    "### Exercise 7:\n",
    "\n",
    "Estimate the average effect of treatment on <font color='red'> wages (`re78`) </font> after matching. What do you conclude?"
   ]
  },
  {
   "cell_type": "markdown",
   "metadata": {},
   "source": [
    "**Answer.**"
   ]
  },
  {
   "cell_type": "code",
   "execution_count": 34,
   "metadata": {},
   "outputs": [
    {
     "name": "stdout",
     "output_type": "stream",
     "text": [
      "t = 2.50360661035708\n",
      "p = 0.012725784509926862\n"
     ]
    }
   ],
   "source": [
    "## A simple t test for difference of means\n",
    "t2, p2 = stats.ttest_ind(treatment.re78,matched.re78)\n",
    "print(\"t = \" + str(t2))\n",
    "print(\"p = \" + str(p2))"
   ]
  },
  {
   "cell_type": "markdown",
   "metadata": {},
   "source": [
    "Thanks to the t test we can conclude that the average of re74 between these two groups is different, but it must be taken into account that this variable is not balanced according to the result in the previous excercise."
   ]
  },
  {
   "cell_type": "markdown",
   "metadata": {},
   "source": [
    "---------"
   ]
  },
  {
   "cell_type": "markdown",
   "metadata": {},
   "source": [
    "## Propensity score matching using decision trees and random forests"
   ]
  },
  {
   "cell_type": "markdown",
   "metadata": {},
   "source": [
    "### Exercise 8:\n",
    "\n",
    "To validate our propensity score calculations, let's try calculating them using other models such as decision trees and random forests."
   ]
  },
  {
   "cell_type": "markdown",
   "metadata": {},
   "source": [
    "#### 8.1\n",
    "\n",
    "Build a decision tree regressor where the outcome variable is whether a subject was in the treatment group or not, and the covariates are all the other variables except `re78`. Use the `sklearn.tree` function `DecisionTreeRegressor(max_depth=4)` and call the new propensity scores `pscore_tree`."
   ]
  },
  {
   "cell_type": "markdown",
   "metadata": {},
   "source": [
    "**Answer.**"
   ]
  },
  {
   "cell_type": "code",
   "execution_count": 35,
   "metadata": {},
   "outputs": [],
   "source": [
    "treeclf = tree.DecisionTreeClassifier(max_depth = 4)\n",
    "\n",
    "# Train Decision Tree Classifer\n",
    "\n",
    "\n",
    "treeclf = treeclf.fit(lalonde_df[['age', 'educ', 'black', 'hispan', 'married', 'nodegree','re74', 're75']], lalonde_df['treat'])"
   ]
  },
  {
   "cell_type": "code",
   "execution_count": 36,
   "metadata": {},
   "outputs": [],
   "source": [
    "pscore_tree=treeclf.predict_proba(lalonde_copy[['age', 'educ', 'black', 'hispan', 'married', 'nodegree','re74', 're75']])[:,1]"
   ]
  },
  {
   "cell_type": "markdown",
   "metadata": {},
   "source": [
    "---------"
   ]
  },
  {
   "cell_type": "markdown",
   "metadata": {},
   "source": [
    "#### 8.2\n",
    "\n",
    "Plot the decision tree regressor using the code\n",
    "\n",
    "```\n",
    "fig = plt.gcf()\n",
    "fig.set_size_inches(150, 100)\n",
    "tree.plot_tree(dt,filled=True,feature_names=cleaned_df.columns)\n",
    "fig.savefig('tree.png')\n",
    "```\n",
    "\n",
    "Replace `dt` with the name of the model created in Exercise 8.1. Use the plot to estimate the probability that a 24 year old, single, uneducated Hispanic individual that earned $\\$20000$ in 1974 was enrolled in the employment program. Do the same with a black man with the same characteristics. (Assume that there were no black Hispanics in the study.)"
   ]
  },
  {
   "cell_type": "markdown",
   "metadata": {},
   "source": [
    "**Answer.**"
   ]
  },
  {
   "cell_type": "code",
   "execution_count": 37,
   "metadata": {},
   "outputs": [
    {
     "data": {
      "image/png": "[encoded data removed]",
      "text/plain": [
       "<IPython.core.display.Image object>"
      ]
     },
     "execution_count": 37,
     "metadata": {},
     "output_type": "execute_result"
    }
   ],
   "source": [
    "from io import StringIO\n",
    "from sklearn.tree import export_graphviz\n",
    "import pydotplus\n",
    "from IPython.display import Image, SVG\n",
    "from graphviz import Source\n",
    "\n",
    "dot_data = StringIO()\n",
    "export_graphviz(treeclf, out_file=dot_data, feature_names = ['age', 'educ', 'black', 'hispan', 'married', 'nodegree','re74', 're75'],\n",
    "                class_names=['control','treatment'],  \n",
    "                filled=True, rounded=True,\n",
    "                special_characters=True, \n",
    "                impurity='gini', proportion=True)\n",
    "\n",
    "graph = pydotplus.graph_from_dot_data(dot_data.getvalue())  \n",
    "Image(graph.create_png())"
   ]
  },
  {
   "cell_type": "markdown",
   "metadata": {},
   "source": [
    "- For the first case, the tree would answer that this person is in the control group\n",
    "- For the second case, the tree would answer that this person is in the control group"
   ]
  },
  {
   "cell_type": "markdown",
   "metadata": {},
   "source": [
    "---------"
   ]
  },
  {
   "cell_type": "markdown",
   "metadata": {},
   "source": [
    "#### 8.3\n",
    "\n",
    "Estimate the propensity scores now by using random forests. For the model, use the `sklearn.ensemble` function `RandomForestClassifier` with parameters `n_estimators=100, max_depth=4, random_state=42`. Then, use the method `predict_proba` to extract the propensity scores. Name the scores `pscore_forest`."
   ]
  },
  {
   "cell_type": "markdown",
   "metadata": {},
   "source": [
    "**Answer.**"
   ]
  },
  {
   "cell_type": "code",
   "execution_count": 38,
   "metadata": {},
   "outputs": [],
   "source": [
    "clf_rf = ensemble.RandomForestClassifier(n_estimators=100, max_depth=4, random_state=42)\n",
    "clf_rf.fit(lalonde_df[['age', 'educ', 'black', 'hispan', 'married', 'nodegree','re74', 're75']], lalonde_df['treat'])\n",
    "pscore_forest=clf_rf.predict_proba(lalonde_df[['age', 'educ', 'black', 'hispan', 'married', 'nodegree','re74', 're75']])[:,1]"
   ]
  },
  {
   "cell_type": "markdown",
   "metadata": {},
   "source": [
    "---------"
   ]
  },
  {
   "cell_type": "markdown",
   "metadata": {},
   "source": [
    "#### 8.4\n",
    "\n",
    "Make a plot with the three ROC curves corresponding to the logistic regression, decision tree, and random forest classifiers used to compute the propensity scores. What is the AUC of each model? Which model *seems* to do the best job?"
   ]
  },
  {
   "cell_type": "markdown",
   "metadata": {},
   "source": [
    "**Answer.**"
   ]
  },
  {
   "cell_type": "code",
   "execution_count": 39,
   "metadata": {},
   "outputs": [],
   "source": [
    "from sklearn.metrics import roc_curve, auc, accuracy_score"
   ]
  },
  {
   "cell_type": "code",
   "execution_count": 40,
   "metadata": {},
   "outputs": [
    {
     "data": {
      "image/png": "[encoded data removed]",
      "text/plain": [
       "<Figure size 432x288 with 1 Axes>"
      ]
     },
     "metadata": {},
     "output_type": "display_data"
    }
   ],
   "source": [
    "#Next we plot the ROC curve:\n",
    "roc_vs = roc_curve(lalonde_df['treat'], pscore_logit['pscore'])\n",
    "auc_vs = auc( roc_vs[0], roc_vs[1] )\n",
    "\n",
    "roc_tr = roc_curve(lalonde_df['treat'], pscore_tree)\n",
    "auc_tr = auc( roc_tr[0], roc_tr[1] )\n",
    "\n",
    "roc_fo = roc_curve(lalonde_df['treat'], pscore_forest)\n",
    "auc_fo = auc( roc_fo[0], roc_fo[1] )\n",
    "\n",
    "plt.figure()\n",
    "line_width = 2\n",
    "plt.plot(roc_vs[0], roc_vs[1], color='darkorange', lw=line_width,\n",
    "         label=f\"ROC based on Logit model (AUC = {auc_vs:0.2f})\")\n",
    "plt.plot(roc_tr[0], roc_tr[1], color='blue', lw=line_width,\n",
    "         label=f\"ROC based on Tree model (AUC = {auc_tr:0.2f})\")\n",
    "plt.plot(roc_fo[0], roc_fo[1], color='red', lw=line_width,\n",
    "         label=f\"ROC based on Random Forest model (AUC = {auc_fo:0.2f})\")\n",
    "plt.plot([0, 1], [0, 1], color='navy', lw=line_width, linestyle='--', label='Random guess')\n",
    "plt.xlim([0.0, 1.0])\n",
    "plt.ylim([0.0, 1.05])\n",
    "plt.xlabel('False Positive Rate')\n",
    "plt.ylabel('True Positive Rate')\n",
    "plt.title('Classification of People on treatment')\n",
    "plt.legend(loc='lower right')\n",
    "plt.show()"
   ]
  },
  {
   "cell_type": "markdown",
   "metadata": {},
   "source": [
    "Apparently random forest is the model that best classifies these groups, but we have to take into account overfiting problems by not dividing the dataframe between training and testing"
   ]
  },
  {
   "cell_type": "markdown",
   "metadata": {},
   "source": [
    "---------"
   ]
  },
  {
   "cell_type": "markdown",
   "metadata": {},
   "source": [
    "#### 8.5\n",
    "\n",
    "Consider the following statement:\n",
    "\n",
    ">  \"*A model with a higher AUC provides much better estimates of the true propensity scores. In particular, a matching using the propensity scores of such a model will balance the covariates much better.*\"\n",
    "\n",
    "Is the statement true or false? Explain. "
   ]
  },
  {
   "cell_type": "markdown",
   "metadata": {},
   "source": [
    "**Answer.**"
   ]
  },
  {
   "cell_type": "markdown",
   "metadata": {},
   "source": [
    "It is not totally true, there is a model such as the regression tree where it delivers fixed values of pscore which are repeated in certain leafs, this model could have a good AUC compared to another model, but at the time of matching it does not will give balanced covariates"
   ]
  },
  {
   "cell_type": "markdown",
   "metadata": {},
   "source": [
    "---------"
   ]
  },
  {
   "cell_type": "markdown",
   "metadata": {
    "collapsed": true
   },
   "source": [
    "#### 8.6\n",
    "\n",
    "Repeat the matching procedure now with the estimated propensity scores `pscore_tree` and `pscore_forest`. Assess the covariate balances and estimate the average effect of treatment on wages (`re78`) after matching. Compare your results. "
   ]
  },
  {
   "cell_type": "markdown",
   "metadata": {},
   "source": [
    "**Answer.**"
   ]
  },
  {
   "cell_type": "code",
   "execution_count": 41,
   "metadata": {},
   "outputs": [],
   "source": [
    "lalonde_copy['pscore_tree']=pscore_tree\n",
    "lalonde_copy['pscore_forest']=pscore_forest\n",
    "control_pscores_tree=lalonde_copy[lalonde_copy.treat==0].pscore_tree\n",
    "control_pscores_forest=lalonde_copy[lalonde_copy.treat==0].pscore_forest\n",
    "treat_pscores_forest=lalonde_copy[lalonde_copy.treat==1].pscore_forest\n",
    "treat_pscores_tree=lalonde_copy[lalonde_copy.treat==1].pscore_forest"
   ]
  },
  {
   "cell_type": "code",
   "execution_count": 42,
   "metadata": {},
   "outputs": [
    {
     "data": {
      "text/html": [
       "<div>\n",
       "<style scoped>\n",
       "    .dataframe tbody tr th:only-of-type {\n",
       "        vertical-align: middle;\n",
       "    }\n",
       "\n",
       "    .dataframe tbody tr th {\n",
       "        vertical-align: top;\n",
       "    }\n",
       "\n",
       "    .dataframe thead th {\n",
       "        text-align: right;\n",
       "    }\n",
       "</style>\n",
       "<table border=\"1\" class=\"dataframe\">\n",
       "  <thead>\n",
       "    <tr style=\"text-align: right;\">\n",
       "      <th></th>\n",
       "      <th>age</th>\n",
       "      <th>black</th>\n",
       "      <th>educ</th>\n",
       "      <th>hispan</th>\n",
       "      <th>married</th>\n",
       "      <th>nodegree</th>\n",
       "      <th>re74</th>\n",
       "      <th>re75</th>\n",
       "      <th>re78</th>\n",
       "      <th>treat</th>\n",
       "    </tr>\n",
       "  </thead>\n",
       "  <tbody>\n",
       "    <tr>\n",
       "      <th>PSID218</th>\n",
       "      <td>17.0</td>\n",
       "      <td>1.0</td>\n",
       "      <td>9.0</td>\n",
       "      <td>0.0</td>\n",
       "      <td>0.0</td>\n",
       "      <td>1.0</td>\n",
       "      <td>0.000</td>\n",
       "      <td>981.0968</td>\n",
       "      <td>8900.347</td>\n",
       "      <td>0.0</td>\n",
       "    </tr>\n",
       "    <tr>\n",
       "      <th>PSID31</th>\n",
       "      <td>22.0</td>\n",
       "      <td>0.0</td>\n",
       "      <td>13.0</td>\n",
       "      <td>1.0</td>\n",
       "      <td>0.0</td>\n",
       "      <td>0.0</td>\n",
       "      <td>6404.843</td>\n",
       "      <td>7882.7900</td>\n",
       "      <td>9453.017</td>\n",
       "      <td>0.0</td>\n",
       "    </tr>\n",
       "    <tr>\n",
       "      <th>PSID218</th>\n",
       "      <td>17.0</td>\n",
       "      <td>1.0</td>\n",
       "      <td>9.0</td>\n",
       "      <td>0.0</td>\n",
       "      <td>0.0</td>\n",
       "      <td>1.0</td>\n",
       "      <td>0.000</td>\n",
       "      <td>981.0968</td>\n",
       "      <td>8900.347</td>\n",
       "      <td>0.0</td>\n",
       "    </tr>\n",
       "    <tr>\n",
       "      <th>PSID368</th>\n",
       "      <td>40.0</td>\n",
       "      <td>1.0</td>\n",
       "      <td>11.0</td>\n",
       "      <td>0.0</td>\n",
       "      <td>1.0</td>\n",
       "      <td>1.0</td>\n",
       "      <td>0.000</td>\n",
       "      <td>0.0000</td>\n",
       "      <td>0.000</td>\n",
       "      <td>0.0</td>\n",
       "    </tr>\n",
       "    <tr>\n",
       "      <th>PSID218</th>\n",
       "      <td>17.0</td>\n",
       "      <td>1.0</td>\n",
       "      <td>9.0</td>\n",
       "      <td>0.0</td>\n",
       "      <td>0.0</td>\n",
       "      <td>1.0</td>\n",
       "      <td>0.000</td>\n",
       "      <td>981.0968</td>\n",
       "      <td>8900.347</td>\n",
       "      <td>0.0</td>\n",
       "    </tr>\n",
       "    <tr>\n",
       "      <th>...</th>\n",
       "      <td>...</td>\n",
       "      <td>...</td>\n",
       "      <td>...</td>\n",
       "      <td>...</td>\n",
       "      <td>...</td>\n",
       "      <td>...</td>\n",
       "      <td>...</td>\n",
       "      <td>...</td>\n",
       "      <td>...</td>\n",
       "      <td>...</td>\n",
       "    </tr>\n",
       "    <tr>\n",
       "      <th>PSID31</th>\n",
       "      <td>22.0</td>\n",
       "      <td>0.0</td>\n",
       "      <td>13.0</td>\n",
       "      <td>1.0</td>\n",
       "      <td>0.0</td>\n",
       "      <td>0.0</td>\n",
       "      <td>6404.843</td>\n",
       "      <td>7882.7900</td>\n",
       "      <td>9453.017</td>\n",
       "      <td>0.0</td>\n",
       "    </tr>\n",
       "    <tr>\n",
       "      <th>PSID31</th>\n",
       "      <td>22.0</td>\n",
       "      <td>0.0</td>\n",
       "      <td>13.0</td>\n",
       "      <td>1.0</td>\n",
       "      <td>0.0</td>\n",
       "      <td>0.0</td>\n",
       "      <td>6404.843</td>\n",
       "      <td>7882.7900</td>\n",
       "      <td>9453.017</td>\n",
       "      <td>0.0</td>\n",
       "    </tr>\n",
       "    <tr>\n",
       "      <th>PSID31</th>\n",
       "      <td>22.0</td>\n",
       "      <td>0.0</td>\n",
       "      <td>13.0</td>\n",
       "      <td>1.0</td>\n",
       "      <td>0.0</td>\n",
       "      <td>0.0</td>\n",
       "      <td>6404.843</td>\n",
       "      <td>7882.7900</td>\n",
       "      <td>9453.017</td>\n",
       "      <td>0.0</td>\n",
       "    </tr>\n",
       "    <tr>\n",
       "      <th>PSID31</th>\n",
       "      <td>22.0</td>\n",
       "      <td>0.0</td>\n",
       "      <td>13.0</td>\n",
       "      <td>1.0</td>\n",
       "      <td>0.0</td>\n",
       "      <td>0.0</td>\n",
       "      <td>6404.843</td>\n",
       "      <td>7882.7900</td>\n",
       "      <td>9453.017</td>\n",
       "      <td>0.0</td>\n",
       "    </tr>\n",
       "    <tr>\n",
       "      <th>PSID153</th>\n",
       "      <td>21.0</td>\n",
       "      <td>0.0</td>\n",
       "      <td>12.0</td>\n",
       "      <td>0.0</td>\n",
       "      <td>0.0</td>\n",
       "      <td>0.0</td>\n",
       "      <td>2903.633</td>\n",
       "      <td>2456.3230</td>\n",
       "      <td>4787.834</td>\n",
       "      <td>0.0</td>\n",
       "    </tr>\n",
       "  </tbody>\n",
       "</table>\n",
       "<p>185 rows × 10 columns</p>\n",
       "</div>"
      ],
      "text/plain": [
       "          age  black  educ  hispan  married  nodegree      re74       re75  \\\n",
       "PSID218  17.0    1.0   9.0     0.0      0.0       1.0     0.000   981.0968   \n",
       "PSID31   22.0    0.0  13.0     1.0      0.0       0.0  6404.843  7882.7900   \n",
       "PSID218  17.0    1.0   9.0     0.0      0.0       1.0     0.000   981.0968   \n",
       "PSID368  40.0    1.0  11.0     0.0      1.0       1.0     0.000     0.0000   \n",
       "PSID218  17.0    1.0   9.0     0.0      0.0       1.0     0.000   981.0968   \n",
       "...       ...    ...   ...     ...      ...       ...       ...        ...   \n",
       "PSID31   22.0    0.0  13.0     1.0      0.0       0.0  6404.843  7882.7900   \n",
       "PSID31   22.0    0.0  13.0     1.0      0.0       0.0  6404.843  7882.7900   \n",
       "PSID31   22.0    0.0  13.0     1.0      0.0       0.0  6404.843  7882.7900   \n",
       "PSID31   22.0    0.0  13.0     1.0      0.0       0.0  6404.843  7882.7900   \n",
       "PSID153  21.0    0.0  12.0     0.0      0.0       0.0  2903.633  2456.3230   \n",
       "\n",
       "             re78  treat  \n",
       "PSID218  8900.347    0.0  \n",
       "PSID31   9453.017    0.0  \n",
       "PSID218  8900.347    0.0  \n",
       "PSID368     0.000    0.0  \n",
       "PSID218  8900.347    0.0  \n",
       "...           ...    ...  \n",
       "PSID31   9453.017    0.0  \n",
       "PSID31   9453.017    0.0  \n",
       "PSID31   9453.017    0.0  \n",
       "PSID31   9453.017    0.0  \n",
       "PSID153  4787.834    0.0  \n",
       "\n",
       "[185 rows x 10 columns]"
      ]
     },
     "execution_count": 42,
     "metadata": {},
     "output_type": "execute_result"
    }
   ],
   "source": [
    "knn_tree = neighbors.NearestNeighbors(n_neighbors=5,metric='euclidean')\n",
    "knn_tree.fit(np.array(control_pscores_tree).reshape(-1,1))\n",
    "neigh=knn_tree.kneighbors(np.array(treat_pscores_tree).reshape(-1,1))[1]\n",
    "matched_tree=pd.DataFrame()\n",
    "for n in neigh:\n",
    "    matched_tree=matched_tree.append(lalonde_df.loc[control_pscores_tree.iloc[[n[0]]].index[0]])\n",
    "matched_tree"
   ]
  },
  {
   "cell_type": "code",
   "execution_count": 43,
   "metadata": {},
   "outputs": [
    {
     "name": "stdout",
     "output_type": "stream",
     "text": [
      "t = 0.6421382498661233\n",
      "p = 0.5211832300231862\n"
     ]
    }
   ],
   "source": [
    "t2, p2 = stats.ttest_ind(treatment.re78,matched_tree.re78)\n",
    "print(\"t = \" + str(t2))\n",
    "print(\"p = \" + str(p2))"
   ]
  },
  {
   "cell_type": "code",
   "execution_count": 44,
   "metadata": {},
   "outputs": [
    {
     "data": {
      "text/html": [
       "<div>\n",
       "<style scoped>\n",
       "    .dataframe tbody tr th:only-of-type {\n",
       "        vertical-align: middle;\n",
       "    }\n",
       "\n",
       "    .dataframe tbody tr th {\n",
       "        vertical-align: top;\n",
       "    }\n",
       "\n",
       "    .dataframe thead th {\n",
       "        text-align: right;\n",
       "    }\n",
       "</style>\n",
       "<table border=\"1\" class=\"dataframe\">\n",
       "  <thead>\n",
       "    <tr style=\"text-align: right;\">\n",
       "      <th></th>\n",
       "      <th>treat</th>\n",
       "      <th>age</th>\n",
       "      <th>educ</th>\n",
       "      <th>black</th>\n",
       "      <th>hispan</th>\n",
       "      <th>married</th>\n",
       "      <th>nodegree</th>\n",
       "      <th>re74</th>\n",
       "      <th>re75</th>\n",
       "      <th>re78</th>\n",
       "    </tr>\n",
       "  </thead>\n",
       "  <tbody>\n",
       "    <tr>\n",
       "      <th>0</th>\n",
       "      <td>inf</td>\n",
       "      <td>0.58408</td>\n",
       "      <td>0.072238</td>\n",
       "      <td>0.591177</td>\n",
       "      <td>0.108566</td>\n",
       "      <td>0.096138</td>\n",
       "      <td>0.079856</td>\n",
       "      <td>0.153124</td>\n",
       "      <td>0.035444</td>\n",
       "      <td>0.054551</td>\n",
       "    </tr>\n",
       "  </tbody>\n",
       "</table>\n",
       "</div>"
      ],
      "text/plain": [
       "   treat      age      educ     black    hispan   married  nodegree      re74  \\\n",
       "0    inf  0.58408  0.072238  0.591177  0.108566  0.096138  0.079856  0.153124   \n",
       "\n",
       "       re75      re78  \n",
       "0  0.035444  0.054551  "
      ]
     },
     "execution_count": 44,
     "metadata": {},
     "output_type": "execute_result"
    }
   ],
   "source": [
    "names=treatment.columns[:-1]\n",
    "asmd=pd.DataFrame()\n",
    "for name in names:\n",
    "    asmd[name]= [ASMD(treatment[name],control[name],matched_tree[name])]\n",
    "asmd"
   ]
  },
  {
   "cell_type": "markdown",
   "metadata": {},
   "source": [
    "With the matching that was performed we can see that now all the variables are balanced except for black and age"
   ]
  },
  {
   "cell_type": "code",
   "execution_count": 45,
   "metadata": {},
   "outputs": [
    {
     "data": {
      "text/html": [
       "<div>\n",
       "<style scoped>\n",
       "    .dataframe tbody tr th:only-of-type {\n",
       "        vertical-align: middle;\n",
       "    }\n",
       "\n",
       "    .dataframe tbody tr th {\n",
       "        vertical-align: top;\n",
       "    }\n",
       "\n",
       "    .dataframe thead th {\n",
       "        text-align: right;\n",
       "    }\n",
       "</style>\n",
       "<table border=\"1\" class=\"dataframe\">\n",
       "  <thead>\n",
       "    <tr style=\"text-align: right;\">\n",
       "      <th></th>\n",
       "      <th>age</th>\n",
       "      <th>black</th>\n",
       "      <th>educ</th>\n",
       "      <th>hispan</th>\n",
       "      <th>married</th>\n",
       "      <th>nodegree</th>\n",
       "      <th>re74</th>\n",
       "      <th>re75</th>\n",
       "      <th>re78</th>\n",
       "      <th>treat</th>\n",
       "    </tr>\n",
       "  </thead>\n",
       "  <tbody>\n",
       "    <tr>\n",
       "      <th>PSID368</th>\n",
       "      <td>40.0</td>\n",
       "      <td>1.0</td>\n",
       "      <td>11.0</td>\n",
       "      <td>0.0</td>\n",
       "      <td>1.0</td>\n",
       "      <td>1.0</td>\n",
       "      <td>0.0000</td>\n",
       "      <td>0.000</td>\n",
       "      <td>0.0000</td>\n",
       "      <td>0.0</td>\n",
       "    </tr>\n",
       "    <tr>\n",
       "      <th>PSID48</th>\n",
       "      <td>25.0</td>\n",
       "      <td>1.0</td>\n",
       "      <td>12.0</td>\n",
       "      <td>0.0</td>\n",
       "      <td>1.0</td>\n",
       "      <td>0.0</td>\n",
       "      <td>295.8493</td>\n",
       "      <td>6942.871</td>\n",
       "      <td>461.0507</td>\n",
       "      <td>0.0</td>\n",
       "    </tr>\n",
       "    <tr>\n",
       "      <th>PSID423</th>\n",
       "      <td>27.0</td>\n",
       "      <td>1.0</td>\n",
       "      <td>10.0</td>\n",
       "      <td>0.0</td>\n",
       "      <td>0.0</td>\n",
       "      <td>1.0</td>\n",
       "      <td>0.0000</td>\n",
       "      <td>0.000</td>\n",
       "      <td>7543.7940</td>\n",
       "      <td>0.0</td>\n",
       "    </tr>\n",
       "    <tr>\n",
       "      <th>PSID423</th>\n",
       "      <td>27.0</td>\n",
       "      <td>1.0</td>\n",
       "      <td>10.0</td>\n",
       "      <td>0.0</td>\n",
       "      <td>0.0</td>\n",
       "      <td>1.0</td>\n",
       "      <td>0.0000</td>\n",
       "      <td>0.000</td>\n",
       "      <td>7543.7940</td>\n",
       "      <td>0.0</td>\n",
       "    </tr>\n",
       "    <tr>\n",
       "      <th>PSID416</th>\n",
       "      <td>34.0</td>\n",
       "      <td>1.0</td>\n",
       "      <td>12.0</td>\n",
       "      <td>0.0</td>\n",
       "      <td>0.0</td>\n",
       "      <td>0.0</td>\n",
       "      <td>0.0000</td>\n",
       "      <td>0.000</td>\n",
       "      <td>0.0000</td>\n",
       "      <td>0.0</td>\n",
       "    </tr>\n",
       "    <tr>\n",
       "      <th>...</th>\n",
       "      <td>...</td>\n",
       "      <td>...</td>\n",
       "      <td>...</td>\n",
       "      <td>...</td>\n",
       "      <td>...</td>\n",
       "      <td>...</td>\n",
       "      <td>...</td>\n",
       "      <td>...</td>\n",
       "      <td>...</td>\n",
       "      <td>...</td>\n",
       "    </tr>\n",
       "    <tr>\n",
       "      <th>PSID96</th>\n",
       "      <td>47.0</td>\n",
       "      <td>1.0</td>\n",
       "      <td>10.0</td>\n",
       "      <td>0.0</td>\n",
       "      <td>0.0</td>\n",
       "      <td>1.0</td>\n",
       "      <td>21918.3200</td>\n",
       "      <td>4323.629</td>\n",
       "      <td>19438.0200</td>\n",
       "      <td>0.0</td>\n",
       "    </tr>\n",
       "    <tr>\n",
       "      <th>PSID140</th>\n",
       "      <td>19.0</td>\n",
       "      <td>1.0</td>\n",
       "      <td>9.0</td>\n",
       "      <td>0.0</td>\n",
       "      <td>0.0</td>\n",
       "      <td>1.0</td>\n",
       "      <td>1079.5560</td>\n",
       "      <td>2873.468</td>\n",
       "      <td>14344.2900</td>\n",
       "      <td>0.0</td>\n",
       "    </tr>\n",
       "    <tr>\n",
       "      <th>PSID140</th>\n",
       "      <td>19.0</td>\n",
       "      <td>1.0</td>\n",
       "      <td>9.0</td>\n",
       "      <td>0.0</td>\n",
       "      <td>0.0</td>\n",
       "      <td>1.0</td>\n",
       "      <td>1079.5560</td>\n",
       "      <td>2873.468</td>\n",
       "      <td>14344.2900</td>\n",
       "      <td>0.0</td>\n",
       "    </tr>\n",
       "    <tr>\n",
       "      <th>PSID99</th>\n",
       "      <td>28.0</td>\n",
       "      <td>1.0</td>\n",
       "      <td>12.0</td>\n",
       "      <td>0.0</td>\n",
       "      <td>0.0</td>\n",
       "      <td>0.0</td>\n",
       "      <td>16722.3400</td>\n",
       "      <td>4253.806</td>\n",
       "      <td>7314.7470</td>\n",
       "      <td>0.0</td>\n",
       "    </tr>\n",
       "    <tr>\n",
       "      <th>PSID134</th>\n",
       "      <td>19.0</td>\n",
       "      <td>1.0</td>\n",
       "      <td>11.0</td>\n",
       "      <td>0.0</td>\n",
       "      <td>0.0</td>\n",
       "      <td>1.0</td>\n",
       "      <td>5607.4220</td>\n",
       "      <td>3054.290</td>\n",
       "      <td>94.5745</td>\n",
       "      <td>0.0</td>\n",
       "    </tr>\n",
       "  </tbody>\n",
       "</table>\n",
       "<p>185 rows × 10 columns</p>\n",
       "</div>"
      ],
      "text/plain": [
       "          age  black  educ  hispan  married  nodegree        re74      re75  \\\n",
       "PSID368  40.0    1.0  11.0     0.0      1.0       1.0      0.0000     0.000   \n",
       "PSID48   25.0    1.0  12.0     0.0      1.0       0.0    295.8493  6942.871   \n",
       "PSID423  27.0    1.0  10.0     0.0      0.0       1.0      0.0000     0.000   \n",
       "PSID423  27.0    1.0  10.0     0.0      0.0       1.0      0.0000     0.000   \n",
       "PSID416  34.0    1.0  12.0     0.0      0.0       0.0      0.0000     0.000   \n",
       "...       ...    ...   ...     ...      ...       ...         ...       ...   \n",
       "PSID96   47.0    1.0  10.0     0.0      0.0       1.0  21918.3200  4323.629   \n",
       "PSID140  19.0    1.0   9.0     0.0      0.0       1.0   1079.5560  2873.468   \n",
       "PSID140  19.0    1.0   9.0     0.0      0.0       1.0   1079.5560  2873.468   \n",
       "PSID99   28.0    1.0  12.0     0.0      0.0       0.0  16722.3400  4253.806   \n",
       "PSID134  19.0    1.0  11.0     0.0      0.0       1.0   5607.4220  3054.290   \n",
       "\n",
       "               re78  treat  \n",
       "PSID368      0.0000    0.0  \n",
       "PSID48     461.0507    0.0  \n",
       "PSID423   7543.7940    0.0  \n",
       "PSID423   7543.7940    0.0  \n",
       "PSID416      0.0000    0.0  \n",
       "...             ...    ...  \n",
       "PSID96   19438.0200    0.0  \n",
       "PSID140  14344.2900    0.0  \n",
       "PSID140  14344.2900    0.0  \n",
       "PSID99    7314.7470    0.0  \n",
       "PSID134     94.5745    0.0  \n",
       "\n",
       "[185 rows x 10 columns]"
      ]
     },
     "execution_count": 45,
     "metadata": {},
     "output_type": "execute_result"
    }
   ],
   "source": [
    "knn_forest = neighbors.NearestNeighbors(n_neighbors=5,metric='euclidean')\n",
    "knn_forest.fit(np.array(control_pscores_forest).reshape(-1,1))\n",
    "neigh=knn_forest.kneighbors(np.array(treat_pscores_forest).reshape(-1,1))[1]\n",
    "matched_forest=pd.DataFrame()\n",
    "for n in neigh:\n",
    "    matched_forest=matched_forest.append(lalonde_df.loc[control_pscores_forest.iloc[[n[0]]].index[0]])\n",
    "matched_forest"
   ]
  },
  {
   "cell_type": "code",
   "execution_count": 46,
   "metadata": {},
   "outputs": [
    {
     "name": "stdout",
     "output_type": "stream",
     "text": [
      "t = 1.0507646096358394\n",
      "p = 0.29405623439808076\n"
     ]
    }
   ],
   "source": [
    "t2, p2 = stats.ttest_ind(treatment.re78,matched_forest.re78)\n",
    "print(\"t = \" + str(t2))\n",
    "print(\"p = \" + str(p2))"
   ]
  },
  {
   "cell_type": "code",
   "execution_count": 47,
   "metadata": {},
   "outputs": [
    {
     "data": {
      "text/html": [
       "<div>\n",
       "<style scoped>\n",
       "    .dataframe tbody tr th:only-of-type {\n",
       "        vertical-align: middle;\n",
       "    }\n",
       "\n",
       "    .dataframe tbody tr th {\n",
       "        vertical-align: top;\n",
       "    }\n",
       "\n",
       "    .dataframe thead th {\n",
       "        text-align: right;\n",
       "    }\n",
       "</style>\n",
       "<table border=\"1\" class=\"dataframe\">\n",
       "  <thead>\n",
       "    <tr style=\"text-align: right;\">\n",
       "      <th></th>\n",
       "      <th>treat</th>\n",
       "      <th>age</th>\n",
       "      <th>educ</th>\n",
       "      <th>black</th>\n",
       "      <th>hispan</th>\n",
       "      <th>married</th>\n",
       "      <th>nodegree</th>\n",
       "      <th>re74</th>\n",
       "      <th>re75</th>\n",
       "      <th>re78</th>\n",
       "    </tr>\n",
       "  </thead>\n",
       "  <tbody>\n",
       "    <tr>\n",
       "      <th>0</th>\n",
       "      <td>inf</td>\n",
       "      <td>0.120478</td>\n",
       "      <td>0.052537</td>\n",
       "      <td>0.154832</td>\n",
       "      <td>0.108566</td>\n",
       "      <td>0.108155</td>\n",
       "      <td>0.136896</td>\n",
       "      <td>0.123798</td>\n",
       "      <td>0.208844</td>\n",
       "      <td>0.101209</td>\n",
       "    </tr>\n",
       "  </tbody>\n",
       "</table>\n",
       "</div>"
      ],
      "text/plain": [
       "   treat       age      educ     black    hispan   married  nodegree  \\\n",
       "0    inf  0.120478  0.052537  0.154832  0.108566  0.108155  0.136896   \n",
       "\n",
       "       re74      re75      re78  \n",
       "0  0.123798  0.208844  0.101209  "
      ]
     },
     "execution_count": 47,
     "metadata": {},
     "output_type": "execute_result"
    }
   ],
   "source": [
    "names=treatment.columns[:-1]\n",
    "asmd=pd.DataFrame()\n",
    "for name in names:\n",
    "    asmd[name]= [ASMD(treatment[name],control[name],matched_forest[name])]\n",
    "asmd"
   ]
  },
  {
   "cell_type": "markdown",
   "metadata": {},
   "source": [
    "With the matching that was performed we can see that now all the variables are balanced except for re75"
   ]
  },
  {
   "cell_type": "markdown",
   "metadata": {},
   "source": [
    "---------"
   ]
  },
  {
   "cell_type": "markdown",
   "metadata": {},
   "source": [
    "#### 8.7\n",
    "\n",
    "Why do you think the decision tree regressor performed badly on balancing the covariates of the treat and control groups?  \n",
    "\n",
    "**Hint:** Look at the distances of the ten nearest neighbors output by `.kneighbors()` for the propensity scores of the decision tree model. What do you see? Why do you think these distances may have an impact on balancing?"
   ]
  },
  {
   "cell_type": "markdown",
   "metadata": {},
   "source": [
    "**Answer.**"
   ]
  },
  {
   "cell_type": "markdown",
   "metadata": {},
   "source": [
    "---------"
   ]
  },
  {
   "cell_type": "code",
   "execution_count": 48,
   "metadata": {},
   "outputs": [
    {
     "data": {
      "text/plain": [
       "(array([[0.01106948, 0.01106948, 0.01106948, ..., 0.01106948, 0.01106948,\n",
       "         0.01106948],\n",
       "        [0.11015369, 0.11015369, 0.11015369, ..., 0.11015369, 0.11015369,\n",
       "         0.11015369],\n",
       "        [0.11312981, 0.11312981, 0.11312981, ..., 0.11312981, 0.11312981,\n",
       "         0.11312981],\n",
       "        ...,\n",
       "        [0.01549094, 0.01549094, 0.01549094, ..., 0.01549094, 0.01549094,\n",
       "         0.01549094],\n",
       "        [0.00157326, 0.00157326, 0.00157326, ..., 0.00157326, 0.00157326,\n",
       "         0.00157326],\n",
       "        [0.05360408, 0.05360408, 0.05360408, ..., 0.05360408, 0.05360408,\n",
       "         0.05360408]]),\n",
       " array([[230, 255, 410, ..., 227, 217, 156],\n",
       "        [345, 176, 175, ...,  30, 426,  83],\n",
       "        [230, 255, 410, ..., 227, 217, 156],\n",
       "        ...,\n",
       "        [345, 176, 175, ...,  30, 426,  83],\n",
       "        [345, 176, 175, ...,  30, 426,  83],\n",
       "        [352, 155,  92, ...,  75, 152, 228]], dtype=int64))"
      ]
     },
     "execution_count": 48,
     "metadata": {},
     "output_type": "execute_result"
    }
   ],
   "source": [
    "knn_tree_2 = neighbors.NearestNeighbors(n_neighbors=10,metric='euclidean')\n",
    "knn_tree_2.fit(np.array(control_pscores_tree).reshape(-1,1))\n",
    "knn_tree_2.kneighbors(np.array(treat_pscores_tree).reshape(-1,1))\n",
    "\n"
   ]
  },
  {
   "cell_type": "code",
   "execution_count": 49,
   "metadata": {},
   "outputs": [
    {
     "data": {
      "text/plain": [
       "array([0.86458333, 0.5       , 0.86458333, 0.86458333, 0.86458333,\n",
       "       0.86458333, 0.86458333, 0.86458333, 0.86458333, 0.08333333,\n",
       "       0.62222222, 0.86458333, 0.62222222, 0.86458333, 0.62222222,\n",
       "       0.62222222, 0.86458333, 0.86458333, 0.86458333, 0.86458333,\n",
       "       0.86458333, 0.5       , 0.5       , 0.86458333, 0.62222222,\n",
       "       0.86458333, 0.86458333, 0.5       , 0.62222222, 0.86458333,\n",
       "       0.62222222, 0.86458333, 0.86458333, 0.62222222, 0.86458333,\n",
       "       0.86458333, 0.86458333, 0.86458333, 0.86458333, 0.86458333,\n",
       "       0.86458333, 0.5       , 0.62222222, 0.25      , 0.62222222,\n",
       "       0.86458333, 0.62222222, 0.62222222, 0.86458333, 0.86458333,\n",
       "       0.86458333, 0.86458333, 0.62222222, 0.86458333, 0.86458333,\n",
       "       0.62222222, 0.86458333, 0.86458333, 0.86458333, 0.5       ,\n",
       "       0.62222222, 0.86458333, 0.86458333, 0.86458333, 0.86458333,\n",
       "       0.86458333, 0.86458333, 0.5       , 0.86458333, 0.86458333,\n",
       "       0.86458333, 0.86458333, 0.62222222, 0.86458333, 0.86458333,\n",
       "       0.5       , 0.86458333, 0.86458333, 0.86458333, 0.86458333,\n",
       "       0.86458333, 0.62222222, 0.5       , 0.86458333, 0.86458333,\n",
       "       0.86458333, 0.5       , 0.86458333, 0.5       , 0.86458333,\n",
       "       0.86458333, 0.62222222, 0.86458333, 0.86458333, 0.86458333,\n",
       "       0.5       , 0.62222222, 0.86458333, 0.86458333, 0.5       ,\n",
       "       0.86458333, 0.86458333, 0.86458333, 0.62222222, 0.62222222,\n",
       "       0.86458333, 0.86458333, 0.62222222, 0.86458333, 0.86458333,\n",
       "       0.62222222, 0.        , 0.62222222, 0.62222222, 0.86458333,\n",
       "       0.5       , 0.86458333, 0.62222222, 0.62222222, 0.86458333,\n",
       "       0.86458333, 0.62222222, 0.62222222, 0.08333333, 0.        ,\n",
       "       0.86458333, 0.86458333, 0.86458333, 0.5       , 0.62222222,\n",
       "       0.62222222, 0.86458333, 0.86458333, 0.62222222, 0.86458333,\n",
       "       0.86458333, 0.08333333, 0.62222222, 0.86458333, 0.5       ,\n",
       "       0.86458333, 0.86458333, 0.86458333, 0.86458333, 0.5       ,\n",
       "       0.62222222, 0.62222222, 0.86458333, 0.86458333, 0.62222222,\n",
       "       0.86458333, 0.86458333, 0.62222222, 0.86458333, 0.86458333,\n",
       "       0.86458333, 0.62222222, 0.86458333, 0.86458333, 0.86458333,\n",
       "       0.86458333, 0.86458333, 0.86458333, 0.86458333, 0.86458333,\n",
       "       0.5       , 0.08333333, 0.86458333, 0.86458333, 0.86458333,\n",
       "       0.62222222, 0.86458333, 0.5       , 0.62222222, 0.86458333,\n",
       "       0.86458333, 0.08333333, 0.86458333, 0.5       , 0.5       ,\n",
       "       0.86458333, 0.86458333, 0.86458333, 0.86458333, 0.86458333,\n",
       "       0.08333333, 0.08333333, 0.08333333, 0.08333333, 0.86458333,\n",
       "       0.86458333, 0.08333333, 0.62222222, 0.08333333, 0.08333333,\n",
       "       0.08333333, 0.08333333, 0.08333333, 0.08333333, 0.86458333,\n",
       "       0.08333333, 0.5       , 0.08333333, 0.08333333, 0.08333333,\n",
       "       0.08333333, 0.08333333, 0.08333333, 0.86458333, 0.08333333,\n",
       "       0.08333333, 0.86458333, 0.08333333, 0.08333333, 0.08333333,\n",
       "       0.5       , 0.08333333, 0.08333333, 0.08333333, 0.08333333,\n",
       "       0.08333333, 0.08333333, 0.08333333, 0.08333333, 0.08333333,\n",
       "       0.86458333, 0.08333333, 0.08333333, 0.08333333, 0.08333333,\n",
       "       0.62222222, 0.08333333, 0.86458333, 0.08333333, 0.08333333,\n",
       "       0.08333333, 0.08333333, 0.08333333, 0.08333333, 0.08333333,\n",
       "       0.08333333, 0.08333333, 0.08333333, 0.86458333, 0.08333333,\n",
       "       0.08333333, 0.08333333, 0.08333333, 0.08333333, 0.08333333,\n",
       "       0.5       , 0.08333333, 0.5       , 0.86458333, 0.08333333,\n",
       "       0.08333333, 0.5       , 0.08333333, 0.08333333, 0.08333333,\n",
       "       0.5       , 0.5       , 0.08333333, 0.5       , 0.08333333,\n",
       "       0.08333333, 0.08333333, 0.08333333, 0.5       , 0.08333333,\n",
       "       0.5       , 0.08333333, 0.5       , 0.        , 0.08333333,\n",
       "       0.5       , 0.08333333, 0.5       , 0.86458333, 0.08333333,\n",
       "       0.86458333, 0.86458333, 0.62222222, 0.86458333, 0.5       ,\n",
       "       0.08333333, 0.        , 0.5       , 0.08333333, 0.5       ,\n",
       "       0.08333333, 0.08333333, 0.08333333, 0.08333333, 0.62222222,\n",
       "       0.5       , 0.5       , 0.5       , 0.08333333, 0.08333333,\n",
       "       0.08333333, 0.08333333, 0.62222222, 0.08333333, 0.08333333,\n",
       "       0.5       , 0.08333333, 0.08333333, 0.        , 0.08333333,\n",
       "       0.08333333, 0.        , 0.08333333, 0.08333333, 0.08333333,\n",
       "       0.5       , 0.08333333, 0.08333333, 0.62222222, 0.08333333,\n",
       "       0.5       , 0.5       , 0.08333333, 0.5       , 0.62222222,\n",
       "       0.08333333, 0.5       , 0.08333333, 0.08333333, 0.        ,\n",
       "       0.08333333, 0.08333333, 0.08333333, 0.5       , 0.5       ,\n",
       "       0.5       , 0.08333333, 0.5       , 0.5       , 0.08333333,\n",
       "       0.5       , 0.62222222, 0.62222222, 0.86458333, 0.08333333,\n",
       "       0.5       , 0.08333333, 0.08333333, 0.        , 0.08333333,\n",
       "       0.08333333, 0.08333333, 0.08333333, 0.08333333, 0.5       ,\n",
       "       0.        , 0.5       , 0.62222222, 0.08333333, 0.08333333,\n",
       "       0.5       , 0.5       , 0.5       , 0.62222222, 0.5       ,\n",
       "       0.08333333, 0.        , 0.        , 0.        , 0.        ,\n",
       "       0.5       , 0.62222222, 0.        , 0.86458333, 0.08333333,\n",
       "       0.62222222, 0.5       , 0.        , 0.08333333, 0.08333333,\n",
       "       0.62222222, 0.08333333, 0.5       , 0.5       , 0.5       ,\n",
       "       0.08333333, 0.08333333, 0.08333333, 0.08333333, 0.        ,\n",
       "       0.        , 0.5       , 0.        , 0.        , 0.08333333,\n",
       "       0.5       , 0.08333333, 0.        , 0.08333333, 0.08333333,\n",
       "       0.08333333, 0.86458333, 0.62222222, 0.        , 0.5       ,\n",
       "       0.5       , 0.08333333, 0.08333333, 0.5       , 0.        ,\n",
       "       0.86458333, 0.        , 0.62222222, 0.5       , 0.5       ,\n",
       "       0.62222222, 0.08333333, 0.08333333, 0.62222222, 0.08333333,\n",
       "       0.08333333, 0.5       , 0.        , 0.        , 0.        ,\n",
       "       0.        , 0.5       , 0.5       , 0.08333333, 0.5       ,\n",
       "       0.08333333, 0.        , 0.5       , 0.08333333, 0.08333333,\n",
       "       0.        , 0.        , 0.86458333, 0.08333333, 0.08333333,\n",
       "       0.62222222, 0.08333333, 0.        , 0.08333333, 0.86458333,\n",
       "       0.        , 0.08333333, 0.5       , 0.        , 0.5       ,\n",
       "       0.62222222, 0.5       , 0.        , 0.86458333, 0.        ,\n",
       "       0.        , 0.5       , 0.08333333, 0.        , 0.08333333,\n",
       "       0.25      , 0.62222222, 0.        , 0.08333333, 0.        ,\n",
       "       0.        , 0.        , 0.08333333, 0.08333333, 0.        ,\n",
       "       0.08333333, 0.08333333, 0.08333333, 0.5       , 0.        ,\n",
       "       0.        , 0.08333333, 0.86458333, 0.08333333, 0.        ,\n",
       "       0.08333333, 0.08333333, 0.08333333, 0.08333333, 0.86458333,\n",
       "       0.08333333, 0.08333333, 0.08333333, 0.08333333, 0.08333333,\n",
       "       0.5       , 0.08333333, 0.86458333, 0.08333333, 0.08333333,\n",
       "       0.08333333, 0.5       , 0.5       , 0.5       , 0.5       ,\n",
       "       0.5       , 0.08333333, 0.08333333, 0.08333333, 0.08333333,\n",
       "       0.08333333, 0.5       , 0.5       , 0.08333333, 0.        ,\n",
       "       0.86458333, 0.5       , 0.08333333, 0.5       , 0.86458333,\n",
       "       0.86458333, 0.5       , 0.62222222, 0.5       , 0.62222222,\n",
       "       0.5       , 0.62222222, 0.08333333, 0.5       , 0.5       ,\n",
       "       0.5       , 0.5       , 0.08333333, 0.08333333, 0.62222222,\n",
       "       0.5       , 0.08333333, 0.5       , 0.08333333, 0.25      ,\n",
       "       0.        , 0.86458333, 0.5       , 0.        , 0.62222222,\n",
       "       0.86458333, 0.        , 0.        , 0.08333333, 0.08333333,\n",
       "       0.5       , 0.08333333, 0.08333333, 0.08333333, 0.        ,\n",
       "       0.        , 0.62222222, 0.86458333, 0.        , 0.        ,\n",
       "       0.5       , 0.62222222, 0.62222222, 0.62222222, 0.86458333,\n",
       "       0.62222222, 0.        , 0.08333333, 0.08333333, 0.86458333,\n",
       "       0.86458333, 0.08333333, 0.5       , 0.5       , 0.5       ,\n",
       "       0.62222222, 0.        , 0.62222222, 0.62222222, 0.08333333,\n",
       "       0.25      , 0.62222222, 0.08333333, 0.08333333, 0.5       ,\n",
       "       0.08333333, 0.        , 0.62222222, 0.86458333, 0.86458333,\n",
       "       0.62222222, 0.        , 0.08333333, 0.5       , 0.5       ,\n",
       "       0.        , 0.5       , 0.86458333, 0.        , 0.5       ,\n",
       "       0.62222222, 0.        , 0.25      , 0.        , 0.08333333,\n",
       "       0.86458333, 0.        , 0.08333333, 0.        , 0.86458333,\n",
       "       0.08333333, 0.        , 0.86458333, 0.5       , 0.        ,\n",
       "       0.08333333, 0.5       , 0.86458333, 0.        ])"
      ]
     },
     "execution_count": 49,
     "metadata": {},
     "output_type": "execute_result"
    }
   ],
   "source": [
    "pscore_tree"
   ]
  },
  {
   "cell_type": "markdown",
   "metadata": {},
   "source": [
    "This model gives fixed values of pscore, that's why it makes many individuals look alike without their variables being very similar, that's why it causes problems when matching and trying to balance"
   ]
  },
  {
   "cell_type": "code",
   "execution_count": null,
   "metadata": {},
   "outputs": [],
   "source": []
  }
 ],
 "metadata": {
  "kernelspec": {
   "display_name": "Python 3",
   "language": "python",
   "name": "python3"
  },
  "language_info": {
   "codemirror_mode": {
    "name": "ipython",
    "version": 3
   },
   "file_extension": ".py",
   "mimetype": "text/x-python",
   "name": "python",
   "nbconvert_exporter": "python",
   "pygments_lexer": "ipython3",
   "version": "3.7.4"
  }
 },
 "nbformat": 4,
 "nbformat_minor": 2
}
