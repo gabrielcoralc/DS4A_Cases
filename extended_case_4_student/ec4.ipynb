{
 "cells": [
  {
   "cell_type": "markdown",
   "metadata": {},
   "source": [
    "# Generating useful features for further analysis on Amazon reviews\n",
    "\n",
    "## Introduction\n",
    "\n",
    "**Business Context.** You are a business consultant with new clients that are interested in analyzing reviews of their products on Amazon (as opposed to Yelp). They want to answer business questions like: \"What are the most important factors driving negative reviews?\", \"Have there been any large changes to customer satisfaction/reviews over time?\", etc.\n",
    "\n",
    "**Business Problem.** Your main task is to **explore the given data and use the results of your investigation to engineer relevant features that could facilitate subsequent analysis and model-building**.\n",
    "\n",
    "**Analytical Context.** The dataset provided is a large body of reviews related to movies and television left on Amazon between 1996 and 2014. When exploring our dataset, we will quickly encounter a familiar problem we discussed in the previous case: the word \"good\" is one of the most important words in both positive *and* negative reviews. Thus, we must develop methods to put \"good\" in the appropriate context."
   ]
  },
  {
   "cell_type": "markdown",
   "metadata": {},
   "source": [
    "## Loading the data\n",
    "\n",
    "We use a dataset of around 37,000 video reviews from Amazon Instant Video and 1,700,000 movie and TV reviews, all obtained from the website: http://jmcauley.ucsd.edu/data/amazon/. Note that there are much larger datasets available at the same site. We can expect better and more consistent results on larger datasets (such as book reviews). Note that these datasets are compressed (gzipped), and they are in [JSON](https://en.wikipedia.org/wiki/JSON) format, with each line representing a review and each line being its own JSON object.\n",
    "\n",
    "We begin by loading the dataset below:"
   ]
  },
  {
   "cell_type": "code",
   "execution_count": 1,
   "metadata": {},
   "outputs": [],
   "source": [
    "%matplotlib inline"
   ]
  },
  {
   "cell_type": "code",
   "execution_count": 2,
   "metadata": {},
   "outputs": [
    {
     "name": "stderr",
     "output_type": "stream",
     "text": [
      "[nltk_data] Downloading package punkt to\n",
      "[nltk_data]     C:\\Users\\Gabri\\AppData\\Roaming\\nltk_data...\n",
      "[nltk_data]   Package punkt is already up-to-date!\n"
     ]
    },
    {
     "name": "stdout",
     "output_type": "stream",
     "text": [
      "Wall time: 9.49 s\n"
     ]
    }
   ],
   "source": [
    "%%time\n",
    "import gzip\n",
    "import json\n",
    "import string\n",
    "\n",
    "import nltk # imports the natural language toolkit\n",
    "import pandas as pd\n",
    "import plotly\n",
    "\n",
    "nltk.download('punkt')\n",
    "\n",
    "\n",
    "# we can tell pandas that our file is in gzip format and it will handle the decompression for us\n",
    "# we also use `lines=True` to indicate that each line of the file is its own JSON object\n",
    "instant_video = pd.read_json(\"reviews_Amazon_Instant_Video_5.json.gz\", lines=True, compression='gzip')\n",
    "\n",
    "\n",
    "# ----------\n",
    "# The Movies and TV file is very big. If you have problems loading it, you can load only the first \n",
    "# 100,000 reviews by using 'chunksize' (uncomment the line with 'chunksize' and comment out the line \n",
    "# after that which loads the entire file into `movies_tv`). All of the analysis can be \n",
    "# done in the same way using only the subset of reviews but some of the results might be different from the examples.\n",
    "# ----------\n",
    "movies_tv = next(pd.read_json(\"reviews_Movies_and_TV_5.json.gz\", lines=True, compression='gzip', chunksize=100000))\n",
    "#movies_tv = pd.read_json(\"reviews_Movies_and_TV_5.json.gz\", lines=True, compression='gzip')"
   ]
  },
  {
   "cell_type": "markdown",
   "metadata": {},
   "source": [
    "## Examining the data\n",
    "\n",
    "We take a look at the first 5 rows of each dataset to see what attributes are available. These are\n",
    "\n",
    "* **reviewerID:** A unique ID to identify the author of the review.\n",
    "* **asin:** The [\"Amazon Standard Identification Number\"](https://www.amazon.com/gp/seller/asin-upc-isbn-info.html) which provides more information about the exact product and version.\n",
    "* **reviewerName:** The username chosen by the reviewer.\n",
    "* **helpful:** A record of how many users indicated that the review was helpful/not helpful.\n",
    "* **reviewText:** The full text of the review.\n",
    "* **overall:** The overall rating (1-5) left by the reviewer.\n",
    "* **summary:** A short version of the review, used as the title.\n",
    "* **unixReviewTime:** The date that the review was created, in [Unix Epoch](https://en.wikipedia.org/wiki/Unix_time) format.\n",
    "* **reviewTime:** A human readable date giving the day, month, and year.\n",
    "</font>"
   ]
  },
  {
   "cell_type": "code",
   "execution_count": 3,
   "metadata": {},
   "outputs": [
    {
     "name": "stdout",
     "output_type": "stream",
     "text": [
      "37126\n",
      "       reviewerID        asin                    reviewerName helpful  \\\n",
      "0  A11N155CW1UV02  B000H00VBQ                        AdrianaM  [0, 0]   \n",
      "1  A3BC8O2KCL29V2  B000H00VBQ                         Carol T  [0, 0]   \n",
      "2   A60D5HQFOTSOM  B000H00VBQ  Daniel Cooper \"dancoopermedia\"  [0, 1]   \n",
      "3  A1RJPIGRSNX4PW  B000H00VBQ                  J. Kaplan \"JJ\"  [0, 0]   \n",
      "4  A16XRPF40679KG  B000H00VBQ                   Michael Dobey  [1, 1]   \n",
      "\n",
      "                                          reviewText  overall  \\\n",
      "0  I had big expectations because I love English ...        2   \n",
      "1  I highly recommend this series. It is a must f...        5   \n",
      "2  This one is a real snoozer. Don't believe anyt...        1   \n",
      "3  Mysteries are interesting.  The tension betwee...        4   \n",
      "4  This show always is excellent, as far as briti...        5   \n",
      "\n",
      "                          summary  unixReviewTime   reviewTime  \n",
      "0      A little bit boring for me      1399075200   05 3, 2014  \n",
      "1           Excellent Grown Up TV      1346630400   09 3, 2012  \n",
      "2           Way too boring for me      1381881600  10 16, 2013  \n",
      "3     Robson Green is mesmerizing      1383091200  10 30, 2013  \n",
      "4  Robson green and great writing      1234310400  02 11, 2009  \n"
     ]
    }
   ],
   "source": [
    "print(len(instant_video))\n",
    "print(instant_video.head(5))"
   ]
  },
  {
   "cell_type": "code",
   "execution_count": 4,
   "metadata": {},
   "outputs": [
    {
     "name": "stdout",
     "output_type": "stream",
     "text": [
      "1697533\n",
      "       reviewerID        asin                         reviewerName helpful  \\\n",
      "0   ADZPIG9QOCDG5  0005019281  Alice L. Larson \"alice-loves-books\"  [0, 0]   \n",
      "1  A35947ZP82G7JH  0005019281                        Amarah Strack  [0, 0]   \n",
      "2  A3UORV8A9D5L2E  0005019281                      Amazon Customer  [0, 0]   \n",
      "3  A1VKW06X1O2X7V  0005019281           Amazon Customer \"Softmill\"  [0, 0]   \n",
      "4  A3R27T4HADWFFJ  0005019281                                 BABE  [0, 0]   \n",
      "\n",
      "                                          reviewText  overall  \\\n",
      "0  This is a charming version of the classic Dick...        4   \n",
      "1  It was good but not as emotionally moving as t...        3   \n",
      "2  Don't get me wrong, Winkler is a wonderful cha...        3   \n",
      "3  Henry Winkler is very good in this twist on th...        5   \n",
      "4  This is one of the best Scrooge movies out.  H...        4   \n",
      "\n",
      "                                        summary  unixReviewTime   reviewTime  \n",
      "0                     good version of a classic      1203984000  02 26, 2008  \n",
      "1                        Good but not as moving      1388361600  12 30, 2013  \n",
      "2         Winkler's Performance was ok at best!      1388361600  12 30, 2013  \n",
      "3  It's an enjoyable twist on the classic story      1202860800  02 13, 2008  \n",
      "4                              Best Scrooge yet      1387670400  12 22, 2013  \n"
     ]
    }
   ],
   "source": [
    "print(len(movies_tv))\n",
    "print(movies_tv.head(5))"
   ]
  },
  {
   "cell_type": "markdown",
   "metadata": {},
   "source": [
    "We notice that `movies_tv` is extremely long with nearly 2 million reviews, and several columns seem uninteresting or hard to work with (e.g. `reviewerID`, `asin`, `reviewername`, `reviewtime`). We drop some information to make some of our later analysis more efficient. We also add a datetime column with Python datetime objects to more easily summarize the data:"
   ]
  },
  {
   "cell_type": "code",
   "execution_count": 3,
   "metadata": {},
   "outputs": [
    {
     "name": "stdout",
     "output_type": "stream",
     "text": [
      "Wall time: 457 ms\n"
     ]
    }
   ],
   "source": [
    "%%time\n",
    "movies_tv['datetime'] = pd.to_datetime(movies_tv['reviewTime'], format=\"%m %d, %Y\")\n",
    "instant_video['datetime'] = pd.to_datetime(instant_video['reviewTime'], format=\"%m %d, %Y\")"
   ]
  },
  {
   "cell_type": "code",
   "execution_count": 4,
   "metadata": {},
   "outputs": [
    {
     "data": {
      "text/html": [
       "<div>\n",
       "<style scoped>\n",
       "    .dataframe tbody tr th:only-of-type {\n",
       "        vertical-align: middle;\n",
       "    }\n",
       "\n",
       "    .dataframe tbody tr th {\n",
       "        vertical-align: top;\n",
       "    }\n",
       "\n",
       "    .dataframe thead th {\n",
       "        text-align: right;\n",
       "    }\n",
       "</style>\n",
       "<table border=\"1\" class=\"dataframe\">\n",
       "  <thead>\n",
       "    <tr style=\"text-align: right;\">\n",
       "      <th></th>\n",
       "      <th>helpful</th>\n",
       "      <th>reviewText</th>\n",
       "      <th>overall</th>\n",
       "      <th>summary</th>\n",
       "      <th>unixReviewTime</th>\n",
       "      <th>datetime</th>\n",
       "    </tr>\n",
       "  </thead>\n",
       "  <tbody>\n",
       "    <tr>\n",
       "      <th>0</th>\n",
       "      <td>[0, 0]</td>\n",
       "      <td>This is a charming version of the classic Dick...</td>\n",
       "      <td>4</td>\n",
       "      <td>good version of a classic</td>\n",
       "      <td>1203984000</td>\n",
       "      <td>2008-02-26</td>\n",
       "    </tr>\n",
       "    <tr>\n",
       "      <th>1</th>\n",
       "      <td>[0, 0]</td>\n",
       "      <td>It was good but not as emotionally moving as t...</td>\n",
       "      <td>3</td>\n",
       "      <td>Good but not as moving</td>\n",
       "      <td>1388361600</td>\n",
       "      <td>2013-12-30</td>\n",
       "    </tr>\n",
       "    <tr>\n",
       "      <th>2</th>\n",
       "      <td>[0, 0]</td>\n",
       "      <td>Don't get me wrong, Winkler is a wonderful cha...</td>\n",
       "      <td>3</td>\n",
       "      <td>Winkler's Performance was ok at best!</td>\n",
       "      <td>1388361600</td>\n",
       "      <td>2013-12-30</td>\n",
       "    </tr>\n",
       "    <tr>\n",
       "      <th>3</th>\n",
       "      <td>[0, 0]</td>\n",
       "      <td>Henry Winkler is very good in this twist on th...</td>\n",
       "      <td>5</td>\n",
       "      <td>It's an enjoyable twist on the classic story</td>\n",
       "      <td>1202860800</td>\n",
       "      <td>2008-02-13</td>\n",
       "    </tr>\n",
       "    <tr>\n",
       "      <th>4</th>\n",
       "      <td>[0, 0]</td>\n",
       "      <td>This is one of the best Scrooge movies out.  H...</td>\n",
       "      <td>4</td>\n",
       "      <td>Best Scrooge yet</td>\n",
       "      <td>1387670400</td>\n",
       "      <td>2013-12-22</td>\n",
       "    </tr>\n",
       "  </tbody>\n",
       "</table>\n",
       "</div>"
      ],
      "text/plain": [
       "  helpful                                         reviewText  overall  \\\n",
       "0  [0, 0]  This is a charming version of the classic Dick...        4   \n",
       "1  [0, 0]  It was good but not as emotionally moving as t...        3   \n",
       "2  [0, 0]  Don't get me wrong, Winkler is a wonderful cha...        3   \n",
       "3  [0, 0]  Henry Winkler is very good in this twist on th...        5   \n",
       "4  [0, 0]  This is one of the best Scrooge movies out.  H...        4   \n",
       "\n",
       "                                        summary  unixReviewTime   datetime  \n",
       "0                     good version of a classic      1203984000 2008-02-26  \n",
       "1                        Good but not as moving      1388361600 2013-12-30  \n",
       "2         Winkler's Performance was ok at best!      1388361600 2013-12-30  \n",
       "3  It's an enjoyable twist on the classic story      1202860800 2008-02-13  \n",
       "4                              Best Scrooge yet      1387670400 2013-12-22  "
      ]
     },
     "execution_count": 4,
     "metadata": {},
     "output_type": "execute_result"
    }
   ],
   "source": [
    "movies_tv = movies_tv.drop(columns = ['reviewerID', 'asin', 'reviewerName', 'reviewTime'])\n",
    "instant_video = instant_video.drop(columns = ['reviewerID', 'asin', 'reviewerName', 'reviewTime'])\n",
    "\n",
    "movies_tv.head(5)"
   ]
  },
  {
   "cell_type": "code",
   "execution_count": 11,
   "metadata": {},
   "outputs": [
    {
     "data": {
      "text/html": [
       "<div>\n",
       "<style scoped>\n",
       "    .dataframe tbody tr th:only-of-type {\n",
       "        vertical-align: middle;\n",
       "    }\n",
       "\n",
       "    .dataframe tbody tr th {\n",
       "        vertical-align: top;\n",
       "    }\n",
       "\n",
       "    .dataframe thead th {\n",
       "        text-align: right;\n",
       "    }\n",
       "</style>\n",
       "<table border=\"1\" class=\"dataframe\">\n",
       "  <thead>\n",
       "    <tr style=\"text-align: right;\">\n",
       "      <th></th>\n",
       "      <th>helpful</th>\n",
       "      <th>reviewText</th>\n",
       "      <th>overall</th>\n",
       "      <th>summary</th>\n",
       "      <th>unixReviewTime</th>\n",
       "      <th>datetime</th>\n",
       "      <th>Y_helpful</th>\n",
       "      <th>N_helpful</th>\n",
       "    </tr>\n",
       "  </thead>\n",
       "  <tbody>\n",
       "    <tr>\n",
       "      <th>0</th>\n",
       "      <td>[0, 0]</td>\n",
       "      <td>I had big expectations because I love English ...</td>\n",
       "      <td>2</td>\n",
       "      <td>A little bit boring for me</td>\n",
       "      <td>1399075200</td>\n",
       "      <td>2014-05-03</td>\n",
       "      <td>0</td>\n",
       "      <td>0</td>\n",
       "    </tr>\n",
       "    <tr>\n",
       "      <th>1</th>\n",
       "      <td>[0, 0]</td>\n",
       "      <td>I highly recommend this series. It is a must f...</td>\n",
       "      <td>5</td>\n",
       "      <td>Excellent Grown Up TV</td>\n",
       "      <td>1346630400</td>\n",
       "      <td>2012-09-03</td>\n",
       "      <td>0</td>\n",
       "      <td>0</td>\n",
       "    </tr>\n",
       "    <tr>\n",
       "      <th>2</th>\n",
       "      <td>[0, 1]</td>\n",
       "      <td>This one is a real snoozer. Don't believe anyt...</td>\n",
       "      <td>1</td>\n",
       "      <td>Way too boring for me</td>\n",
       "      <td>1381881600</td>\n",
       "      <td>2013-10-16</td>\n",
       "      <td>0</td>\n",
       "      <td>1</td>\n",
       "    </tr>\n",
       "    <tr>\n",
       "      <th>3</th>\n",
       "      <td>[0, 0]</td>\n",
       "      <td>Mysteries are interesting.  The tension betwee...</td>\n",
       "      <td>4</td>\n",
       "      <td>Robson Green is mesmerizing</td>\n",
       "      <td>1383091200</td>\n",
       "      <td>2013-10-30</td>\n",
       "      <td>0</td>\n",
       "      <td>0</td>\n",
       "    </tr>\n",
       "    <tr>\n",
       "      <th>4</th>\n",
       "      <td>[1, 1]</td>\n",
       "      <td>This show always is excellent, as far as briti...</td>\n",
       "      <td>5</td>\n",
       "      <td>Robson green and great writing</td>\n",
       "      <td>1234310400</td>\n",
       "      <td>2009-02-11</td>\n",
       "      <td>1</td>\n",
       "      <td>1</td>\n",
       "    </tr>\n",
       "  </tbody>\n",
       "</table>\n",
       "</div>"
      ],
      "text/plain": [
       "  helpful                                         reviewText  overall  \\\n",
       "0  [0, 0]  I had big expectations because I love English ...        2   \n",
       "1  [0, 0]  I highly recommend this series. It is a must f...        5   \n",
       "2  [0, 1]  This one is a real snoozer. Don't believe anyt...        1   \n",
       "3  [0, 0]  Mysteries are interesting.  The tension betwee...        4   \n",
       "4  [1, 1]  This show always is excellent, as far as briti...        5   \n",
       "\n",
       "                          summary  unixReviewTime   datetime  Y_helpful  \\\n",
       "0      A little bit boring for me      1399075200 2014-05-03          0   \n",
       "1           Excellent Grown Up TV      1346630400 2012-09-03          0   \n",
       "2           Way too boring for me      1381881600 2013-10-16          0   \n",
       "3     Robson Green is mesmerizing      1383091200 2013-10-30          0   \n",
       "4  Robson green and great writing      1234310400 2009-02-11          1   \n",
       "\n",
       "   N_helpful  \n",
       "0          0  \n",
       "1          0  \n",
       "2          1  \n",
       "3          0  \n",
       "4          1  "
      ]
     },
     "execution_count": 11,
     "metadata": {},
     "output_type": "execute_result"
    }
   ],
   "source": [
    "instant_video.head(5)"
   ]
  },
  {
   "cell_type": "markdown",
   "metadata": {},
   "source": [
    "### Exercise 1:\n",
    "\n",
    "#### 1.1\n",
    "\n",
    "Plot histograms of all numeric quantities. Do you notice anything interesting about them?"
   ]
  },
  {
   "cell_type": "markdown",
   "metadata": {},
   "source": [
    "**Answer.**"
   ]
  },
  {
   "cell_type": "code",
   "execution_count": 15,
   "metadata": {},
   "outputs": [
    {
     "data": {
      "text/plain": [
       "array([[<matplotlib.axes._subplots.AxesSubplot object at 0x0000016B0B0BFD00>,\n",
       "        <matplotlib.axes._subplots.AxesSubplot object at 0x0000016B09C34BE0>]],\n",
       "      dtype=object)"
      ]
     },
     "execution_count": 15,
     "metadata": {},
     "output_type": "execute_result"
    },
    {
     "data": {
      "image/png": "[encoded data removed]",
      "text/plain": [
       "<Figure size 432x288 with 2 Axes>"
      ]
     },
     "metadata": {
      "needs_background": "light"
     },
     "output_type": "display_data"
    }
   ],
   "source": [
    "instant_video.hist()"
   ]
  },
  {
   "cell_type": "code",
   "execution_count": 12,
   "metadata": {},
   "outputs": [
    {
     "data": {
      "text/plain": [
       "array([[<matplotlib.axes._subplots.AxesSubplot object at 0x0000016B0A936670>,\n",
       "        <matplotlib.axes._subplots.AxesSubplot object at 0x0000016B0AF29EE0>]],\n",
       "      dtype=object)"
      ]
     },
     "execution_count": 12,
     "metadata": {},
     "output_type": "execute_result"
    },
    {
     "data": {
      "image/png": "[encoded data removed]",
      "text/plain": [
       "<Figure size 432x288 with 2 Axes>"
      ]
     },
     "metadata": {
      "needs_background": "light"
     },
     "output_type": "display_data"
    }
   ],
   "source": [
    "movies_tv.hist()"
   ]
  },
  {
   "cell_type": "markdown",
   "metadata": {},
   "source": [
    "--------"
   ]
  },
  {
   "cell_type": "markdown",
   "metadata": {},
   "source": [
    "#### 1.2\n",
    "\n",
    "How do average ratings change over time? Plot the average rating for each year and note any trends."
   ]
  },
  {
   "cell_type": "markdown",
   "metadata": {},
   "source": [
    "**Answer.**"
   ]
  },
  {
   "cell_type": "code",
   "execution_count": 19,
   "metadata": {},
   "outputs": [],
   "source": [
    "instant_video[\"year\"]=instant_video[\"datetime\"].apply(lambda x: x.year)\n",
    "movies_tv[\"year\"]=movies_tv[\"datetime\"].apply(lambda x: x.year)\n",
    "group1=instant_video.groupby(\"year\").mean().reset_index()\n",
    "group2=movies_tv.groupby(\"year\").mean().reset_index()\n"
   ]
  },
  {
   "cell_type": "code",
   "execution_count": 26,
   "metadata": {},
   "outputs": [],
   "source": [
    "from matplotlib.pyplot import figure"
   ]
  },
  {
   "cell_type": "code",
   "execution_count": 20,
   "metadata": {},
   "outputs": [
    {
     "data": {
      "text/plain": [
       "<matplotlib.axes._subplots.AxesSubplot at 0x16b0cd4c2e0>"
      ]
     },
     "execution_count": 20,
     "metadata": {},
     "output_type": "execute_result"
    },
    {
     "data": {
      "image/png": "[encoded data removed]",
      "text/plain": [
       "<Figure size 432x288 with 1 Axes>"
      ]
     },
     "metadata": {
      "needs_background": "light"
     },
     "output_type": "display_data"
    }
   ],
   "source": [
    "group1.plot.line(x=\"year\",y=\"overall\")"
   ]
  },
  {
   "cell_type": "code",
   "execution_count": 28,
   "metadata": {},
   "outputs": [
    {
     "data": {
      "text/plain": [
       "<matplotlib.axes._subplots.AxesSubplot at 0x16b0664d430>"
      ]
     },
     "execution_count": 28,
     "metadata": {},
     "output_type": "execute_result"
    },
    {
     "data": {
      "text/plain": [
       "<Figure size 720x288 with 0 Axes>"
      ]
     },
     "metadata": {},
     "output_type": "display_data"
    },
    {
     "data": {
      "image/png": "[encoded data removed]",
      "text/plain": [
       "<Figure size 432x288 with 1 Axes>"
      ]
     },
     "metadata": {
      "needs_background": "light"
     },
     "output_type": "display_data"
    }
   ],
   "source": [
    "figure(figsize=(10,4))\n",
    "group2.plot.line(x=\"year\",y=\"overall\")"
   ]
  },
  {
   "cell_type": "markdown",
   "metadata": {},
   "source": [
    "--------"
   ]
  },
  {
   "cell_type": "markdown",
   "metadata": {},
   "source": [
    "#### 1.3\n",
    "\n",
    "Look at the average length of the review by year. Do you notice any trends?"
   ]
  },
  {
   "cell_type": "markdown",
   "metadata": {},
   "source": [
    "**Answer.**"
   ]
  },
  {
   "cell_type": "code",
   "execution_count": 29,
   "metadata": {},
   "outputs": [],
   "source": [
    "instant_video[\"review_words_lengths\"] = instant_video[\"reviewText\"].apply(lambda x: len(nltk.word_tokenize(x)))"
   ]
  },
  {
   "cell_type": "code",
   "execution_count": 30,
   "metadata": {},
   "outputs": [
    {
     "name": "stdout",
     "output_type": "stream",
     "text": [
      "Wall time: 3min 47s\n"
     ]
    }
   ],
   "source": [
    "%%time\n",
    "movies_tv[\"review_words_lengths\"] = movies_tv[\"reviewText\"].apply(lambda x: len(nltk.word_tokenize(x)))"
   ]
  },
  {
   "cell_type": "code",
   "execution_count": 31,
   "metadata": {},
   "outputs": [],
   "source": [
    "group1=instant_video.groupby(\"year\").mean().reset_index()\n",
    "group2=movies_tv.groupby(\"year\").mean().reset_index()"
   ]
  },
  {
   "cell_type": "code",
   "execution_count": 32,
   "metadata": {},
   "outputs": [
    {
     "data": {
      "text/plain": [
       "<matplotlib.axes._subplots.AxesSubplot at 0x16b04c47700>"
      ]
     },
     "execution_count": 32,
     "metadata": {},
     "output_type": "execute_result"
    },
    {
     "data": {
      "image/png": "[encoded data removed]",
      "text/plain": [
       "<Figure size 432x288 with 1 Axes>"
      ]
     },
     "metadata": {
      "needs_background": "light"
     },
     "output_type": "display_data"
    }
   ],
   "source": [
    "group1.plot.line(x=\"year\",y=\"review_words_lengths\")"
   ]
  },
  {
   "cell_type": "code",
   "execution_count": 38,
   "metadata": {},
   "outputs": [
    {
     "data": {
      "text/plain": [
       "<matplotlib.axes._subplots.AxesSubplot at 0x16a8dde09d0>"
      ]
     },
     "execution_count": 38,
     "metadata": {},
     "output_type": "execute_result"
    },
    {
     "data": {
      "image/png": "[encoded data removed]",
      "text/plain": [
       "<Figure size 720x360 with 1 Axes>"
      ]
     },
     "metadata": {
      "needs_background": "light"
     },
     "output_type": "display_data"
    }
   ],
   "source": [
    "\n",
    "group2.plot.line(x=\"year\",y=\"review_words_lengths\",figsize=(10,5))\n"
   ]
  },
  {
   "cell_type": "markdown",
   "metadata": {},
   "source": [
    "It seems that there was a tendency to write long reviews between 2004 and 2010, after this range shorter reviews became more normal"
   ]
  },
  {
   "cell_type": "markdown",
   "metadata": {},
   "source": [
    "--------"
   ]
  },
  {
   "cell_type": "markdown",
   "metadata": {},
   "source": [
    "### Exercise 2:\n",
    "\n",
    "#### 2.1\n",
    "\n",
    "Find the ten most frequently occuring non-stop words acrooss: (i) all reviews, (ii) positive reviews, (iii) negative reviews. Do the results surprise you? Why or why not?"
   ]
  },
  {
   "cell_type": "markdown",
   "metadata": {},
   "source": [
    "**Answer.**"
   ]
  },
  {
   "cell_type": "code",
   "execution_count": 5,
   "metadata": {},
   "outputs": [],
   "source": [
    "from nltk.corpus import stopwords\n",
    "from collections import Counter\n",
    "import re"
   ]
  },
  {
   "cell_type": "code",
   "execution_count": 6,
   "metadata": {},
   "outputs": [],
   "source": [
    "stop_words = set(stopwords.words(\"english\"))"
   ]
  },
  {
   "cell_type": "code",
   "execution_count": 61,
   "metadata": {},
   "outputs": [
    {
     "data": {
      "text/plain": [
       "[('show', 24576),\n",
       " ('like', 13950),\n",
       " ('season', 13105),\n",
       " ('one', 12966),\n",
       " ('series', 12254),\n",
       " ('good', 11132),\n",
       " ('really', 8478),\n",
       " ('watch', 8424),\n",
       " ('great', 8414),\n",
       " ('characters', 8383)]"
      ]
     },
     "execution_count": 61,
     "metadata": {},
     "output_type": "execute_result"
    }
   ],
   "source": [
    "### Getting a single string from all reviews\n",
    "all_reviews_text = ' '.join(instant_video[\"reviewText\"])\n",
    "\n",
    "## Splitting them into tokens\n",
    "word_tokens = nltk.word_tokenize(all_reviews_text)\n",
    "\n",
    "## Removing the stopwords\n",
    "word_tokens_clean = [each for each in word_tokens if each.lower() not in stop_words and (re.compile(\"[@_!#$%^&*()<>?/\\|}{~:.']\").search(each.lower()) == None) and len(each.lower()) > 2]\n",
    "\n",
    "\n",
    "word_freq = Counter(word_tokens_clean)\n",
    "\n",
    "word_freq.most_common(10)"
   ]
  },
  {
   "cell_type": "code",
   "execution_count": 7,
   "metadata": {},
   "outputs": [
    {
     "data": {
      "text/plain": [
       "['show',\n",
       " 'season',\n",
       " 'series',\n",
       " 'like',\n",
       " 'one',\n",
       " 'good',\n",
       " 'great',\n",
       " 'characters',\n",
       " 'watch',\n",
       " 'love']"
      ]
     },
     "execution_count": 7,
     "metadata": {},
     "output_type": "execute_result"
    }
   ],
   "source": [
    "### Getting a single string from good reviews\n",
    "all_reviews_text = ' '.join(instant_video[instant_video['overall']>3][\"reviewText\"])\n",
    "\n",
    "## Splitting them into tokens\n",
    "word_tokens = nltk.word_tokenize(all_reviews_text)\n",
    "\n",
    "## Removing the stopwords\n",
    "word_tokens_clean = [each for each in word_tokens if each.lower() not in stop_words and (re.compile(\"[@_!#$%^&*()<>?/\\|}{~:.']\").search(each.lower()) == None) and len(each.lower()) > 2]\n",
    "\n",
    "\n",
    "word_freq = Counter(word_tokens_clean)\n",
    "\n",
    "WGR_IV=word_freq.most_common(10)\n",
    "WGR_IV=[x[0] for x in WGR_IV]\n",
    "WGR_IV"
   ]
  },
  {
   "cell_type": "code",
   "execution_count": 8,
   "metadata": {},
   "outputs": [
    {
     "data": {
      "text/plain": [
       "['show',\n",
       " 'like',\n",
       " 'movie',\n",
       " 'one',\n",
       " 'would',\n",
       " 'film',\n",
       " 'really',\n",
       " 'good',\n",
       " 'get',\n",
       " 'time']"
      ]
     },
     "execution_count": 8,
     "metadata": {},
     "output_type": "execute_result"
    }
   ],
   "source": [
    "### Getting a single string from bad reviews\n",
    "all_reviews_text = ' '.join(instant_video[instant_video['overall']<3][\"reviewText\"])\n",
    "\n",
    "## Splitting them into tokens\n",
    "word_tokens = nltk.word_tokenize(all_reviews_text)\n",
    "\n",
    "## Removing the stopwords\n",
    "word_tokens_clean = [each for each in word_tokens if each.lower() not in stop_words and (re.compile(\"[@_!#$%^&*()<>?/\\|}{~:.']\").search(each.lower()) == None) and len(each.lower()) > 2]\n",
    "\n",
    "\n",
    "word_freq = Counter(word_tokens_clean)\n",
    "\n",
    "WBR_IV=word_freq.most_common(10)\n",
    "WBR_IV=[x[0] for x in WBR_IV]\n",
    "WBR_IV"
   ]
  },
  {
   "cell_type": "code",
   "execution_count": 64,
   "metadata": {},
   "outputs": [
    {
     "data": {
      "text/plain": [
       "[('movie', 139076),\n",
       " ('film', 112667),\n",
       " ('one', 73506),\n",
       " ('like', 46052),\n",
       " ('quot', 44715),\n",
       " ('good', 40422),\n",
       " ('great', 40100),\n",
       " ('time', 35735),\n",
       " ('story', 33252),\n",
       " ('would', 32008)]"
      ]
     },
     "execution_count": 64,
     "metadata": {},
     "output_type": "execute_result"
    }
   ],
   "source": [
    "### Getting a single string from all reviews\n",
    "all_reviews_text = ' '.join(movies_tv[\"reviewText\"])\n",
    "\n",
    "## Splitting them into tokens\n",
    "word_tokens = nltk.word_tokenize(all_reviews_text)\n",
    "\n",
    "## Removing the stopwords\n",
    "word_tokens_clean = [each for each in word_tokens if each.lower() not in stop_words and (re.compile(\"[@_!#$%^&*()<>?/\\|}{~:.']\").search(each.lower()) == None) and len(each.lower()) > 2]\n",
    "\n",
    "\n",
    "word_freq = Counter(word_tokens_clean)\n",
    "\n",
    "word_freq.most_common(10)"
   ]
  },
  {
   "cell_type": "code",
   "execution_count": 9,
   "metadata": {},
   "outputs": [
    {
     "data": {
      "text/plain": [
       "['movie',\n",
       " 'film',\n",
       " 'one',\n",
       " 'great',\n",
       " 'quot',\n",
       " 'like',\n",
       " 'good',\n",
       " 'time',\n",
       " 'story',\n",
       " 'would']"
      ]
     },
     "execution_count": 9,
     "metadata": {},
     "output_type": "execute_result"
    }
   ],
   "source": [
    "### Getting a single string from good reviews\n",
    "all_reviews_text = ' '.join(movies_tv[movies_tv['overall']>3][\"reviewText\"])\n",
    "\n",
    "## Splitting them into tokens\n",
    "word_tokens = nltk.word_tokenize(all_reviews_text)\n",
    "\n",
    "## Removing the stopwords\n",
    "word_tokens_clean = [each for each in word_tokens if each.lower() not in stop_words and (re.compile(\"[@_!#$%^&*()<>?/\\|}{~:.']\").search(each.lower()) == None) and len(each.lower()) > 2]\n",
    "\n",
    "\n",
    "word_freq = Counter(word_tokens_clean)\n",
    "\n",
    "WGR_MT=word_freq.most_common(10)\n",
    "WGR_MT=[x[0] for x in WGR_MT]\n",
    "WGR_MT"
   ]
  },
  {
   "cell_type": "code",
   "execution_count": 10,
   "metadata": {},
   "outputs": [
    {
     "data": {
      "text/plain": [
       "['movie',\n",
       " 'film',\n",
       " 'one',\n",
       " 'like',\n",
       " 'quot',\n",
       " 'would',\n",
       " 'good',\n",
       " 'even',\n",
       " 'really',\n",
       " 'time']"
      ]
     },
     "execution_count": 10,
     "metadata": {},
     "output_type": "execute_result"
    }
   ],
   "source": [
    "### Getting a single string from bad reviews\n",
    "all_reviews_text = ' '.join(movies_tv[movies_tv['overall']<3][\"reviewText\"])\n",
    "\n",
    "## Splitting them into tokens\n",
    "word_tokens = nltk.word_tokenize(all_reviews_text)\n",
    "\n",
    "## Removing the stopwords\n",
    "word_tokens_clean = [each for each in word_tokens if each.lower() not in stop_words and (re.compile(\"[@_!#$%^&*()<>?/\\|}{~:.']\").search(each.lower()) == None) and len(each.lower()) > 2]\n",
    "\n",
    "\n",
    "word_freq = Counter(word_tokens_clean)\n",
    "\n",
    "WBR_MT=word_freq.most_common(10)\n",
    "WBR_MT=[x[0] for x in WBR_MT]\n",
    "WBR_MT"
   ]
  },
  {
   "cell_type": "code",
   "execution_count": 11,
   "metadata": {},
   "outputs": [],
   "source": [
    "WGR_MT=[x[0] for x in WGR_MT]\n",
    "WBR_MT=[x[0] for x in WBR_MT]"
   ]
  },
  {
   "cell_type": "markdown",
   "metadata": {},
   "source": [
    "--------"
   ]
  },
  {
   "cell_type": "markdown",
   "metadata": {},
   "source": [
    "The most common words in all ranges are very similar, this complicates the analysis so we must take another approach to the problem"
   ]
  },
  {
   "cell_type": "markdown",
   "metadata": {},
   "source": [
    " #### 2.2\n",
    "\n",
    "Find words that are indicative of bad reviews. That is, words that appear often in bad reviews and *not* in good reviews. What are these words and are they surprising?"
   ]
  },
  {
   "cell_type": "markdown",
   "metadata": {},
   "source": [
    "**Answer.**"
   ]
  },
  {
   "cell_type": "code",
   "execution_count": 75,
   "metadata": {},
   "outputs": [
    {
     "data": {
      "text/plain": [
       "['movie', 'would', 'film', 'really', 'get', 'time']"
      ]
     },
     "execution_count": 75,
     "metadata": {},
     "output_type": "execute_result"
    }
   ],
   "source": [
    "WBR_IV_CLEAN=[x for x in WBR_IV if x not in WGR_IV]\n",
    "WBR_IV_CLEAN"
   ]
  },
  {
   "cell_type": "code",
   "execution_count": 12,
   "metadata": {},
   "outputs": [
    {
     "data": {
      "text/plain": [
       "['even', 'really']"
      ]
     },
     "execution_count": 12,
     "metadata": {},
     "output_type": "execute_result"
    }
   ],
   "source": [
    "WBR_MT_CLEAN=[x for x in WBR_MT if x not in WGR_MT]\n",
    "WBR_MT_CLEAN"
   ]
  },
  {
   "cell_type": "markdown",
   "metadata": {},
   "source": [
    "These words doesn´t really describe or represent a bad review, we should take another approach"
   ]
  },
  {
   "cell_type": "markdown",
   "metadata": {},
   "source": [
    "--------"
   ]
  },
  {
   "cell_type": "markdown",
   "metadata": {},
   "source": [
    "### Exercise 3:\n",
    "\n",
    "Manually inspect the first 10 negative reviews containing the word \"good\". What do you notice? How does this suggest we ought to proceed next?"
   ]
  },
  {
   "cell_type": "markdown",
   "metadata": {},
   "source": [
    "**Answer.**"
   ]
  },
  {
   "cell_type": "code",
   "execution_count": 22,
   "metadata": {},
   "outputs": [
    {
     "name": "stdout",
     "output_type": "stream",
     "text": [
      "I watched this because the Brits usually do a good job with good production values, casting and story lines.  However, in this case it proved a waste of 5 hours. The writers, directors and editors should be ashamed to put their names in the credits.  Important things happen with no apparent reason and the watcher is left scratching his/her head wondering what was the point.  The American general is miscast and not believable.  Lots of clicking of computer keyboards for solutions that never seem to work out. The ending stinks!\n",
      "\n",
      "You know the plot. Trashy kids being trashy. The &#34;good&#34; ones are the &#34;poor&#34; ones. The rich trashy kids are just &#34;bad&#34;. Another movie to help the retarded careers of this TV show's actors. They are all old and washed out. But they still try to be hip and cool with their texting and foul mouths, sex videos. Sorry if you can't route for the heroine of the movie it clearly isn't worth watching.\n",
      "\n",
      "There's a scene in Misery where the author writes what he thinks his nurse/tormentor wants to read and suffers for his presumption. Her main problem is the fact that he cheated when he explained that his heroine was alive, but there was also the fact that he was second guessing his audience. Instead of writing something that he could be proud of, he wrote something that he thought that the audience wanted. In many ways, the decline in quality of Veronica Mars reflected this issue. In the third season of Veronica Mars, Rob Thomas veered away from the season long arc and the feminist context and chose instead to focus on shorter story arcs and one-off episodes that didn't tie into the arcs. Instead of making the show easy for potential new fans, Thomas disappointed the existing fans.There was also the issue of the heroine graduating from high school. The teenage detective angle worked better when the setting was high school and there was a great metaphor about tying in hard boiled mysteries with high school where no one really is what they appear to be. Buffy recovered from the same setback, but just barely.This movie tries to go in the opposite direction of the third season by making a movie that is solely for the fans but retains that same desperate &#34;LOVE ME&#34; vibe that wrecked the last season. A little fan service is nice. It's cool to see Mac and Wallace again. Veronica working to solve the case and manipulating the police force to do it is fine. It's even nice to see Veronica and Logan fall into their old patterns.Ken Marino has established himself in comedic roles in shows like Party Down and Children's Hospital so why not bring back Vinnie Van Lowe.Yet, a little goes a long way and too much just becomes aggravating. Do we really need to get Piz again? Especially when he is still the nice guy that Veronica basically ignores. Does Madison have to be a one-dimensional villain ten years later? Weevil shows up to AGAIN end up on the wrong side of the law. Krysten Ritter appears and then reminds everyone who she was in season 2. The only strange moment of restraint in the movie was not bringing back Adam Scott as the teacher who had sex with a student even though the movie revolves around Carrie Bishop who accused him of rape in the Mars vs. Mars episode from season 1. When the ten year reunion has a tribute to the dead classmates, you almost expect it to take over the movie since there were a lot of dead high school students on the show.With all the fan service, the director and writer forget to tell a compelling story. It's a two hour episode with references that require the Veronica Mars wiki to fully get. Unfortunately, as you are referring to the Wiki, you are getting spoiled for the rather pedestrian mystery - which should already be obvious since it follows the &#34;really popular cult actor shows up in a minor role&#34; pattern.This isn't a bad movie. It just isn't a very good movie.\n",
      "\n",
      "Ok, here's the thing with this show..everyone in it is excellent..I meaneveryone..the story line is fine and the writing good for the set up.I love the parents and always have but the show falls short of evergetting in the least little bit close to what it could be..I don't know whyit's a disappointment but it is..it's got all this gold and for some reasonit's been cast in lead.  Bummer man, because I would really like to watchthese people..and believe me I have tried more than once.\n",
      "\n",
      "Don't waste your time with season two.  She could be fun if she wasn't so hateful inside.  Not good.  Yuck.\n",
      "\n",
      "I just do not like the main character.The only person who seems to like him, is his Mother.His ex-girlfriend hates him, his brother is furious with him, his father is dissapointed with him.Nobody (actors, seem to have a clear line on who they're supposed to be).So far, after 7 episodes,for the first Season, I don't know who, or what anyone is either.Is the owner of the general store, just a stone beetch? Is the IRS auditor just a stone beetch?There is so much good TV. I do not have time to try to figure out what the writers of this show were trying to get across. In my opinion, they had a dart board in their office, and threw darts at it, to see which ones stayed.I'm definately, not willing to watch 18 or so hours of this floundering program.\n",
      "\n",
      "I only watched one episode. It had too much nudity and sex in it. The story line was good but didn't enjoy the rest.\n",
      "\n",
      "What show are the rest of these reviewers watching? I was excited to see this after reading the reviews, but barely made it through the first two hours. Incredibly boring, like a lavish network soap with all that implies. The history is sketchy; if you're going to twist history, at least make it fun and appealing in some way that the truth does not.This is one of the slowest and most unpleasant tv shows I have seen in some time. Then again, I don't watch tv, only tv shows on dvd that reviewers I usually trust found to be good. Guess that's not the best way either! Oh well, I found The Office (the funny version) and Arrested Development that way, so it can't be all bad. Didn't work this time, though.Pass.\n",
      "\n",
      "so i truly enjoyed the first two seasons of Battlestar...truly awesome, military sci/fi show, insane sets, great plot, good acting and those Cylons. all great....the end of season two had some difficulties. alot ALOT less action and more crying. lots of crying. lots of drama. lots of forgetting the entire purpose of the show.season three is where ive ended my battlestar lust....i truly cant take Starbuck anymore, whiny brat...could care less about her romantic interests nor her false bravado.entire spisodes went by with nary a mention of the Cylons.....which, lets be honest...is the best thing about the show.it seems they lost focus or they changed course to appeal to the more 'dramatic' aspects while shelving the 'sci/fi' alltogether.terrible mistake.... i fear season three is when i say frack off Battlestar....you had a AMAZING thing going.\n",
      "\n",
      "I love Damien Lewis; he was awesome in Band of Brothers. But everything else I've seen him in since, has failed to win me over including this new show which I wanted to like. His character (who gets out of prison for a murder he didn't do after 12 years,)is a cop who is quirky and spouts zen phiolosophy to his gorgeous partner all day. Either you like the main characters 'quirky' personality and will get into the show; or you won't which is what I experienced.In addition the flash back storytelling style grew tiresome quickly; Robin Weigert as his Captain and San Francisco Mayor Gavin Newsome's Wife (Jennifer Siebold)both good actors, play very unlikable characters. In fact only Adam Arkin as Damien's ex-con financial advisor, is 'normal' and enjoyable to watch here. A big disappointment as a summer replacement show; get \"Burn Notice\" instead--it's great!l\n",
      "\n"
     ]
    }
   ],
   "source": [
    "bad_reviews_containing_good_IV = [each for each in instant_video[instant_video['overall']<3][\"reviewText\"] if 'good' in each]\n",
    "for review in bad_reviews_containing_good_IV[:10]:\n",
    "    print(review)\n",
    "    print(\"\")"
   ]
  },
  {
   "cell_type": "code",
   "execution_count": 14,
   "metadata": {},
   "outputs": [
    {
     "name": "stdout",
     "output_type": "stream",
     "text": [
      "The acting was good, the story was correct, but naked backsides was not necessary.  Also the Potiphers wife did not need to be so very seductive of a naked Joseph. Not a Christian movie.  I felt that even though it was probably portrayed truthfully, Christans do not need to see so explicit a scene.  This should be rated PG 13 at least.\n",
      "\n",
      "The DVD transfer is pretty good but the scene with Yukon discovering peppermint has been cut.It seems pretty odd to sell a DVD as a restored classic only to leave out the main thing that was to be restored!\n",
      "\n",
      "ANOTHER American cultural icon from the 60's has beendeemed unacceptable by those who would prefer to seemalice where none exists.Not even Underdog can escape the slings and arrows ofthose with the same mentality as the book-burners of1930's Germany.Why do we allow such obvious Orwellian \"Newsspeak\" toedit our past? Come on... this IS a cartoon, for Pete'ssake, NOT some social/political statement.Nothing here needs to be edited or \"cleaned up\". Theseare simple \"good vs. evil\" stories with a happy ending,and should be offered in their entirety... music/songs,credits and all.And, if one is offended by ANY of this... then one mayexorcise one's freedom NOT to purchase such!Nuff' said...\n",
      "\n",
      "why would mel gibson make a movie that would promote alot of controversy? hmm, do you think maybe it might be because ALOT OF PEOPLE WOULD WANT TO SEE IT THEN? i cant believe mel made this movie in honor of god, because if he did then he would of at least made it about an interesting story with a good plot and character development...i agree with the guy who said there should be a sequel. but instead of making jesus a race car driver let him come back from heaven decked out in all sorts of crazy gun crap like rambo. \"Jesus is back, and he is pissed\", follow jesus as he goes back in time to save john conner from the evil robots, and then when thats done jesus will master the magic dragon and go save the elven maidens on mount gundor! we can make it a coming of age story about how jesus is still learning about emotional development or something stupid like that, and in the end can become a pirate and sail into the sunset with a eye patch and pegged leg, or we could just crucify him again, and make sure the nails stay in place\n",
      "\n",
      "Viewed: 5/14Rate: 15/14: The Passion of the Christ garnered a lot of attention in 2004, but I didn't get caught up in the hype or follow it for the slightest bit. Fast forward to ten years later, I was browsing through the library's shelf of movies that might strike my interest, and I saw The Passion of the Christ sitting there. So, I figured that I might give it a try. And I now wish that I never did and have regretted it. The thing with me, I don't watch movies made after the year of 2000 because almost everything I've seen thus far does not resemble good cinema in any shape, form, or manner. So, I gave up and declared that I'll only watch movies made before the end of the year 2000. There is a strong reason in my declaration, and The Passion of the Christ reaffirms my stance. The film brings out the worst of everything. It's the fake acting. It's the constant overt melodrama in everything that the characters do, feel, think, or speak. It's the free-all ultra-graphic torture. It's the unrealistic depiction of what a human being is capable of. It's the impossibility of physics. It's the unmerciful pacing that moves slow like molasses in January. It's the vapid storyline that seems to convey nothing of substance or significance. Truly, The Passion of the Christ is a waste of my time. By the way, I saw Braveheart and thought of it a terrific entertainment, and thenceforth, I was so annoyed by the many borrowed techniques from it into The Passion of the Christ. All in all, what I saw and felt is The Passion of the Torture on both sides: mine and the film's.\n",
      "\n",
      "The movie itself is beautifully filmed. The acting is quite good and as a history freak I found it interesting to hear Latin and Aramaic. I did not find it anti-semitic, but then I can understand why Jewish folk might be suspicious, given the beliefs espoused by Gibsons' family, and never actually disavowed by Gibson himself.I am not a Christian, so it struck me as odd that Christians would like this film from a theological standpoint. Perhaps I am just not getting it. I always understood that the most central point of the Jesus story was that he arose from the dead, not that he was tortured to death. So it suprises me that the film would concentrate almost entirely on this one aspect of the story, rather than on the resurrection part. That it does not, smacks of violence-as-a-marketing-tool to me. When all the hoopla has died down, it will be interesting to see how much money Gibson will have made off of the suffering of his savior.I have to say that I am more than a little shocked at the fawning tone I have seen in these reviews, particularly from Christians. The enthusiastic way in which they are taking joy in watching someone being slowly tortured to death is sickening; and exactly the same sort of bloodthirsty eagerness that the ancient Romans displayed when they watched animals and people (including Christians) being executed in the arena. The fact that there is a religious purpose to the film does not excuse this. I wonder if this movie were made with the exact same types of scenes, but without the religious content, how many of reviewers would still sing its praises. I guess Jesus' message has not really changed the human heart, eh? Shame on all of you.If you don't think about the movie's religious implcations and view it as a horror flick in period costume, the movie comes off just fine. However I suspect that this was not Gibson's intent.Not being a slasher movie fan, I probably won't see this movie again. Or even bother renting it, much less buying it. But if you are a modern day Savonarola, and believe that pain and suffering is the most important aspect of your religion, you will get off on this film.\n",
      "\n",
      "While the film was shot beautifully and the acting was fantastic, it did not help to overcome the hollow feeling this film left. Yes the violence was extreme, but in this regard it did more to hinder the emotion that was trying to be conveyed. There comes a point when it is TOO much. We, the audience, become desensitized and detached from what the filmmaker is trying to get across. In other words, the point is gotten across so much that we feel hit over the head with it. Whether you believe this stuff really happened or not (personally I do not), speaking from a film-only critique, it did more damage than good. And does anyone else find it a bit sad how they sell nails from the movie as necklace charms? Ugh! I'm sure if there is a Jesus, he wouldn't be so happy at a blatant grab for cash as opposed to helping a fellow man in need.\n",
      "\n",
      "I finally saw this film after everyone has said all that can be said about it, so I'll be brief. Expecting the absolute worst from Mr. Mel \"Sadist\" Gibson, I have to say that this film is nowhere near as good as its idolatrous fan base would have you believe, but neither is it as repellent as its detractors claim. In short, it's just a movie, not a particularly good one, with absolutely no emotional content and nothing in it to either explain what's happening or to make you care. It looks terrific---Mel obviously has cash to spare for his film-director-as-God craziness. But that's about where the praise ends. The whole thing has a nasty tone; in Mel's version of the tale, anyone who had anything to do with Jesus suffers nothing but misery, and while I'm not a believer myself, my guess is that's not the moral of the story as Jesus would tell it. And when Jesus marches out of the tomb at the end, eyes a-blazin' and military music blasting away on the soundtrack, I forgot for a second whether I was watching a film about Jesus or whether I had accidentally stumbled on to \"Braveheart Part II.\" Mel Gibson is a wretched director, and the worst thing anyone can do with wretched directors is to take their work too seriously, for that gives them clout they don't deserve. All he's done here is turn a Biblical story into a horror movie, complete with creepy Satan babies and more shredded flesh than is on display in the entire \"Friday the 13th\" series. This stuff was camp 30 years ago, and it's just sad to see Gibson resorting to schlock effects in an attempt to make up for his movie's complete lack of narrative grounding. See this or don't see this, whichever is your preference. But religious or not, this film is not going to change your life. If it does, then you need to get a different one.Grade: D+\n",
      "\n",
      "Problem 1: People who take on side immediately, only because they want to feel connected to the \"mass\" pop-culture audience.  This is no mystery or suprise; be it sports, fashion, cars, vacation spots, etc., people desire connection to larger things mostly out of dissapointment from their own failures, losses, and frustrations.  Gibson did not just pander to the religious-right bible thumping deep south fanatics, but what he really was after was placing blame square on someone's shoulders: seeing that Morgenstern's father had to beg Mel to cut out the blood be on your children part, it's pretty straightforward as to where he comes from and who he wishes to demonize.  Furthermore, Gibson is staunchly Roman Catholic, demanding that people follow him and keep prayers in the Latin tongue...umm, alright Mel, frankly that whole side to you is lame and passe; it's like saying to someone \"Hey, do these prayers my way or the highway!\"  Mel really looked to place blame and rekindle old doubts and frictions between the Vatican and the Middle East; perhaps he had is way in that respect.  Main Point: Mel loves his Vatican and old religious practices and tried to turn the good Christians in America toward the side of the Vatican.  Result: very bad move.Problem 2: Religion or Race?  What is really more important and deeply engrained in the minds of most peoples?  Do you cast greater prejudice on grounds of physical features or religious affiliations?: Answer, race motivates on a deeper, actually realistic level as compared to phony religious claimings.  All of the worlds struggles, great conflicts, boil down to nationalistic pride and xenophobia more so than religious differences; e.g. the Persians allowing Jerusalem to be a site of worship for all peaceful peoples.  The real cancer on the Earth today is still the Vatican, which is itself pagan and by no means perfect (crusades, persecutions, papal bullying of nations including England and Germany by Romes legions, grand inquisition, etc.).  Will there ever be an African Pope?  Ha, not bloody likely.  Let's be real people, the world is determined and judged not by titles or teams (though commendment and numbers do help a cause) but by physical looks and similarities to our own ideals and preferences.  Main Point: Cut the nonsense, this world of ours is a cyclic sphere of national aspirations and individual coruption when faced with far-reaching decisions.  Result: we judge not by content of character or work ethic but by ideals.Problem 3: Religious difference as excuse for Racial decimation.  The Vatican, Mel's favorite big brother, that old institution in Rome once hellbent on ruling the world (how dare these thugs in robes who do little work...Karol Wojytola or John Paul II as an exception...and do absolutely nothing for science or human alleviation but would rather tell women how to live and enjoy old religious ceremonies tell whole nations and unique peoples such as Russia and China how to live) has been shown in the last few years (child molestation and financial fraudulence) to be highly corrupt and hypocritical.  How can Rome try to invade England and ruin Germany and deploy Spanish troops to Ireland hundreds of years ago, leaving death and destruction in their wake (Mel should have thought harder when making Braveheart, but being chauvanistic as he is, he forgot how the Scottish painted their faces blue and fought off Catholic Roman and Spanish troops trying to invande and take over the British Isles, not fight the English who have been a model nation to the world in regards to civilty and scientific thought...Newton ring a bell anyone?).  Main Point: for a nonspiritual demagoguery such as the Vatican to escape unscathed for what they've done to so many nations who were gentle and intellgent and progressive all until Catholic dogma invaded, they've really dodged quite a few bullets.  However, their time is running out.  Result: a world growing increasingly tired of relgious teachings as their ever evolving senses tell them of its use as a pretext for conquests and plundering.Problem 4: As the brilliant Harvard professor Samuel Huntington has portrayed in his books on clashes of cultures and remaking world order, the world is by no means stable.  Not even after civil wars, revolutions, world wars, coups....none have secured the longlasting peace so hoped for by many, but not all (e.g. thugs, gangs, criminals, dictators - the less intelligent real-life monsters of past and present).  The world of tommrrow is not one of religion (even south america is growing apart thanks to hugo chavez's finger pointing at america) but one of national identity...ironically, that has always been the case.  Main Point: integration and segregation continue to pull at eachother, fracturing America more than ever before.  The unrealistic thoughts of everyone \"liking\" each other and just \"getting along\" are over, and have never been much more than false words for false security.  Result: An America and Western world that wakes up to the threats from the east, a new China that could be peaceful partner or worst nightmare, and countries forced to take extreme measures due to unwanted influences (i.e. muslims taking over London's streets, France becoming a barnyard bash that doesn't work, and China wanting to remain a cultural empire unhinged by capitalism.  The world will survive and grow as old ideas of how to do just such collapse across the globe.  Dogma fails while reason, service, and a new humanity to all neighbors, be they of any race, flourishes.  The Herculean Man-God ideal fades as people grow tired of God being white, black, asian, green, blue, etc.  The world matures, people relax spiritually, and scientific advance continues to do some good, some bad.  As John Lennon so poetically said, sometimes we all have to \"Let It Be.\"\n",
      "\n",
      "I came at this film from a non-Christian perspective in that I think the events portrayed either never happened or were so distorted by those who wrote the Gospels that they beared no resemblance to history.  That meant I couldn't respond to the guilt trip Mel Gibson meant to put on everyone about how Jesus  suffered for everyone's sins, so I looked at it as just a movie. A very boring movie.First the good parts. I thought using the ancient languages worked very well as did the look of the film, which featured some good filter effects (the garden scenes) and a drab color palette that evoked the past more than a bright one would have. I also liked Maia Morgenstern's performance as Mary. She did an excellent job of portraying her mixed feelings of pride and pain. The sets of the city were good and there were some great landscape shots, especially from the mountains. I also thought the DTS soundtrack was very good.Those weren't enough to make this a good movie for me though. The beatings grew boring very quickly, which made the final half of the film very tedious for me. Mel Gibson mostly worked in caricatures, portraying the Roman soldiers as mindless brutes, the apostles as dim-witted cowards and the Jews as a rabid mob. James Caviezel did a good enough job playing an impossible role, but I didn't find someone covered in blood or woodenly quoting biblical passages particularly interesting. The scenes with the Satan character didn't work for me at all.There was also the problem that, if you weren't a Christian or familiar with the Christian mythology, this movie would have made no sense at all. I guess to Gibson this wasn't a problem, since he was making this film for a specific audience. That audience made him a lot of money, so I suppose the choices he took worked for his pocketbook. That does not make this a great movie though. (As far as the anti-Semitic question, I agree that this film qualified. The Jews suffered for centuries because of the \"Christ Killer\" label, and this movie echoed that belief. The Romans may have did the killing, but the Jews started the ball rolling, a fact Gibson hammered home repeatedly. Like father, like son.)\n",
      "\n"
     ]
    }
   ],
   "source": [
    "bad_reviews_containing_good_MT = [each for each in movies_tv[movies_tv['overall']<3][\"reviewText\"] if 'good' in each]\n",
    "for review in bad_reviews_containing_good_MT[:10]:\n",
    "    print(review)\n",
    "    print(\"\")"
   ]
  },
  {
   "cell_type": "markdown",
   "metadata": {},
   "source": [
    "We should look for important words in each sentence, and what these important words are related to."
   ]
  },
  {
   "cell_type": "markdown",
   "metadata": {},
   "source": [
    "--------"
   ]
  },
  {
   "cell_type": "markdown",
   "metadata": {},
   "source": [
    "### Exercise 4:\n",
    "\n",
    "Go through the list of bad reviews containing the word \"good\" that we found in the last question. For each review, extract the following:\n",
    "\n",
    "1. The first word after \"good\"\n",
    "2. The first word after \"good\" that is a noun or cardinal\n",
    "3. The last word before \"good\" that is a noun or cardinal"
   ]
  },
  {
   "cell_type": "markdown",
   "metadata": {},
   "source": [
    "**Answer.**"
   ]
  },
  {
   "cell_type": "code",
   "execution_count": 16,
   "metadata": {},
   "outputs": [],
   "source": [
    "def next_word(sentence):\n",
    "    post = re.findall(r'good.*', sentence)\n",
    "    if (len(post) > 0):\n",
    "        temp = re.split(r'\\s',post[0])\n",
    "        if (len(temp) > 1):\n",
    "            return(temp[1])\n",
    "        else:\n",
    "            return('')\n",
    "    else:\n",
    "        return('')"
   ]
  },
  {
   "cell_type": "code",
   "execution_count": 23,
   "metadata": {},
   "outputs": [
    {
     "data": {
      "text/plain": [
       "[('but', 41),\n",
       " ('and', 27),\n",
       " ('as', 22),\n",
       " ('for', 13),\n",
       " ('thing', 13),\n",
       " ('at', 13),\n",
       " ('to', 11),\n",
       " ('the', 11),\n",
       " ('The', 10),\n",
       " ('show', 9)]"
      ]
     },
     "execution_count": 23,
     "metadata": {},
     "output_type": "execute_result"
    }
   ],
   "source": [
    "#The first word after good\n",
    "post_good = []\n",
    "ind = 0\n",
    "for sentence in bad_reviews_containing_good_IV:\n",
    "    temp = next_word(sentence)\n",
    "    post_good.append(temp)\n",
    "    \n",
    "nonempty = [i for i in post_good if i] \n",
    "Counter(nonempty).most_common(10)"
   ]
  },
  {
   "cell_type": "code",
   "execution_count": 20,
   "metadata": {},
   "outputs": [
    {
     "data": {
      "text/plain": [
       "[('as', 113),\n",
       " ('and', 108),\n",
       " ('but', 95),\n",
       " ('movie', 67),\n",
       " ('thing', 64),\n",
       " ('job', 47),\n",
       " ('to', 40),\n",
       " ('in', 39),\n",
       " ('movie.', 34),\n",
       " ('about', 30)]"
      ]
     },
     "execution_count": 20,
     "metadata": {},
     "output_type": "execute_result"
    }
   ],
   "source": [
    "#The first word after good\n",
    "post_good = []\n",
    "ind = 0\n",
    "for sentence in bad_reviews_containing_good_MT:\n",
    "    temp = next_word(sentence)\n",
    "    post_good.append(temp)\n",
    "    \n",
    "nonempty = [i for i in post_good if i] \n",
    "Counter(nonempty).most_common(10)"
   ]
  },
  {
   "cell_type": "code",
   "execution_count": 24,
   "metadata": {},
   "outputs": [],
   "source": [
    "# The first word after \"good\" that is a noun or cardinal\n",
    "def ExtractInteresting1(sentence, good=['CD','NN']):\n",
    "    words = nltk.word_tokenize(sentence)\n",
    "    interesting = [k for k,v in nltk.pos_tag(words) if v in good]\n",
    "    return(interesting)\n",
    "def next_word1(sentence):\n",
    "    post = re.findall(r'good.*', sentence)\n",
    "    if (len(post) > 0):\n",
    "        temp = ExtractInteresting1(post[0])\n",
    "        if (len(temp) > 0):\n",
    "            return(temp[0])\n",
    "        else:\n",
    "            return('')\n",
    "    else:\n",
    "        return('')"
   ]
  },
  {
   "cell_type": "code",
   "execution_count": 25,
   "metadata": {},
   "outputs": [
    {
     "data": {
      "text/plain": [
       "[('show', 34),\n",
       " ('movie', 27),\n",
       " ('story', 21),\n",
       " ('thing', 20),\n",
       " ('one', 17),\n",
       " ('job', 16),\n",
       " ('idea', 16),\n",
       " ('acting', 14),\n",
       " ('film', 12),\n",
       " ('season', 11)]"
      ]
     },
     "execution_count": 25,
     "metadata": {},
     "output_type": "execute_result"
    }
   ],
   "source": [
    "post_good = []\n",
    "ind = 0\n",
    "for sentence in bad_reviews_containing_good_IV:\n",
    "    temp = next_word1(sentence)\n",
    "    post_good.append(temp)\n",
    "    \n",
    "nonempty = [i for i in post_good if i] \n",
    "Counter(nonempty).most_common(10)"
   ]
  },
  {
   "cell_type": "code",
   "execution_count": 26,
   "metadata": {},
   "outputs": [
    {
     "data": {
      "text/plain": [
       "[('movie', 282),\n",
       " ('film', 100),\n",
       " ('thing', 83),\n",
       " ('one', 70),\n",
       " ('job', 66),\n",
       " ('idea', 46),\n",
       " ('acting', 46),\n",
       " ('story', 40),\n",
       " ('goodness', 37),\n",
       " ('quot', 36)]"
      ]
     },
     "execution_count": 26,
     "metadata": {},
     "output_type": "execute_result"
    }
   ],
   "source": [
    "post_good = []\n",
    "ind = 0\n",
    "for sentence in bad_reviews_containing_good_MT:\n",
    "    temp = next_word1(sentence)\n",
    "    post_good.append(temp)\n",
    "    \n",
    "nonempty = [i for i in post_good if i] \n",
    "Counter(nonempty).most_common(10)"
   ]
  },
  {
   "cell_type": "code",
   "execution_count": 27,
   "metadata": {},
   "outputs": [],
   "source": [
    "# The last word before \"good\" that is a noun or cardinal\n",
    "def ExtractInteresting2(sentence, good=['CD','NN']):\n",
    "    words = nltk.word_tokenize(sentence)\n",
    "    interesting = [k for k,v in nltk.pos_tag(words) if v in good]\n",
    "    return(interesting)\n",
    "def next_word2(sentence):\n",
    "    post = re.findall(r'.+good', sentence)\n",
    "    if (len(post) > 0):\n",
    "        temp = ExtractInteresting2(post[0])\n",
    "        if (len(temp) > 0):\n",
    "            return(temp[-1])\n",
    "        else:\n",
    "            return('')\n",
    "    else:\n",
    "        return('')"
   ]
  },
  {
   "cell_type": "code",
   "execution_count": 28,
   "metadata": {},
   "outputs": [
    {
     "data": {
      "text/plain": [
       "[('movie', 38),\n",
       " ('show', 31),\n",
       " ('acting', 25),\n",
       " ('one', 24),\n",
       " ('good', 17),\n",
       " ('34', 14),\n",
       " ('something', 14),\n",
       " ('writing', 11),\n",
       " ('film', 11),\n",
       " ('story', 11)]"
      ]
     },
     "execution_count": 28,
     "metadata": {},
     "output_type": "execute_result"
    }
   ],
   "source": [
    "post_good = []\n",
    "ind = 0\n",
    "for sentence in bad_reviews_containing_good_IV:\n",
    "    temp = next_word2(sentence)\n",
    "    post_good.append(temp)\n",
    "    \n",
    "nonempty = [i for i in post_good if i] \n",
    "Counter(nonempty).most_common(10)"
   ]
  },
  {
   "cell_type": "code",
   "execution_count": 29,
   "metadata": {},
   "outputs": [
    {
     "data": {
      "text/plain": [
       "[('movie', 299),\n",
       " ('film', 136),\n",
       " ('one', 78),\n",
       " ('good', 56),\n",
       " ('acting', 52),\n",
       " ('quot', 42),\n",
       " ('story', 36),\n",
       " ('plot', 32),\n",
       " ('music', 20),\n",
       " ('way', 20)]"
      ]
     },
     "execution_count": 29,
     "metadata": {},
     "output_type": "execute_result"
    }
   ],
   "source": [
    "post_good = []\n",
    "ind = 0\n",
    "for sentence in bad_reviews_containing_good_MT:\n",
    "    temp = next_word2(sentence)\n",
    "    post_good.append(temp)\n",
    "    \n",
    "nonempty = [i for i in post_good if i] \n",
    "Counter(nonempty).most_common(10)"
   ]
  },
  {
   "cell_type": "markdown",
   "metadata": {},
   "source": [
    "--------"
   ]
  },
  {
   "cell_type": "markdown",
   "metadata": {},
   "source": [
    "### Exercise 5:\n",
    "\n",
    "We have seen that individual words are not always very informative. Look for the most informative bigrams and trigrams, in both positive and negative reviews. Show the most informative bigrams and trigrams and give a brief analysis of the n-grams you identified."
   ]
  },
  {
   "cell_type": "markdown",
   "metadata": {},
   "source": [
    "**Answer.**"
   ]
  },
  {
   "cell_type": "code",
   "execution_count": 32,
   "metadata": {},
   "outputs": [],
   "source": [
    "# Following code grabbed from:\n",
    "# https://towardsdatascience.com/a-complete-exploratory-data-analysis-and-visualization-for-text-data-29fb1b96fb6a\n",
    "from sklearn.feature_extraction.text import CountVectorizer\n",
    "def get_top_n_words(corpus, n=1,k=1):\n",
    "    vec = CountVectorizer(ngram_range=(k,k),stop_words = 'english').fit(corpus)\n",
    "    bag_of_words = vec.transform(corpus)\n",
    "    sum_words = bag_of_words.sum(axis=0) \n",
    "    words_freq = [(word, sum_words[0, idx]) for word, idx in vec.vocabulary_.items()]\n",
    "    words_freq =sorted(words_freq, key = lambda x: x[1], reverse=True)\n",
    "    return words_freq[:n]"
   ]
  },
  {
   "cell_type": "code",
   "execution_count": 34,
   "metadata": {},
   "outputs": [
    {
     "data": {
      "text/plain": [
       "[('don waste time', 43),\n",
       " ('really wanted like', 24),\n",
       " ('parental guide bomb', 14),\n",
       " ('big bang theory', 13),\n",
       " ('waste time money', 12),\n",
       " ('bad acting bad', 12),\n",
       " ('don waste money', 10),\n",
       " ('dvd distribution handled', 10),\n",
       " ('note following review', 10),\n",
       " ('following review contain', 10),\n",
       " ('reader prefers review', 10),\n",
       " ('prefers review entirely', 10),\n",
       " ('review entirely spoiler', 10),\n",
       " ('entirely spoiler free', 10),\n",
       " ('34 lost 34', 10),\n",
       " ('guide bomb sex', 10),\n",
       " ('really looking forward', 9),\n",
       " ('blah blah blah', 9),\n",
       " ('complete waste time', 9),\n",
       " ('bomb sex nudity', 9)]"
      ]
     },
     "execution_count": 34,
     "metadata": {},
     "output_type": "execute_result"
    }
   ],
   "source": [
    "get_top_n_words(instant_video[instant_video['overall']<3][\"reviewText\"],20,3)"
   ]
  },
  {
   "cell_type": "code",
   "execution_count": 33,
   "metadata": {},
   "outputs": [
    {
     "data": {
      "text/plain": [
       "[('nightmare elm street', 98),\n",
       " ('tommy lee jones', 89),\n",
       " ('don waste time', 80),\n",
       " ('texas chainsaw massacre', 63),\n",
       " ('don waste money', 59),\n",
       " ('waste time money', 50),\n",
       " ('blu ray version', 48),\n",
       " ('catherine zeta jones', 42),\n",
       " ('blu ray release', 39),\n",
       " ('doesn make sense', 38),\n",
       " ('blu ray player', 37),\n",
       " ('movies ve seen', 37),\n",
       " ('gus van sant', 36),\n",
       " ('didn like movie', 35),\n",
       " ('movie ve seen', 34),\n",
       " ('let just say', 32),\n",
       " ('dvd blu ray', 31),\n",
       " ('prairie home companion', 31),\n",
       " ('ve seen movie', 30),\n",
       " ('complete waste time', 30)]"
      ]
     },
     "execution_count": 33,
     "metadata": {},
     "output_type": "execute_result"
    }
   ],
   "source": [
    "get_top_n_words(movies_tv[movies_tv['overall']<3][\"reviewText\"],20,3)"
   ]
  },
  {
   "cell_type": "code",
   "execution_count": 35,
   "metadata": {},
   "outputs": [
    {
     "data": {
      "text/plain": [
       "[('waste time', 150),\n",
       " ('story line', 116),\n",
       " ('ve seen', 114),\n",
       " ('don know', 102),\n",
       " ('sci fi', 92),\n",
       " ('don think', 81),\n",
       " ('34 34', 79),\n",
       " ('looks like', 75),\n",
       " ('high school', 64),\n",
       " ('special effects', 63),\n",
       " ('don care', 63),\n",
       " ('felt like', 63),\n",
       " ('don waste', 60),\n",
       " ('main character', 60),\n",
       " ('wanted like', 57),\n",
       " ('don like', 56),\n",
       " ('year old', 52),\n",
       " ('really good', 52),\n",
       " ('worth watching', 51),\n",
       " ('low budget', 51)]"
      ]
     },
     "execution_count": 35,
     "metadata": {},
     "output_type": "execute_result"
    }
   ],
   "source": [
    "get_top_n_words(instant_video[instant_video['overall']<3][\"reviewText\"],20,2)"
   ]
  },
  {
   "cell_type": "code",
   "execution_count": 36,
   "metadata": {},
   "outputs": [
    {
     "data": {
      "text/plain": [
       "[('blu ray', 685),\n",
       " ('special effects', 557),\n",
       " ('ve seen', 450),\n",
       " ('movie just', 395),\n",
       " ('waste time', 385),\n",
       " ('don know', 384),\n",
       " ('quot quot', 303),\n",
       " ('good movie', 267),\n",
       " ('looks like', 252),\n",
       " ('like movie', 239),\n",
       " ('look like', 236),\n",
       " ('sci fi', 233),\n",
       " ('years ago', 203),\n",
       " ('year old', 201),\n",
       " ('movie like', 197),\n",
       " ('watch movie', 196),\n",
       " ('don think', 192),\n",
       " ('horror movie', 188),\n",
       " ('movie good', 184),\n",
       " ('bad movie', 180)]"
      ]
     },
     "execution_count": 36,
     "metadata": {},
     "output_type": "execute_result"
    }
   ],
   "source": [
    "get_top_n_words(movies_tv[movies_tv['overall']<3][\"reviewText\"],20,2)"
   ]
  },
  {
   "cell_type": "markdown",
   "metadata": {},
   "source": [
    "--------"
   ]
  },
  {
   "cell_type": "markdown",
   "metadata": {},
   "source": [
    "### Exercise 6:\n",
    "\n",
    "Throughout the above search for informative words, we have seen that unigrams are not enough, but important words (such as \"good\") are not always next to the informative words that they describe. Devise a method to extract these informative words. Provide a brief description of how you will extract the informative words."
   ]
  },
  {
   "cell_type": "markdown",
   "metadata": {},
   "source": [
    "**Answer.**"
   ]
  },
  {
   "cell_type": "code",
   "execution_count": 56,
   "metadata": {},
   "outputs": [
    {
     "data": {
      "text/html": [
       "<div>\n",
       "<style scoped>\n",
       "    .dataframe tbody tr th:only-of-type {\n",
       "        vertical-align: middle;\n",
       "    }\n",
       "\n",
       "    .dataframe tbody tr th {\n",
       "        vertical-align: top;\n",
       "    }\n",
       "\n",
       "    .dataframe thead th {\n",
       "        text-align: right;\n",
       "    }\n",
       "</style>\n",
       "<table border=\"1\" class=\"dataframe\">\n",
       "  <thead>\n",
       "    <tr style=\"text-align: right;\">\n",
       "      <th></th>\n",
       "      <th>good</th>\n",
       "      <th>awful</th>\n",
       "    </tr>\n",
       "  </thead>\n",
       "  <tbody>\n",
       "    <tr>\n",
       "      <th>0</th>\n",
       "      <td>movie</td>\n",
       "      <td>sound</td>\n",
       "    </tr>\n",
       "  </tbody>\n",
       "</table>\n",
       "</div>"
      ],
      "text/plain": [
       "    good  awful\n",
       "0  movie  sound"
      ]
     },
     "execution_count": 56,
     "metadata": {},
     "output_type": "execute_result"
    }
   ],
   "source": [
    "import pandas as pd\n",
    "from nltk.corpus import stopwords\n",
    "#Important words it's a list of words\n",
    "##Function still doesn't work properly when the same important word is more than one time in a short-sentence.\n",
    "#s_type depends on the relation we are looking for between the important and the informative word\n",
    "def inf_word(longsentence,important_words, s_type=\"NN\"):\n",
    "    sentences = nltk.sent_tokenize(longsentence)\n",
    "    Inf_words=pd.DataFrame()\n",
    "    stop_words = set(stopwords.words(\"english\"))\n",
    "    for word in important_words:\n",
    "        \n",
    "        informative_words=[]\n",
    "        for s in sentences:\n",
    "            posts=[]\n",
    "            ## Splitting them into tokens\n",
    "            word_tokens = nltk.word_tokenize(s)\n",
    "\n",
    "            ## Removing the stopwords\n",
    "            word_tokens_clean = [each for each in word_tokens if each.lower() not in stop_words ]\n",
    "            \n",
    "            s=(\" \").join(word_tokens_clean)\n",
    "            posts.append(re.findall(r'%s.*'%word, s))\n",
    "            posts.append(re.findall(r'.+%s'%word, s))\n",
    "            i=0\n",
    "            posible_word=[]\n",
    "            for post in posts:\n",
    "                if len(post)>0:\n",
    "                    if (len(nltk.word_tokenize(post[0])) > 1):\n",
    "                        words = nltk.word_tokenize(post[0])\n",
    "                        interesting2 = [k for k,v in nltk.pos_tag(words) if v in [s_type]] \n",
    "                        if len(interesting2)>0:\n",
    "                            posible_word.append(interesting2[-i])    \n",
    "                i=i+1\n",
    "            if len(posible_word)>1:\n",
    "                d1= (re.search(r'\\b(%s)\\b'%posible_word[0], s).span()[1])-(re.search(r'\\b(%s)\\b'%word, s).span()[0])      \n",
    "                d2=(re.search(r'\\b(%s)\\b'%word, s).span()[1])-(re.search(r'\\b(%s)\\b'%posible_word[1], s).span()[0])\n",
    "                if d1<d2:\n",
    "                    informative_words.append(posible_word[0])\n",
    "                else:\n",
    "                    informative_words.append(posible_word[1])\n",
    "            else:\n",
    "                if len(posible_word)>0:\n",
    "                    informative_words.append(posible_word[0])\n",
    "        Inf_words[word]=informative_words\n",
    "    return Inf_words\n",
    "w2=inf_word(\"That movie was good, very long history, but an awful sound\",[\"good\",\"awful\"])\n",
    "w2"
   ]
  },
  {
   "cell_type": "markdown",
   "metadata": {},
   "source": [
    "We locate the important word in the sentence and then we look before and adther for the informative words closest to the important word."
   ]
  },
  {
   "cell_type": "markdown",
   "metadata": {},
   "source": [
    "--------"
   ]
  },
  {
   "cell_type": "markdown",
   "metadata": {},
   "source": [
    "### Exercise 7:\n",
    "\n",
    "Write a function(s) that transforms a sentence into a new text list by iteratively pairing each adjective in the sentence with the next noun that follows it in the sentence. For example, the text \"That was a good, long movie\" should return `[\"good movie\", \"long movie\"]`."
   ]
  },
  {
   "cell_type": "markdown",
   "metadata": {},
   "source": [
    "**Answer.**"
   ]
  },
  {
   "cell_type": "markdown",
   "metadata": {},
   "source": [
    "--------"
   ]
  },
  {
   "cell_type": "code",
   "execution_count": 52,
   "metadata": {},
   "outputs": [
    {
     "data": {
      "text/plain": [
       "['good movie', 'long movie', 'awful awful']"
      ]
     },
     "execution_count": 52,
     "metadata": {},
     "output_type": "execute_result"
    }
   ],
   "source": [
    "def adj_noun(sentence):\n",
    "    words = nltk.word_tokenize(sentence)\n",
    "    interesting = [k for k,v in nltk.pos_tag(words) if v in [\"JJ\"]]\n",
    "    if (len(interesting) > 0):\n",
    "        adjt_nouns=[]\n",
    "        for adj in interesting:\n",
    "            post = re.findall(r'%s.*'%adj, sentence)\n",
    "            if (len(nltk.word_tokenize(post[0])) > 1):\n",
    "                words = nltk.word_tokenize(post[0])\n",
    "                interesting2 = [k for k,v in nltk.pos_tag(words) if v in [\"NN\"]]\n",
    "                if (len(interesting2) > 0):\n",
    "                    adjt_nouns.append(adj+' '+interesting2[0])\n",
    "                else:\n",
    "                    adjt_nouns.append(adj)\n",
    "            else:\n",
    "                adjt_nouns.append(adj)\n",
    "        return adjt_nouns\n",
    "    else:\n",
    "        print(\"There are no adjectives in the sentence\")\n",
    "        return None\n",
    "adj_noun(\"That was a good, long movie, but an awful sound\")"
   ]
  },
  {
   "cell_type": "code",
   "execution_count": null,
   "metadata": {},
   "outputs": [],
   "source": []
  }
 ],
 "metadata": {
  "kernelspec": {
   "display_name": "Python 3",
   "language": "python",
   "name": "python3"
  },
  "language_info": {
   "codemirror_mode": {
    "name": "ipython",
    "version": 3
   },
   "file_extension": ".py",
   "mimetype": "text/x-python",
   "name": "python",
   "nbconvert_exporter": "python",
   "pygments_lexer": "ipython3",
   "version": "3.7.4"
  }
 },
 "nbformat": 4,
 "nbformat_minor": 2
}
