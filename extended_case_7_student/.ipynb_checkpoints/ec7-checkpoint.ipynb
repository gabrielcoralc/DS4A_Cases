{
 "cells": [
  {
   "cell_type": "markdown",
   "metadata": {},
   "source": [
    "# Strategies to prevent overfitting in neural networks"
   ]
  },
  {
   "cell_type": "code",
   "execution_count": 1,
   "metadata": {},
   "outputs": [],
   "source": [
    "%matplotlib inline\n",
    "\n",
    "import numpy as np\n",
    "import pandas as pd\n",
    "import tensorflow as tf\n",
    "\n",
    "from sklearn.model_selection import train_test_split\n",
    "from sklearn.metrics import accuracy_score\n",
    "from sklearn.metrics import confusion_matrix\n",
    "\n",
    "from tensorflow.keras import regularizers\n",
    "from tensorflow.keras.preprocessing.text import Tokenizer\n",
    "from tensorflow.keras.preprocessing.sequence import pad_sequences\n",
    "from tensorflow.keras.layers import Embedding, Dense, GlobalMaxPooling1D, Dropout\n",
    "from tensorflow.keras.models import Sequential\n",
    "from tensorflow.keras import regularizers\n",
    "from tensorflow.keras.callbacks import EarlyStopping\n",
    "\n",
    "try:\n",
    "    tf.set_random_seed(1337)                    # set the random seed for reproducibility\n",
    "except:\n",
    "    tf.random.set_seed(1337)                     # NOTE: Newer version of tensorflow uses tf.random.set_seed\n",
    "np.random.seed(1337)                         #       instead of tf.set_random_seed"
   ]
  },
  {
   "cell_type": "markdown",
   "metadata": {},
   "source": [
    "## Introduction\n",
    "\n",
    "**Business Context.** You are a data scientist working for a machine learning consultancy. One of your clients wants to be able to classify text reviews automatically by the likely rating (on a 1 - 5 scale) that that person would give. However, they do not have sufficient data they generated on their own to do this, so you need to use an external, rich dataset as a basis on which to build your model and then translate it over.\n",
    "\n",
    "**Business Problem.** Your task is to **build a neural networks-based model for classifying text reviews into likely ratings (on a 1 - 5 scale)**.\n",
    "\n",
    "**Analytical Context.** We'll use the Amazon review dataset again and try to classify reviews into star ratings automatically. Instead of just positive and negative, we'll take on the harder challenge of predicting the *exact* star rating. The lowest score is 1 and the highest is 5.\n",
    "\n",
    "Instead of trying to optimize by pre-processing the text, we'll do very basic tokenization and experiment with different neural network models, architectures, and hyperparameters to optimize the results. You'll start by building a simple dense neural network and try to get it to perform better using various techniques. Then you'll evaluate the results and diagnose where it tends to perform more poorly."
   ]
  },
  {
   "cell_type": "markdown",
   "metadata": {},
   "source": [
    "## Setting up and preparing the data\n",
    "\n",
    "We'll mainly be using the `keras` module from TensorFlow, but we'll also use `pandas` to read the CSV file and `sklearn` for some helper functions. We'll be using only the \"Text\" and \"Score\" columns in the `Reviews.csv` file:"
   ]
  },
  {
   "cell_type": "code",
   "execution_count": 2,
   "metadata": {},
   "outputs": [
    {
     "data": {
      "text/html": [
       "<div>\n",
       "<style scoped>\n",
       "    .dataframe tbody tr th:only-of-type {\n",
       "        vertical-align: middle;\n",
       "    }\n",
       "\n",
       "    .dataframe tbody tr th {\n",
       "        vertical-align: top;\n",
       "    }\n",
       "\n",
       "    .dataframe thead th {\n",
       "        text-align: right;\n",
       "    }\n",
       "</style>\n",
       "<table border=\"1\" class=\"dataframe\">\n",
       "  <thead>\n",
       "    <tr style=\"text-align: right;\">\n",
       "      <th></th>\n",
       "      <th>Id</th>\n",
       "      <th>ProductId</th>\n",
       "      <th>UserId</th>\n",
       "      <th>ProfileName</th>\n",
       "      <th>HelpfulnessNumerator</th>\n",
       "      <th>HelpfulnessDenominator</th>\n",
       "      <th>Score</th>\n",
       "      <th>Time</th>\n",
       "      <th>Summary</th>\n",
       "      <th>Text</th>\n",
       "    </tr>\n",
       "  </thead>\n",
       "  <tbody>\n",
       "    <tr>\n",
       "      <th>0</th>\n",
       "      <td>1</td>\n",
       "      <td>B001E4KFG0</td>\n",
       "      <td>A3SGXH7AUHU8GW</td>\n",
       "      <td>delmartian</td>\n",
       "      <td>1</td>\n",
       "      <td>1</td>\n",
       "      <td>5</td>\n",
       "      <td>1303862400</td>\n",
       "      <td>Good Quality Dog Food</td>\n",
       "      <td>I have bought several of the Vitality canned d...</td>\n",
       "    </tr>\n",
       "    <tr>\n",
       "      <th>1</th>\n",
       "      <td>2</td>\n",
       "      <td>B00813GRG4</td>\n",
       "      <td>A1D87F6ZCVE5NK</td>\n",
       "      <td>dll pa</td>\n",
       "      <td>0</td>\n",
       "      <td>0</td>\n",
       "      <td>1</td>\n",
       "      <td>1346976000</td>\n",
       "      <td>Not as Advertised</td>\n",
       "      <td>Product arrived labeled as Jumbo Salted Peanut...</td>\n",
       "    </tr>\n",
       "    <tr>\n",
       "      <th>2</th>\n",
       "      <td>3</td>\n",
       "      <td>B000LQOCH0</td>\n",
       "      <td>ABXLMWJIXXAIN</td>\n",
       "      <td>Natalia Corres \"Natalia Corres\"</td>\n",
       "      <td>1</td>\n",
       "      <td>1</td>\n",
       "      <td>4</td>\n",
       "      <td>1219017600</td>\n",
       "      <td>\"Delight\" says it all</td>\n",
       "      <td>This is a confection that has been around a fe...</td>\n",
       "    </tr>\n",
       "    <tr>\n",
       "      <th>3</th>\n",
       "      <td>4</td>\n",
       "      <td>B000UA0QIQ</td>\n",
       "      <td>A395BORC6FGVXV</td>\n",
       "      <td>Karl</td>\n",
       "      <td>3</td>\n",
       "      <td>3</td>\n",
       "      <td>2</td>\n",
       "      <td>1307923200</td>\n",
       "      <td>Cough Medicine</td>\n",
       "      <td>If you are looking for the secret ingredient i...</td>\n",
       "    </tr>\n",
       "    <tr>\n",
       "      <th>4</th>\n",
       "      <td>5</td>\n",
       "      <td>B006K2ZZ7K</td>\n",
       "      <td>A1UQRSCLF8GW1T</td>\n",
       "      <td>Michael D. Bigham \"M. Wassir\"</td>\n",
       "      <td>0</td>\n",
       "      <td>0</td>\n",
       "      <td>5</td>\n",
       "      <td>1350777600</td>\n",
       "      <td>Great taffy</td>\n",
       "      <td>Great taffy at a great price.  There was a wid...</td>\n",
       "    </tr>\n",
       "  </tbody>\n",
       "</table>\n",
       "</div>"
      ],
      "text/plain": [
       "   Id   ProductId          UserId                      ProfileName  \\\n",
       "0   1  B001E4KFG0  A3SGXH7AUHU8GW                       delmartian   \n",
       "1   2  B00813GRG4  A1D87F6ZCVE5NK                           dll pa   \n",
       "2   3  B000LQOCH0   ABXLMWJIXXAIN  Natalia Corres \"Natalia Corres\"   \n",
       "3   4  B000UA0QIQ  A395BORC6FGVXV                             Karl   \n",
       "4   5  B006K2ZZ7K  A1UQRSCLF8GW1T    Michael D. Bigham \"M. Wassir\"   \n",
       "\n",
       "   HelpfulnessNumerator  HelpfulnessDenominator  Score        Time  \\\n",
       "0                     1                       1      5  1303862400   \n",
       "1                     0                       0      1  1346976000   \n",
       "2                     1                       1      4  1219017600   \n",
       "3                     3                       3      2  1307923200   \n",
       "4                     0                       0      5  1350777600   \n",
       "\n",
       "                 Summary                                               Text  \n",
       "0  Good Quality Dog Food  I have bought several of the Vitality canned d...  \n",
       "1      Not as Advertised  Product arrived labeled as Jumbo Salted Peanut...  \n",
       "2  \"Delight\" says it all  This is a confection that has been around a fe...  \n",
       "3         Cough Medicine  If you are looking for the secret ingredient i...  \n",
       "4            Great taffy  Great taffy at a great price.  There was a wid...  "
      ]
     },
     "execution_count": 2,
     "metadata": {},
     "output_type": "execute_result"
    }
   ],
   "source": [
    "amazon_reviews = pd.read_csv('Reviews.csv', nrows=262084)\n",
    "amazon_reviews.head(5)"
   ]
  },
  {
   "cell_type": "markdown",
   "metadata": {},
   "source": [
    "### Exercise 1:\n",
    "\n",
    "Combine the first 1,000 of each of the 1-, 2-, 3-, 4-, and 5-star reviews in `amazon_reviews` into a single DataFrame (so you should have 5,000 observations in total). Split this DataFrame into training and test sets, with 80% of the data for the training set.\n",
    "\n",
    "**Hint:** `keras` will expected your labels to start with 0, and not 1, so make sure to adjust the labels accordingly."
   ]
  },
  {
   "cell_type": "markdown",
   "metadata": {},
   "source": [
    "**Answer.**"
   ]
  },
  {
   "cell_type": "code",
   "execution_count": 3,
   "metadata": {
    "scrolled": true
   },
   "outputs": [],
   "source": [
    "amazon=pd.DataFrame()\n",
    "for scores in range(1,6):\n",
    "    amazon=pd.concat([amazon,amazon_reviews[amazon_reviews['Score']==scores].head(1000)])\n",
    "amazon=amazon.reset_index(drop='True')\n",
    "amazon['Score']=amazon['Score']-1"
   ]
  },
  {
   "cell_type": "code",
   "execution_count": 4,
   "metadata": {},
   "outputs": [
    {
     "data": {
      "text/html": [
       "<div>\n",
       "<style scoped>\n",
       "    .dataframe tbody tr th:only-of-type {\n",
       "        vertical-align: middle;\n",
       "    }\n",
       "\n",
       "    .dataframe tbody tr th {\n",
       "        vertical-align: top;\n",
       "    }\n",
       "\n",
       "    .dataframe thead th {\n",
       "        text-align: right;\n",
       "    }\n",
       "</style>\n",
       "<table border=\"1\" class=\"dataframe\">\n",
       "  <thead>\n",
       "    <tr style=\"text-align: right;\">\n",
       "      <th></th>\n",
       "      <th>Id</th>\n",
       "      <th>ProductId</th>\n",
       "      <th>UserId</th>\n",
       "      <th>ProfileName</th>\n",
       "      <th>HelpfulnessNumerator</th>\n",
       "      <th>HelpfulnessDenominator</th>\n",
       "      <th>Score</th>\n",
       "      <th>Time</th>\n",
       "      <th>Summary</th>\n",
       "      <th>Text</th>\n",
       "      <th>text_no_stopwords</th>\n",
       "    </tr>\n",
       "  </thead>\n",
       "  <tbody>\n",
       "    <tr>\n",
       "      <th>0</th>\n",
       "      <td>2</td>\n",
       "      <td>B00813GRG4</td>\n",
       "      <td>A1D87F6ZCVE5NK</td>\n",
       "      <td>dll pa</td>\n",
       "      <td>0</td>\n",
       "      <td>0</td>\n",
       "      <td>0</td>\n",
       "      <td>1346976000</td>\n",
       "      <td>Not as Advertised</td>\n",
       "      <td>Product arrived labeled as Jumbo Salted Peanut...</td>\n",
       "      <td>Product arrived labeled Jumbo Salted Peanuts.....</td>\n",
       "    </tr>\n",
       "    <tr>\n",
       "      <th>1</th>\n",
       "      <td>13</td>\n",
       "      <td>B0009XLVG0</td>\n",
       "      <td>A327PCT23YH90</td>\n",
       "      <td>LT</td>\n",
       "      <td>1</td>\n",
       "      <td>1</td>\n",
       "      <td>0</td>\n",
       "      <td>1339545600</td>\n",
       "      <td>My Cats Are Not Fans of the New Food</td>\n",
       "      <td>My cats have been happily eating Felidae Plati...</td>\n",
       "      <td>My cats happily eating Felidae Platinum two ye...</td>\n",
       "    </tr>\n",
       "    <tr>\n",
       "      <th>2</th>\n",
       "      <td>27</td>\n",
       "      <td>B001GVISJM</td>\n",
       "      <td>A3RXAU2N8KV45G</td>\n",
       "      <td>lady21</td>\n",
       "      <td>0</td>\n",
       "      <td>1</td>\n",
       "      <td>0</td>\n",
       "      <td>1332633600</td>\n",
       "      <td>Nasty No flavor</td>\n",
       "      <td>The candy is just red , No flavor . Just  plan...</td>\n",
       "      <td>The candy red , No flavor . Just plan chewy . ...</td>\n",
       "    </tr>\n",
       "    <tr>\n",
       "      <th>3</th>\n",
       "      <td>51</td>\n",
       "      <td>B001EO5QW8</td>\n",
       "      <td>A108P30XVUFKXY</td>\n",
       "      <td>Roberto A</td>\n",
       "      <td>0</td>\n",
       "      <td>7</td>\n",
       "      <td>0</td>\n",
       "      <td>1203379200</td>\n",
       "      <td>Don't like it</td>\n",
       "      <td>This oatmeal is not good. Its mushy, soft, I d...</td>\n",
       "      <td>This oatmeal good. Its mushy, soft, I like it....</td>\n",
       "    </tr>\n",
       "    <tr>\n",
       "      <th>4</th>\n",
       "      <td>63</td>\n",
       "      <td>B001EO5TPM</td>\n",
       "      <td>A1E09XGZUR78C6</td>\n",
       "      <td>gary sturrock</td>\n",
       "      <td>2</td>\n",
       "      <td>2</td>\n",
       "      <td>0</td>\n",
       "      <td>1215302400</td>\n",
       "      <td>stale product.</td>\n",
       "      <td>Arrived in 6 days and were so stale i could no...</td>\n",
       "      <td>Arrived 6 days stale could eat 6 bags!!</td>\n",
       "    </tr>\n",
       "  </tbody>\n",
       "</table>\n",
       "</div>"
      ],
      "text/plain": [
       "   Id   ProductId          UserId    ProfileName  HelpfulnessNumerator  \\\n",
       "0   2  B00813GRG4  A1D87F6ZCVE5NK         dll pa                     0   \n",
       "1  13  B0009XLVG0   A327PCT23YH90             LT                     1   \n",
       "2  27  B001GVISJM  A3RXAU2N8KV45G         lady21                     0   \n",
       "3  51  B001EO5QW8  A108P30XVUFKXY      Roberto A                     0   \n",
       "4  63  B001EO5TPM  A1E09XGZUR78C6  gary sturrock                     2   \n",
       "\n",
       "   HelpfulnessDenominator  Score        Time  \\\n",
       "0                       0      0  1346976000   \n",
       "1                       1      0  1339545600   \n",
       "2                       1      0  1332633600   \n",
       "3                       7      0  1203379200   \n",
       "4                       2      0  1215302400   \n",
       "\n",
       "                                Summary  \\\n",
       "0                     Not as Advertised   \n",
       "1  My Cats Are Not Fans of the New Food   \n",
       "2                       Nasty No flavor   \n",
       "3                         Don't like it   \n",
       "4                        stale product.   \n",
       "\n",
       "                                                Text  \\\n",
       "0  Product arrived labeled as Jumbo Salted Peanut...   \n",
       "1  My cats have been happily eating Felidae Plati...   \n",
       "2  The candy is just red , No flavor . Just  plan...   \n",
       "3  This oatmeal is not good. Its mushy, soft, I d...   \n",
       "4  Arrived in 6 days and were so stale i could no...   \n",
       "\n",
       "                                   text_no_stopwords  \n",
       "0  Product arrived labeled Jumbo Salted Peanuts.....  \n",
       "1  My cats happily eating Felidae Platinum two ye...  \n",
       "2  The candy red , No flavor . Just plan chewy . ...  \n",
       "3  This oatmeal good. Its mushy, soft, I like it....  \n",
       "4            Arrived 6 days stale could eat 6 bags!!  "
      ]
     },
     "execution_count": 4,
     "metadata": {},
     "output_type": "execute_result"
    }
   ],
   "source": [
    "# Import stopwords with nltk.\n",
    "from nltk.corpus import stopwords\n",
    "stop = stopwords.words('english')\n",
    "\n",
    "\n",
    "# Exclude stopwords with Python's list comprehension and pandas.DataFrame.apply.\n",
    "amazon['text_no_stopwords'] = amazon['Text'].apply(lambda x: ' '.join([word for word in x.split() if word not in (stop)]))\n",
    "amazon.head()"
   ]
  },
  {
   "cell_type": "code",
   "execution_count": 10,
   "metadata": {},
   "outputs": [
    {
     "data": {
      "text/html": [
       "<div>\n",
       "<style scoped>\n",
       "    .dataframe tbody tr th:only-of-type {\n",
       "        vertical-align: middle;\n",
       "    }\n",
       "\n",
       "    .dataframe tbody tr th {\n",
       "        vertical-align: top;\n",
       "    }\n",
       "\n",
       "    .dataframe thead th {\n",
       "        text-align: right;\n",
       "    }\n",
       "</style>\n",
       "<table border=\"1\" class=\"dataframe\">\n",
       "  <thead>\n",
       "    <tr style=\"text-align: right;\">\n",
       "      <th></th>\n",
       "      <th>Id</th>\n",
       "      <th>ProductId</th>\n",
       "      <th>UserId</th>\n",
       "      <th>ProfileName</th>\n",
       "      <th>HelpfulnessNumerator</th>\n",
       "      <th>HelpfulnessDenominator</th>\n",
       "      <th>Score</th>\n",
       "      <th>Time</th>\n",
       "      <th>Summary</th>\n",
       "      <th>Text</th>\n",
       "      <th>text_no_stopwords</th>\n",
       "    </tr>\n",
       "  </thead>\n",
       "  <tbody>\n",
       "    <tr>\n",
       "      <th>0</th>\n",
       "      <td>2</td>\n",
       "      <td>B00813GRG4</td>\n",
       "      <td>A1D87F6ZCVE5NK</td>\n",
       "      <td>dll pa</td>\n",
       "      <td>0</td>\n",
       "      <td>0</td>\n",
       "      <td>0</td>\n",
       "      <td>1346976000</td>\n",
       "      <td>Not as Advertised</td>\n",
       "      <td>Product arrived labeled as Jumbo Salted Peanut...</td>\n",
       "      <td>Product arrived labeled Jumbo Salted Peanuts t...</td>\n",
       "    </tr>\n",
       "    <tr>\n",
       "      <th>1</th>\n",
       "      <td>13</td>\n",
       "      <td>B0009XLVG0</td>\n",
       "      <td>A327PCT23YH90</td>\n",
       "      <td>LT</td>\n",
       "      <td>1</td>\n",
       "      <td>1</td>\n",
       "      <td>0</td>\n",
       "      <td>1339545600</td>\n",
       "      <td>My Cats Are Not Fans of the New Food</td>\n",
       "      <td>My cats have been happily eating Felidae Plati...</td>\n",
       "      <td>My cats happily eating Felidae Platinum two ye...</td>\n",
       "    </tr>\n",
       "    <tr>\n",
       "      <th>2</th>\n",
       "      <td>27</td>\n",
       "      <td>B001GVISJM</td>\n",
       "      <td>A3RXAU2N8KV45G</td>\n",
       "      <td>lady21</td>\n",
       "      <td>0</td>\n",
       "      <td>1</td>\n",
       "      <td>0</td>\n",
       "      <td>1332633600</td>\n",
       "      <td>Nasty No flavor</td>\n",
       "      <td>The candy is just red , No flavor . Just  plan...</td>\n",
       "      <td>The candy red   No flavor   Just plan chewy   ...</td>\n",
       "    </tr>\n",
       "    <tr>\n",
       "      <th>3</th>\n",
       "      <td>51</td>\n",
       "      <td>B001EO5QW8</td>\n",
       "      <td>A108P30XVUFKXY</td>\n",
       "      <td>Roberto A</td>\n",
       "      <td>0</td>\n",
       "      <td>7</td>\n",
       "      <td>0</td>\n",
       "      <td>1203379200</td>\n",
       "      <td>Don't like it</td>\n",
       "      <td>This oatmeal is not good. Its mushy, soft, I d...</td>\n",
       "      <td>This oatmeal good  Its mushy  soft  I like it ...</td>\n",
       "    </tr>\n",
       "    <tr>\n",
       "      <th>4</th>\n",
       "      <td>63</td>\n",
       "      <td>B001EO5TPM</td>\n",
       "      <td>A1E09XGZUR78C6</td>\n",
       "      <td>gary sturrock</td>\n",
       "      <td>2</td>\n",
       "      <td>2</td>\n",
       "      <td>0</td>\n",
       "      <td>1215302400</td>\n",
       "      <td>stale product.</td>\n",
       "      <td>Arrived in 6 days and were so stale i could no...</td>\n",
       "      <td>Arrived 6 days stale could eat 6 bags</td>\n",
       "    </tr>\n",
       "  </tbody>\n",
       "</table>\n",
       "</div>"
      ],
      "text/plain": [
       "   Id   ProductId          UserId    ProfileName  HelpfulnessNumerator  \\\n",
       "0   2  B00813GRG4  A1D87F6ZCVE5NK         dll pa                     0   \n",
       "1  13  B0009XLVG0   A327PCT23YH90             LT                     1   \n",
       "2  27  B001GVISJM  A3RXAU2N8KV45G         lady21                     0   \n",
       "3  51  B001EO5QW8  A108P30XVUFKXY      Roberto A                     0   \n",
       "4  63  B001EO5TPM  A1E09XGZUR78C6  gary sturrock                     2   \n",
       "\n",
       "   HelpfulnessDenominator  Score        Time  \\\n",
       "0                       0      0  1346976000   \n",
       "1                       1      0  1339545600   \n",
       "2                       1      0  1332633600   \n",
       "3                       7      0  1203379200   \n",
       "4                       2      0  1215302400   \n",
       "\n",
       "                                Summary  \\\n",
       "0                     Not as Advertised   \n",
       "1  My Cats Are Not Fans of the New Food   \n",
       "2                       Nasty No flavor   \n",
       "3                         Don't like it   \n",
       "4                        stale product.   \n",
       "\n",
       "                                                Text  \\\n",
       "0  Product arrived labeled as Jumbo Salted Peanut...   \n",
       "1  My cats have been happily eating Felidae Plati...   \n",
       "2  The candy is just red , No flavor . Just  plan...   \n",
       "3  This oatmeal is not good. Its mushy, soft, I d...   \n",
       "4  Arrived in 6 days and were so stale i could no...   \n",
       "\n",
       "                                   text_no_stopwords  \n",
       "0  Product arrived labeled Jumbo Salted Peanuts t...  \n",
       "1  My cats happily eating Felidae Platinum two ye...  \n",
       "2  The candy red   No flavor   Just plan chewy   ...  \n",
       "3  This oatmeal good  Its mushy  soft  I like it ...  \n",
       "4             Arrived 6 days stale could eat 6 bags   "
      ]
     },
     "execution_count": 10,
     "metadata": {},
     "output_type": "execute_result"
    }
   ],
   "source": [
    "##Taking out special characters\n",
    "import re\n",
    "\n",
    "amazon.text_no_stopwords = amazon.text_no_stopwords.apply(\n",
    "    lambda x: re.sub('[^A-Za-z0-9 ]+', ' ', x)\n",
    ")\n",
    "amazon.head()"
   ]
  },
  {
   "cell_type": "code",
   "execution_count": 5,
   "metadata": {},
   "outputs": [],
   "source": [
    "y = amazon.Score\n",
    "X = amazon.text_no_stopwords\n",
    "X_train_no_stopwords, X_test_no_stopwords, y_train, y_test = train_test_split(X, y, test_size=0.2, random_state=40)"
   ]
  },
  {
   "cell_type": "code",
   "execution_count": 6,
   "metadata": {},
   "outputs": [],
   "source": [
    "y = amazon.Score\n",
    "X = amazon.Text\n",
    "X_train, X_test, y_train, y_test = train_test_split(X, y, test_size=0.2, random_state=40)"
   ]
  },
  {
   "cell_type": "markdown",
   "metadata": {},
   "source": [
    "------------"
   ]
  },
  {
   "cell_type": "markdown",
   "metadata": {},
   "source": [
    "## Tokenizing our texts\n",
    "\n",
    "Keras comes with its own functions to preprocess text, including a [tokenizer](https://www.tensorflow.org/api_docs/python/tf/keras/preprocessing/text/Tokenizer) (a mapping from each word in our corpus to a unique integer). Unlike the `CountVectorizer` from `sklearn`, which produces sparse matrices, `keras` often expects to work with sequences representing only the words that occur in a text. To prepare text before feeding it into a neural network, we usually:\n",
    "\n",
    "1. Create a [tokenizer](https://www.tensorflow.org/api_docs/python/tf/keras/preprocessing/text/Tokenizer).\n",
    "2. [Create sequences](https://www.tensorflow.org/api_docs/python/tf/keras/preprocessing/text/Tokenizer#texts_to_sequences) from our text (each text becomes a list of integers, based on the tokenizer mapping, instead of words)\n",
    "3. [Pad or truncate](https://www.tensorflow.org/api_docs/python/tf/keras/preprocessing/sequence/pad_sequences) each sequence to a fixed length (very short texts get `0`s added to them, while very long ones are truncated).\n",
    "\n",
    "The tokenizer has a configurable word cap, so it will only consider the $n$ most common words in the corpus, ignoring very rare words."
   ]
  },
  {
   "cell_type": "markdown",
   "metadata": {},
   "source": [
    "### Exercise 2:\n",
    "\n",
    "In this exercise, you will learn how to use the `tf.keras.preprocessing.text.Tokenizer` tool to carry out the preprocessing steps described above.\n",
    "\n",
    "#### 2.1\n",
    "\n",
    "Perform some exploratory analysis of the dataset to calculate the number of unique words in our corpus and the distribution of the number of words in each review of the training set. What is the 80th percentile of this distribution?"
   ]
  },
  {
   "cell_type": "markdown",
   "metadata": {},
   "source": [
    "**Answer.**"
   ]
  },
  {
   "cell_type": "code",
   "execution_count": 29,
   "metadata": {},
   "outputs": [
    {
     "name": "stdout",
     "output_type": "stream",
     "text": [
      "Number of unique tokens then:  13233\n",
      "80% of unique tokens:  10586.400000000001\n"
     ]
    }
   ],
   "source": [
    "tokenizer = Tokenizer() \n",
    "tokenizer.fit_on_texts(X_train)\n",
    "tokens=list(tokenizer.word_index)\n",
    "print(\"Number of unique tokens then: \", len(set(tokens)))\n",
    "print(\"80% of unique tokens: \", len(set(tokens))*0.8)"
   ]
  },
  {
   "cell_type": "code",
   "execution_count": 35,
   "metadata": {},
   "outputs": [],
   "source": [
    "import nltk\n",
    "Num_words=X_train.apply(lambda x: len(nltk.word_tokenize(x)))"
   ]
  },
  {
   "cell_type": "code",
   "execution_count": 36,
   "metadata": {},
   "outputs": [
    {
     "data": {
      "text/plain": [
       "<matplotlib.axes._subplots.AxesSubplot at 0x13fcd944f40>"
      ]
     },
     "execution_count": 36,
     "metadata": {},
     "output_type": "execute_result"
    },
    {
     "data": {
      "image/png": "[encoded data removed]",
      "text/plain": [
       "<Figure size 432x288 with 1 Axes>"
      ]
     },
     "metadata": {
      "needs_background": "light"
     },
     "output_type": "display_data"
    }
   ],
   "source": [
    "Num_words.plot.box()"
   ]
  },
  {
   "cell_type": "code",
   "execution_count": 37,
   "metadata": {},
   "outputs": [
    {
     "name": "stdout",
     "output_type": "stream",
     "text": [
      "80 percentile for the number of word's distribution=  141.0\n"
     ]
    }
   ],
   "source": [
    "print(\"80 percentile for the number of word's distribution= \",np.percentile(Num_words,80))"
   ]
  },
  {
   "cell_type": "markdown",
   "metadata": {},
   "source": [
    "------------"
   ]
  },
  {
   "cell_type": "markdown",
   "metadata": {},
   "source": [
    "#### 2.2\n",
    "\n",
    "Given the results above, we create a tokenizer using only the top 20,000 most frequent words in our corpus (which corresponds to roughly 80% of the words): "
   ]
  },
  {
   "cell_type": "code",
   "execution_count": 7,
   "metadata": {},
   "outputs": [],
   "source": [
    "tokenizer = Tokenizer(num_words=20000) #We create the tokenizer using only top 20000 words"
   ]
  },
  {
   "cell_type": "code",
   "execution_count": 8,
   "metadata": {},
   "outputs": [],
   "source": [
    "tokenizer.fit_on_texts(X_train)  #Then, we create the text->indices mapping. "
   ]
  },
  {
   "cell_type": "code",
   "execution_count": 65,
   "metadata": {},
   "outputs": [
    {
     "data": {
      "text/plain": [
       "{'the': 1,\n",
       " 'i': 2,\n",
       " 'a': 3,\n",
       " 'and': 4,\n",
       " 'to': 5,\n",
       " 'it': 6,\n",
       " 'of': 7,\n",
       " 'br': 8,\n",
       " 'is': 9,\n",
       " 'this': 10,\n",
       " 'in': 11,\n",
       " 'for': 12,\n",
       " 'but': 13,\n",
       " 'that': 14,\n",
       " 'not': 15,\n",
       " 'my': 16,\n",
       " 'was': 17,\n",
       " 'with': 18,\n",
       " 'you': 19,\n",
       " 'have': 20,\n",
       " 'are': 21,\n",
       " 'they': 22,\n",
       " 'as': 23,\n",
       " 'like': 24,\n",
       " 'on': 25,\n",
       " 'so': 26,\n",
       " 'these': 27,\n",
       " 'be': 28,\n",
       " 'taste': 29,\n",
       " 'good': 30,\n",
       " 'if': 31,\n",
       " 'product': 32,\n",
       " 'them': 33,\n",
       " 'coffee': 34,\n",
       " 'or': 35,\n",
       " 'just': 36,\n",
       " 'at': 37,\n",
       " 'very': 38,\n",
       " 'all': 39,\n",
       " 'one': 40,\n",
       " 'flavor': 41,\n",
       " \"it's\": 42,\n",
       " 'would': 43,\n",
       " 'had': 44,\n",
       " 'from': 45,\n",
       " 'can': 46,\n",
       " 'more': 47,\n",
       " 'me': 48,\n",
       " 'when': 49,\n",
       " 'no': 50,\n",
       " 'has': 51,\n",
       " 'than': 52,\n",
       " 'will': 53,\n",
       " 'other': 54,\n",
       " 'out': 55,\n",
       " 'we': 56,\n",
       " 'great': 57,\n",
       " 'were': 58,\n",
       " 'much': 59,\n",
       " 'too': 60,\n",
       " 'some': 61,\n",
       " \"don't\": 62,\n",
       " 'really': 63,\n",
       " 'up': 64,\n",
       " 'because': 65,\n",
       " 'there': 66,\n",
       " 'tea': 67,\n",
       " 'only': 68,\n",
       " 'get': 69,\n",
       " 'about': 70,\n",
       " 'chips': 71,\n",
       " 'an': 72,\n",
       " 'amazon': 73,\n",
       " 'food': 74,\n",
       " 'better': 75,\n",
       " 'what': 76,\n",
       " 'buy': 77,\n",
       " 'your': 78,\n",
       " 'love': 79,\n",
       " 'which': 80,\n",
       " 'sugar': 81,\n",
       " 'little': 82,\n",
       " 'even': 83,\n",
       " 'do': 84,\n",
       " 'also': 85,\n",
       " 'use': 86,\n",
       " 'time': 87,\n",
       " \"i'm\": 88,\n",
       " 'price': 89,\n",
       " 'tried': 90,\n",
       " 'by': 91,\n",
       " 'drink': 92,\n",
       " 'cup': 93,\n",
       " 'make': 94,\n",
       " 'water': 95,\n",
       " 'again': 96,\n",
       " 'am': 97,\n",
       " 'juice': 98,\n",
       " 'first': 99,\n",
       " 'after': 100,\n",
       " 'try': 101,\n",
       " 'been': 102,\n",
       " 'find': 103,\n",
       " 'well': 104,\n",
       " 'box': 105,\n",
       " \"i've\": 106,\n",
       " 'their': 107,\n",
       " 'any': 108,\n",
       " 'bag': 109,\n",
       " 'then': 110,\n",
       " 'now': 111,\n",
       " 'best': 112,\n",
       " '3': 113,\n",
       " 'sweet': 114,\n",
       " 'chocolate': 115,\n",
       " 'did': 116,\n",
       " '2': 117,\n",
       " 'made': 118,\n",
       " 'eat': 119,\n",
       " 'still': 120,\n",
       " 'think': 121,\n",
       " 'bought': 122,\n",
       " 'used': 123,\n",
       " 'way': 124,\n",
       " 'hot': 125,\n",
       " 'found': 126,\n",
       " 'bad': 127,\n",
       " 'order': 128,\n",
       " 'know': 129,\n",
       " 'bit': 130,\n",
       " 'orange': 131,\n",
       " 'flavors': 132,\n",
       " 'could': 133,\n",
       " 'tastes': 134,\n",
       " 'mix': 135,\n",
       " 'over': 136,\n",
       " 'does': 137,\n",
       " '1': 138,\n",
       " 'free': 139,\n",
       " 'want': 140,\n",
       " 'something': 141,\n",
       " 'our': 142,\n",
       " 'brand': 143,\n",
       " 'she': 144,\n",
       " \"didn't\": 145,\n",
       " 'say': 146,\n",
       " 'two': 147,\n",
       " 'he': 148,\n",
       " 'same': 149,\n",
       " 'many': 150,\n",
       " 'however': 151,\n",
       " 'ingredients': 152,\n",
       " 'though': 153,\n",
       " 'go': 154,\n",
       " 'who': 155,\n",
       " 'organic': 156,\n",
       " 'got': 157,\n",
       " 'how': 158,\n",
       " 'pack': 159,\n",
       " \"doesn't\": 160,\n",
       " 'before': 161,\n",
       " 'since': 162,\n",
       " '5': 163,\n",
       " 'give': 164,\n",
       " '4': 165,\n",
       " 'cups': 166,\n",
       " 'thought': 167,\n",
       " 'less': 168,\n",
       " 'soda': 169,\n",
       " 'k': 170,\n",
       " 'nice': 171,\n",
       " 'salt': 172,\n",
       " 'most': 173,\n",
       " 'store': 174,\n",
       " 'natural': 175,\n",
       " 'products': 176,\n",
       " 'sure': 177,\n",
       " 'bags': 178,\n",
       " 'off': 179,\n",
       " 'into': 180,\n",
       " 'ordered': 181,\n",
       " 'never': 182,\n",
       " 'enough': 183,\n",
       " 'regular': 184,\n",
       " 'lot': 185,\n",
       " \"can't\": 186,\n",
       " 'different': 187,\n",
       " 'small': 188,\n",
       " 'few': 189,\n",
       " 'recommend': 190,\n",
       " 'its': 191,\n",
       " 'size': 192,\n",
       " 'green': 193,\n",
       " 'hard': 194,\n",
       " 'pretty': 195,\n",
       " 'strong': 196,\n",
       " 'quality': 197,\n",
       " 'high': 198,\n",
       " 'should': 199,\n",
       " 'right': 200,\n",
       " 'may': 201,\n",
       " 'tasted': 202,\n",
       " 'dog': 203,\n",
       " 'favorite': 204,\n",
       " 'going': 205,\n",
       " 'being': 206,\n",
       " 'stuff': 207,\n",
       " 'while': 208,\n",
       " 'shipping': 209,\n",
       " 'see': 210,\n",
       " 'old': 211,\n",
       " 'her': 212,\n",
       " 'add': 213,\n",
       " 'switch': 214,\n",
       " 'looking': 215,\n",
       " 'those': 216,\n",
       " 'down': 217,\n",
       " \"i'd\": 218,\n",
       " 'disappointed': 219,\n",
       " 'without': 220,\n",
       " 'fruit': 221,\n",
       " 'using': 222,\n",
       " 'back': 223,\n",
       " 'milk': 224,\n",
       " 'whole': 225,\n",
       " 'people': 226,\n",
       " 'money': 227,\n",
       " 'makes': 228,\n",
       " 'calories': 229,\n",
       " 'put': 230,\n",
       " 'both': 231,\n",
       " '100': 232,\n",
       " 'real': 233,\n",
       " \"that's\": 234,\n",
       " 'another': 235,\n",
       " 'stars': 236,\n",
       " 'per': 237,\n",
       " 'added': 238,\n",
       " 'purchased': 239,\n",
       " 'big': 240,\n",
       " 'buying': 241,\n",
       " 'probably': 242,\n",
       " 'maybe': 243,\n",
       " 'ever': 244,\n",
       " 'here': 245,\n",
       " 'purchase': 246,\n",
       " 'definitely': 247,\n",
       " 'thing': 248,\n",
       " 'fresh': 249,\n",
       " '6': 250,\n",
       " 'enjoy': 251,\n",
       " 'easy': 252,\n",
       " 'day': 253,\n",
       " 'every': 254,\n",
       " 'eating': 255,\n",
       " 'tasty': 256,\n",
       " 'anything': 257,\n",
       " 'work': 258,\n",
       " 'reviews': 259,\n",
       " 'far': 260,\n",
       " 'tangerine': 261,\n",
       " 'received': 262,\n",
       " 'away': 263,\n",
       " \"isn't\": 264,\n",
       " 'said': 265,\n",
       " 'problem': 266,\n",
       " 'almost': 267,\n",
       " 'potato': 268,\n",
       " 'blend': 269,\n",
       " 'half': 270,\n",
       " '8': 271,\n",
       " 'keep': 272,\n",
       " 'long': 273,\n",
       " 'case': 274,\n",
       " 'might': 275,\n",
       " 'need': 276,\n",
       " 'healthy': 277,\n",
       " 'cookies': 278,\n",
       " 'com': 279,\n",
       " 'flavored': 280,\n",
       " 'actually': 281,\n",
       " 'quite': 282,\n",
       " 'oil': 283,\n",
       " 'years': 284,\n",
       " 'why': 285,\n",
       " 'each': 286,\n",
       " 'package': 287,\n",
       " \"won't\": 288,\n",
       " \"i'll\": 289,\n",
       " 'through': 290,\n",
       " 'gluten': 291,\n",
       " 'local': 292,\n",
       " 'corn': 293,\n",
       " 'oz': 294,\n",
       " 'dark': 295,\n",
       " 'brands': 296,\n",
       " 'delicious': 297,\n",
       " '12': 298,\n",
       " 'kind': 299,\n",
       " 'instead': 300,\n",
       " 'ok': 301,\n",
       " 'amount': 302,\n",
       " 'full': 303,\n",
       " 'kettle': 304,\n",
       " 'new': 305,\n",
       " 'item': 306,\n",
       " 'own': 307,\n",
       " 'roast': 308,\n",
       " 'texture': 309,\n",
       " 'always': 310,\n",
       " 'foods': 311,\n",
       " 'either': 312,\n",
       " \"you're\": 313,\n",
       " 'nothing': 314,\n",
       " 'take': 315,\n",
       " 'expensive': 316,\n",
       " 'several': 317,\n",
       " 'company': 318,\n",
       " 'perfect': 319,\n",
       " 'tasting': 320,\n",
       " 'cans': 321,\n",
       " 'worth': 322,\n",
       " 'sauce': 323,\n",
       " 'keurig': 324,\n",
       " 'carbonated': 325,\n",
       " 'three': 326,\n",
       " 'black': 327,\n",
       " 'came': 328,\n",
       " 'fine': 329,\n",
       " 'usually': 330,\n",
       " 'low': 331,\n",
       " 'baby': 332,\n",
       " 'coconut': 333,\n",
       " 'trying': 334,\n",
       " 'white': 335,\n",
       " 'bitter': 336,\n",
       " 'rather': 337,\n",
       " 'last': 338,\n",
       " 'syrup': 339,\n",
       " 'having': 340,\n",
       " 'diet': 341,\n",
       " 'drinking': 342,\n",
       " 'grocery': 343,\n",
       " 'cat': 344,\n",
       " 'light': 345,\n",
       " 'around': 346,\n",
       " 'gave': 347,\n",
       " 'snack': 348,\n",
       " 'extra': 349,\n",
       " 'such': 350,\n",
       " 'least': 351,\n",
       " 'bold': 352,\n",
       " 'review': 353,\n",
       " 'dogs': 354,\n",
       " 'wanted': 355,\n",
       " 'www': 356,\n",
       " 'things': 357,\n",
       " 'packaging': 358,\n",
       " 'http': 359,\n",
       " 'variety': 360,\n",
       " 'ones': 361,\n",
       " 'feel': 362,\n",
       " 'fat': 363,\n",
       " 'liked': 364,\n",
       " 'read': 365,\n",
       " \"they're\": 366,\n",
       " 'gp': 367,\n",
       " 'him': 368,\n",
       " 'us': 369,\n",
       " \"wasn't\": 370,\n",
       " 'prefer': 371,\n",
       " 'weak': 372,\n",
       " 'powder': 373,\n",
       " 'where': 374,\n",
       " 'drinks': 375,\n",
       " 'look': 376,\n",
       " 'smell': 377,\n",
       " 'aftertaste': 378,\n",
       " 'rice': 379,\n",
       " 'boxes': 380,\n",
       " 'side': 381,\n",
       " 'href': 382,\n",
       " 'beans': 383,\n",
       " 'ounce': 384,\n",
       " 'vanilla': 385,\n",
       " 'arrived': 386,\n",
       " 'come': 387,\n",
       " 'seems': 388,\n",
       " 'months': 389,\n",
       " 'others': 390,\n",
       " 'happy': 391,\n",
       " 'chicken': 392,\n",
       " 'cocoa': 393,\n",
       " 'year': 394,\n",
       " 'making': 395,\n",
       " 'cake': 396,\n",
       " 'once': 397,\n",
       " 'getting': 398,\n",
       " 'mountain': 399,\n",
       " 'his': 400,\n",
       " 'artificial': 401,\n",
       " 'fact': 402,\n",
       " \"couldn't\": 403,\n",
       " '10': 404,\n",
       " 'although': 405,\n",
       " 'chip': 406,\n",
       " 'salty': 407,\n",
       " 'decided': 408,\n",
       " 'mouth': 409,\n",
       " 'fan': 410,\n",
       " 'family': 411,\n",
       " 'apple': 412,\n",
       " 'until': 413,\n",
       " 'health': 414,\n",
       " 'says': 415,\n",
       " 'loves': 416,\n",
       " 'believe': 417,\n",
       " 'dry': 418,\n",
       " 'excellent': 419,\n",
       " 'loved': 420,\n",
       " 'decaf': 421,\n",
       " \"wouldn't\": 422,\n",
       " 'comes': 423,\n",
       " 'wish': 424,\n",
       " 'save': 425,\n",
       " 'couple': 426,\n",
       " 'deal': 427,\n",
       " 'stores': 428,\n",
       " 'open': 429,\n",
       " 'coffees': 430,\n",
       " 'candy': 431,\n",
       " 'next': 432,\n",
       " 'bottle': 433,\n",
       " 'else': 434,\n",
       " 'times': 435,\n",
       " 'top': 436,\n",
       " 'home': 437,\n",
       " 'seem': 438,\n",
       " 'cheaper': 439,\n",
       " 'expected': 440,\n",
       " 'soy': 441,\n",
       " 'serving': 442,\n",
       " 'opened': 443,\n",
       " 'large': 444,\n",
       " 'husband': 445,\n",
       " 'stick': 446,\n",
       " 'cats': 447,\n",
       " 'vitamin': 448,\n",
       " 'vinegar': 449,\n",
       " 'let': 450,\n",
       " 'reason': 451,\n",
       " 'idea': 452,\n",
       " 'especially': 453,\n",
       " 'days': 454,\n",
       " 'guess': 455,\n",
       " 'ingredient': 456,\n",
       " 'treat': 457,\n",
       " 'kids': 458,\n",
       " 'spicy': 459,\n",
       " 'yet': 460,\n",
       " 'took': 461,\n",
       " 'ground': 462,\n",
       " 'alternative': 463,\n",
       " 'available': 464,\n",
       " 'wrong': 465,\n",
       " 'label': 466,\n",
       " 'bottom': 467,\n",
       " 'wonderful': 468,\n",
       " 'ordering': 469,\n",
       " 'c': 470,\n",
       " 'treats': 471,\n",
       " 'went': 472,\n",
       " 'plus': 473,\n",
       " 'contains': 474,\n",
       " 'started': 475,\n",
       " 'cream': 476,\n",
       " 'unfortunately': 477,\n",
       " 'medium': 478,\n",
       " 'french': 479,\n",
       " 'type': 480,\n",
       " 'pieces': 481,\n",
       " 'honey': 482,\n",
       " 'cost': 483,\n",
       " 'brown': 484,\n",
       " 'able': 485,\n",
       " '24': 486,\n",
       " 'waste': 487,\n",
       " 'overall': 488,\n",
       " 'plastic': 489,\n",
       " 'protein': 490,\n",
       " 'cheap': 491,\n",
       " 'breakfast': 492,\n",
       " 'formula': 493,\n",
       " 'energy': 494,\n",
       " 'sodium': 495,\n",
       " 'left': 496,\n",
       " 'carbonation': 497,\n",
       " 'anyone': 498,\n",
       " 'beverage': 499,\n",
       " 'pancakes': 500,\n",
       " 'minutes': 501,\n",
       " 'line': 502,\n",
       " 'second': 503,\n",
       " 'morning': 504,\n",
       " 'experience': 505,\n",
       " 'enjoyed': 506,\n",
       " 'etc': 507,\n",
       " 'expect': 508,\n",
       " 'machine': 509,\n",
       " 'slightly': 510,\n",
       " 'iced': 511,\n",
       " 'similar': 512,\n",
       " 'wolfgang': 513,\n",
       " 'name': 514,\n",
       " 'meat': 515,\n",
       " 'list': 516,\n",
       " 'broken': 517,\n",
       " 'help': 518,\n",
       " 'works': 519,\n",
       " 'myself': 520,\n",
       " 'value': 521,\n",
       " 'brew': 522,\n",
       " 'butter': 523,\n",
       " 'quick': 524,\n",
       " 'month': 525,\n",
       " 'pay': 526,\n",
       " 'must': 527,\n",
       " 'cheese': 528,\n",
       " 'cannot': 529,\n",
       " 'certainly': 530,\n",
       " 'ago': 531,\n",
       " 'care': 532,\n",
       " \"you'll\": 533,\n",
       " 'pods': 534,\n",
       " '20': 535,\n",
       " 'teas': 536,\n",
       " 'someone': 537,\n",
       " 'cookie': 538,\n",
       " 'smooth': 539,\n",
       " 'part': 540,\n",
       " 'market': 541,\n",
       " 'grape': 542,\n",
       " 'longer': 543,\n",
       " 'yes': 544,\n",
       " 'version': 545,\n",
       " 'mixed': 546,\n",
       " 'son': 547,\n",
       " 'plain': 548,\n",
       " 'looked': 549,\n",
       " 'decent': 550,\n",
       " 'absolutely': 551,\n",
       " 'pop': 552,\n",
       " 'soup': 553,\n",
       " 'everything': 554,\n",
       " 'soft': 555,\n",
       " 'based': 556,\n",
       " 'friends': 557,\n",
       " 'contain': 558,\n",
       " '7': 559,\n",
       " 'unless': 560,\n",
       " 'rich': 561,\n",
       " 'color': 562,\n",
       " '50': 563,\n",
       " 'online': 564,\n",
       " 'given': 565,\n",
       " 'puck': 566,\n",
       " \"aren't\": 567,\n",
       " \"there's\": 568,\n",
       " 'packaged': 569,\n",
       " 'lemon': 570,\n",
       " 'red': 571,\n",
       " 'flour': 572,\n",
       " 'super': 573,\n",
       " 'healthier': 574,\n",
       " 'aroma': 575,\n",
       " \"haven't\": 576,\n",
       " 'baking': 577,\n",
       " 'likes': 578,\n",
       " 'single': 579,\n",
       " 'description': 580,\n",
       " 'okay': 581,\n",
       " 'extremely': 582,\n",
       " 'house': 583,\n",
       " 'cut': 584,\n",
       " 'smaller': 585,\n",
       " 'often': 586,\n",
       " 'end': 587,\n",
       " 'opinion': 588,\n",
       " 'highly': 589,\n",
       " 'ounces': 590,\n",
       " 'perhaps': 591,\n",
       " 'microwave': 592,\n",
       " 'blue': 593,\n",
       " 'place': 594,\n",
       " 'compared': 595,\n",
       " 'past': 596,\n",
       " 'items': 597,\n",
       " 'due': 598,\n",
       " 'awful': 599,\n",
       " 'sour': 600,\n",
       " '9': 601,\n",
       " 'please': 602,\n",
       " 'itself': 603,\n",
       " 'date': 604,\n",
       " 'star': 605,\n",
       " 'higher': 606,\n",
       " 'inside': 607,\n",
       " 'mild': 608,\n",
       " 'terrible': 609,\n",
       " 'starbucks': 610,\n",
       " 'meal': 611,\n",
       " 'bars': 612,\n",
       " 'stevia': 613,\n",
       " 'pepper': 614,\n",
       " 'tell': 615,\n",
       " 'giving': 616,\n",
       " 'choice': 617,\n",
       " 'caramel': 618,\n",
       " 'leaves': 619,\n",
       " 'ginger': 620,\n",
       " 'surprised': 621,\n",
       " 'wheat': 622,\n",
       " 'popcorn': 623,\n",
       " '15': 624,\n",
       " 'hoping': 625,\n",
       " 'non': 626,\n",
       " 'cereal': 627,\n",
       " 'called': 628,\n",
       " \"earth's\": 629,\n",
       " 'stale': 630,\n",
       " 'weeks': 631,\n",
       " 'crackers': 632,\n",
       " 'calorie': 633,\n",
       " 'sweetener': 634,\n",
       " 'recipe': 635,\n",
       " 'seemed': 636,\n",
       " 'ice': 637,\n",
       " 'during': 638,\n",
       " 'horrible': 639,\n",
       " 'grams': 640,\n",
       " 'week': 641,\n",
       " 'sometimes': 642,\n",
       " '16': 643,\n",
       " 'gift': 644,\n",
       " 'return': 645,\n",
       " 'goes': 646,\n",
       " 'recommended': 647,\n",
       " 'acid': 648,\n",
       " 'purchasing': 649,\n",
       " 'wife': 650,\n",
       " 'exactly': 651,\n",
       " 'expecting': 652,\n",
       " 'larger': 653,\n",
       " 'packs': 654,\n",
       " 'otherwise': 655,\n",
       " 'shipped': 656,\n",
       " 'original': 657,\n",
       " 'rest': 658,\n",
       " 'everyone': 659,\n",
       " 'jar': 660,\n",
       " 'e': 661,\n",
       " 'batch': 662,\n",
       " 'juices': 663,\n",
       " 'saw': 664,\n",
       " 'packages': 665,\n",
       " 'peanut': 666,\n",
       " 'mind': 667,\n",
       " 'website': 668,\n",
       " 'spice': 669,\n",
       " 'huge': 670,\n",
       " 'service': 671,\n",
       " 'crunchy': 672,\n",
       " 'weight': 673,\n",
       " 'daughter': 674,\n",
       " 'true': 675,\n",
       " 'disappointing': 676,\n",
       " 'easily': 677,\n",
       " 'already': 678,\n",
       " 'glass': 679,\n",
       " 'bar': 680,\n",
       " 'looks': 681,\n",
       " 'finally': 682,\n",
       " 'problems': 683,\n",
       " 'thinking': 684,\n",
       " 'excited': 685,\n",
       " 'done': 686,\n",
       " 'change': 687,\n",
       " 'strawberry': 688,\n",
       " 'close': 689,\n",
       " 'licorice': 690,\n",
       " 'difficult': 691,\n",
       " 'somewhat': 692,\n",
       " 'pineapple': 693,\n",
       " 'pork': 694,\n",
       " 'refreshing': 695,\n",
       " 'canned': 696,\n",
       " 'bland': 697,\n",
       " 'bite': 698,\n",
       " 'worst': 699,\n",
       " 'clean': 700,\n",
       " 'baked': 701,\n",
       " 'thanks': 702,\n",
       " 'nuts': 703,\n",
       " 'together': 704,\n",
       " 'fast': 705,\n",
       " 'jars': 706,\n",
       " 'customer': 707,\n",
       " 'berry': 708,\n",
       " 'count': 709,\n",
       " '0': 710,\n",
       " 'sold': 711,\n",
       " 'recently': 712,\n",
       " 'hope': 713,\n",
       " 'container': 714,\n",
       " 'results': 715,\n",
       " 'noticed': 716,\n",
       " 'adding': 717,\n",
       " 'four': 718,\n",
       " 'cherry': 719,\n",
       " 'note': 720,\n",
       " 'sale': 721,\n",
       " 'changed': 722,\n",
       " 'hand': 723,\n",
       " 'normal': 724,\n",
       " 'issue': 725,\n",
       " 'sweetness': 726,\n",
       " 'simply': 727,\n",
       " 'needs': 728,\n",
       " 'glad': 729,\n",
       " 'consistency': 730,\n",
       " 'oatmeal': 731,\n",
       " 'difference': 732,\n",
       " 'raw': 733,\n",
       " 'content': 734,\n",
       " 'life': 735,\n",
       " 'shop': 736,\n",
       " 'instant': 737,\n",
       " 'felt': 738,\n",
       " 'between': 739,\n",
       " 'daily': 740,\n",
       " 'paid': 741,\n",
       " 'gum': 742,\n",
       " 'listed': 743,\n",
       " '00': 744,\n",
       " 'none': 745,\n",
       " 'avoid': 746,\n",
       " 'cold': 747,\n",
       " 'feeding': 748,\n",
       " 'special': 749,\n",
       " 'normally': 750,\n",
       " 'anyway': 751,\n",
       " 'bean': 752,\n",
       " 'potatoes': 753,\n",
       " 'shipment': 754,\n",
       " 'lots': 755,\n",
       " 'mostly': 756,\n",
       " 'dinner': 757,\n",
       " 'needed': 758,\n",
       " 'subscribe': 759,\n",
       " 'finish': 760,\n",
       " 'clear': 761,\n",
       " 'particular': 762,\n",
       " 'packets': 763,\n",
       " 'tiny': 764,\n",
       " 'twice': 765,\n",
       " 'cooked': 766,\n",
       " 'sugars': 767,\n",
       " 'thick': 768,\n",
       " 'nasty': 769,\n",
       " 'bottles': 770,\n",
       " 'feed': 771,\n",
       " 'ate': 772,\n",
       " 'liquid': 773,\n",
       " 'balance': 774,\n",
       " 'seller': 775,\n",
       " 'completely': 776,\n",
       " 'sent': 777,\n",
       " 'point': 778,\n",
       " 'stock': 779,\n",
       " 'level': 780,\n",
       " 'mess': 781,\n",
       " 'course': 782,\n",
       " 'combination': 783,\n",
       " 'throw': 784,\n",
       " 'amazing': 785,\n",
       " 'sea': 786,\n",
       " 'crunch': 787,\n",
       " 'takes': 788,\n",
       " 'kiwi': 789,\n",
       " 'garlic': 790,\n",
       " 'entire': 791,\n",
       " 'flavorful': 792,\n",
       " 'thin': 793,\n",
       " 'five': 794,\n",
       " 'doing': 795,\n",
       " 'gets': 796,\n",
       " 'under': 797,\n",
       " 'watery': 798,\n",
       " 'fair': 799,\n",
       " 'rinds': 800,\n",
       " 'cooking': 801,\n",
       " 'soon': 802,\n",
       " 'stop': 803,\n",
       " 'fairly': 804,\n",
       " 'within': 805,\n",
       " 'hate': 806,\n",
       " 'delivery': 807,\n",
       " 'body': 808,\n",
       " 'stay': 809,\n",
       " 'nearly': 810,\n",
       " 'ended': 811,\n",
       " 'awesome': 812,\n",
       " 'cinnamon': 813,\n",
       " 'sparkling': 814,\n",
       " 'fish': 815,\n",
       " 'pure': 816,\n",
       " 'matter': 817,\n",
       " 'caffeine': 818,\n",
       " 'pound': 819,\n",
       " 'sodas': 820,\n",
       " 'sort': 821,\n",
       " 'basically': 822,\n",
       " 'consider': 823,\n",
       " 'o': 824,\n",
       " 'later': 825,\n",
       " 'bulk': 826,\n",
       " 'thank': 827,\n",
       " 'melitta': 828,\n",
       " 'told': 829,\n",
       " 'start': 830,\n",
       " 'chew': 831,\n",
       " 'reviewer': 832,\n",
       " 'easier': 833,\n",
       " 'number': 834,\n",
       " 'fiber': 835,\n",
       " 'gone': 836,\n",
       " 'beef': 837,\n",
       " 'today': 838,\n",
       " 'except': 839,\n",
       " 'peppermint': 840,\n",
       " 'china': 841,\n",
       " 'eaten': 842,\n",
       " '30': 843,\n",
       " 'heat': 844,\n",
       " 'check': 845,\n",
       " 'dried': 846,\n",
       " 'children': 847,\n",
       " 'yourself': 848,\n",
       " 'weird': 849,\n",
       " 'christmas': 850,\n",
       " 'pod': 851,\n",
       " 'stuck': 852,\n",
       " 'supposed': 853,\n",
       " 'live': 854,\n",
       " 'short': 855,\n",
       " 'along': 856,\n",
       " 'jerky': 857,\n",
       " 'smells': 858,\n",
       " 'process': 859,\n",
       " 'means': 860,\n",
       " 'bread': 861,\n",
       " 'option': 862,\n",
       " 'stopped': 863,\n",
       " 'pancake': 864,\n",
       " 'noodles': 865,\n",
       " 'hours': 866,\n",
       " 'leave': 867,\n",
       " 'call': 868,\n",
       " 'filled': 869,\n",
       " 'varieties': 870,\n",
       " 'world': 871,\n",
       " 'sorry': 872,\n",
       " 'brewing': 873,\n",
       " 'actual': 874,\n",
       " 'miss': 875,\n",
       " 'msg': 876,\n",
       " 'fructose': 877,\n",
       " 'pleased': 878,\n",
       " 'extract': 879,\n",
       " 'sealed': 880,\n",
       " 'immediately': 881,\n",
       " 'upon': 882,\n",
       " 'cook': 883,\n",
       " 'figured': 884,\n",
       " 'flavoring': 885,\n",
       " 'carbs': 886,\n",
       " 'oh': 887,\n",
       " 'anymore': 888,\n",
       " 'roasted': 889,\n",
       " 'cause': 890,\n",
       " 'whatever': 891,\n",
       " 'worse': 892,\n",
       " 'biscuits': 893,\n",
       " 'six': 894,\n",
       " 'snacks': 895,\n",
       " 'grounds': 896,\n",
       " 'burnt': 897,\n",
       " 'gives': 898,\n",
       " 'packed': 899,\n",
       " 'gourmet': 900,\n",
       " 'plant': 901,\n",
       " 'picture': 902,\n",
       " 'paying': 903,\n",
       " 'setting': 904,\n",
       " 'mint': 905,\n",
       " 'average': 906,\n",
       " 'hint': 907,\n",
       " 'filling': 908,\n",
       " 'disappointment': 909,\n",
       " 'summer': 910,\n",
       " 'mean': 911,\n",
       " 'instructions': 912,\n",
       " 'barely': 913,\n",
       " 'usual': 914,\n",
       " 'mine': 915,\n",
       " 'sell': 916,\n",
       " 'suggest': 917,\n",
       " 'lunch': 918,\n",
       " 'run': 919,\n",
       " 'agree': 920,\n",
       " 'remember': 921,\n",
       " 'reading': 922,\n",
       " 'sticks': 923,\n",
       " 'dont': 924,\n",
       " 'form': 925,\n",
       " 'seeds': 926,\n",
       " 'serve': 927,\n",
       " 'egg': 928,\n",
       " 'including': 929,\n",
       " 'important': 930,\n",
       " 'olive': 931,\n",
       " 'carry': 932,\n",
       " 'quickly': 933,\n",
       " \"newman's\": 934,\n",
       " 'onion': 935,\n",
       " 'flat': 936,\n",
       " 'convenience': 937,\n",
       " 'fit': 938,\n",
       " 'crazy': 939,\n",
       " 'odd': 940,\n",
       " 'night': 941,\n",
       " 'pasta': 942,\n",
       " 'colors': 943,\n",
       " 'vegetable': 944,\n",
       " 'carb': 945,\n",
       " 'yummy': 946,\n",
       " 'dish': 947,\n",
       " 'convenient': 948,\n",
       " 'bisquick': 949,\n",
       " '11': 950,\n",
       " 'maker': 951,\n",
       " 'mistake': 952,\n",
       " 'issues': 953,\n",
       " 'total': 954,\n",
       " 'crisp': 955,\n",
       " 'cane': 956,\n",
       " 'set': 957,\n",
       " 'heavy': 958,\n",
       " 'refund': 959,\n",
       " '25': 960,\n",
       " 's': 961,\n",
       " 'chewy': 962,\n",
       " 'air': 963,\n",
       " \"weren't\": 964,\n",
       " 'future': 965,\n",
       " 'brewed': 966,\n",
       " 'continue': 967,\n",
       " 'donut': 968,\n",
       " 'blends': 969,\n",
       " 'individual': 970,\n",
       " 'worked': 971,\n",
       " 'reasonable': 972,\n",
       " 'considering': 973,\n",
       " 'seasoning': 974,\n",
       " 'packet': 975,\n",
       " 'beverages': 976,\n",
       " 'simple': 977,\n",
       " 'totally': 978,\n",
       " 'likely': 979,\n",
       " 'generally': 980,\n",
       " 'recipes': 981,\n",
       " 'calcium': 982,\n",
       " 'break': 983,\n",
       " 'jelly': 984,\n",
       " 'nut': 985,\n",
       " 'drinker': 986,\n",
       " 'pleasant': 987,\n",
       " 'greasy': 988,\n",
       " 'known': 989,\n",
       " 'gf': 990,\n",
       " 'preservatives': 991,\n",
       " 'bed': 992,\n",
       " 'tangy': 993,\n",
       " 'notice': 994,\n",
       " 'main': 995,\n",
       " 'complaint': 996,\n",
       " '99': 997,\n",
       " 'impressed': 998,\n",
       " 'hit': 999,\n",
       " 'seen': 1000,\n",
       " ...}"
      ]
     },
     "execution_count": 65,
     "metadata": {},
     "output_type": "execute_result"
    }
   ],
   "source": [
    "tokenizer.word_index"
   ]
  },
  {
   "cell_type": "markdown",
   "metadata": {},
   "source": [
    "The above line has given several features and methods to our tokenizer. For instance, print the line `tokenizer.word_index` in a new cell - what do you see? Apply the `tokenizer.texts_to_sequences()` method on the list `['I just feel very very good']`. Apply the `tokenizer.sequences_to_texts()` method on the list `[[109, 19, 824, 76, 114, 6315, 1137, 8070]]`. What were your results?"
   ]
  },
  {
   "cell_type": "markdown",
   "metadata": {},
   "source": [
    "**Answer.**"
   ]
  },
  {
   "cell_type": "markdown",
   "metadata": {},
   "source": [
    "------------"
   ]
  },
  {
   "cell_type": "code",
   "execution_count": 30,
   "metadata": {},
   "outputs": [
    {
     "data": {
      "text/plain": [
       "[[2, 36, 362, 38, 38, 30]]"
      ]
     },
     "execution_count": 30,
     "metadata": {},
     "output_type": "execute_result"
    }
   ],
   "source": [
    "tokenizer.texts_to_sequences(['I just feel very very good'])"
   ]
  },
  {
   "cell_type": "code",
   "execution_count": 31,
   "metadata": {},
   "outputs": [
    {
     "data": {
      "text/plain": [
       "['bag you o what sweet organically cases clash']"
      ]
     },
     "execution_count": 31,
     "metadata": {},
     "output_type": "execute_result"
    }
   ],
   "source": [
    "tokenizer.sequences_to_texts([[109, 19, 824, 76, 114, 6315, 1137, 8070]])"
   ]
  },
  {
   "cell_type": "markdown",
   "metadata": {},
   "source": [
    "#### 2.3\n",
    "\n",
    "Use the tokenizer to transform the texts in our test and train data to sequences. Then, use the `pad_sequences` function to pad/truncate these sequences to length 116 (the 80th percentile of text lengths). Save the resulting arrays as `train_sequences` and `test_sequences`."
   ]
  },
  {
   "cell_type": "markdown",
   "metadata": {},
   "source": [
    "**Answer.**"
   ]
  },
  {
   "cell_type": "code",
   "execution_count": 9,
   "metadata": {},
   "outputs": [
    {
     "data": {
      "text/plain": [
       "array([[   0,    0,    0, ...,    3,  191,  297],\n",
       "       [   0,    0,    0, ..., 1641,  176,   60],\n",
       "       [   0,    0,    0, ..., 1245,  320,   34],\n",
       "       ...,\n",
       "       [   9,   23,  127, ...,    5,  246,    6],\n",
       "       [  27,   71,   21, ...,    7,    1,  109],\n",
       "       [   0,    0,    0, ...,   12,  739, 1352]])"
      ]
     },
     "execution_count": 9,
     "metadata": {},
     "output_type": "execute_result"
    }
   ],
   "source": [
    "train_sequences=X_train.apply(lambda x: tokenizer.texts_to_sequences([x]) )\n",
    "train_sequences=train_sequences.apply(lambda x: pad_sequences(x,maxlen=116) )\n",
    "tmp = [row.reshape(-1,1) for row in train_sequences.values]\n",
    "train_sequences = np.concatenate(tmp, axis=1).T\n",
    "train_sequences"
   ]
  },
  {
   "cell_type": "code",
   "execution_count": 10,
   "metadata": {},
   "outputs": [
    {
     "data": {
      "text/plain": [
       "array([[   0,    0,    0, ...,   25, 1009,   85],\n",
       "       [   0,    0,    0, ...,    5,    1,  174],\n",
       "       [   0,    0,    0, ...,   10,   83, 1491],\n",
       "       ...,\n",
       "       [ 357,  507,  568, ...,    1, 1280,  380],\n",
       "       [   0,    0,    0, ...,  124,    2,  440],\n",
       "       [   0,    0,    0, ..., 3357,    1,  781]])"
      ]
     },
     "execution_count": 10,
     "metadata": {},
     "output_type": "execute_result"
    }
   ],
   "source": [
    "test_sequences=X_test.apply(lambda x: tokenizer.texts_to_sequences([x]) )\n",
    "test_sequences=test_sequences.apply(lambda x: pad_sequences(x,maxlen=116) )\n",
    "tmp = [row.reshape(-1,1) for row in test_sequences.values]\n",
    "test_sequences = np.concatenate(tmp, axis=1).T\n",
    "test_sequences"
   ]
  },
  {
   "cell_type": "code",
   "execution_count": 11,
   "metadata": {},
   "outputs": [],
   "source": [
    "labels=y_train"
   ]
  },
  {
   "cell_type": "markdown",
   "metadata": {},
   "source": [
    "------------"
   ]
  },
  {
   "cell_type": "markdown",
   "metadata": {},
   "source": [
    "## Building a basic neural network model \n",
    "\n",
    "Now that we have preprocessed the text, let's create a basic neural network to train on our data. We'll use an embedding layer which performs [one-hot encoding](https://machinelearningmastery.com/why-one-hot-encode-data-in-machine-learning/) on our word sequences, two fully connected (\"dense\") layers, and an output layer with 5 neurons to represent the 5 possible star ratings.\n",
    "\n",
    "Before we train a `keras` model, there is an additional `compile` step where we define what loss function and optimizer to use, and what metrics to output. Then we can train the model using the `fit` function. All of this is shown below.\n",
    "\n",
    "Note the `validation_split=0.2` argument which tells Keras to train on only 80% of the training data and tune the model on the remaining 20%, which we call the validation set. You can see the accuracy and loss for both the training and validation set in the output for each epoch:"
   ]
  },
  {
   "cell_type": "code",
   "execution_count": 32,
   "metadata": {},
   "outputs": [],
   "source": [
    "model = Sequential()\n",
    "model.add(Embedding(20000, 128, input_length=116))\n",
    "model.add(Dense(128, activation='relu'))\n",
    "model.add(Dense(128, activation='relu'))\n",
    "model.add(GlobalMaxPooling1D())\n",
    "model.add(Dense(5, activation='sigmoid'))\n",
    "model.compile(loss='sparse_categorical_crossentropy', optimizer='adam', metrics=['accuracy'])"
   ]
  },
  {
   "cell_type": "code",
   "execution_count": 56,
   "metadata": {},
   "outputs": [
    {
     "name": "stdout",
     "output_type": "stream",
     "text": [
      "Model: \"sequential\"\n",
      "_________________________________________________________________\n",
      "Layer (type)                 Output Shape              Param #   \n",
      "=================================================================\n",
      "embedding (Embedding)        (None, 116, 128)          2560000   \n",
      "_________________________________________________________________\n",
      "dense (Dense)                (None, 116, 128)          16512     \n",
      "_________________________________________________________________\n",
      "dense_1 (Dense)              (None, 116, 128)          16512     \n",
      "_________________________________________________________________\n",
      "global_max_pooling1d (Global (None, 128)               0         \n",
      "_________________________________________________________________\n",
      "dense_2 (Dense)              (None, 5)                 645       \n",
      "=================================================================\n",
      "Total params: 2,593,669\n",
      "Trainable params: 2,593,669\n",
      "Non-trainable params: 0\n",
      "_________________________________________________________________\n"
     ]
    }
   ],
   "source": [
    "model.summary()"
   ]
  },
  {
   "cell_type": "code",
   "execution_count": 33,
   "metadata": {},
   "outputs": [
    {
     "name": "stdout",
     "output_type": "stream",
     "text": [
      "Epoch 1/10\n",
      "100/100 [==============================] - 5s 51ms/step - loss: 1.5840 - accuracy: 0.2716 - val_loss: 1.5155 - val_accuracy: 0.3525\n",
      "Epoch 2/10\n",
      "100/100 [==============================] - 5s 48ms/step - loss: 1.3578 - accuracy: 0.4444 - val_loss: 1.3179 - val_accuracy: 0.4437\n",
      "Epoch 3/10\n",
      "100/100 [==============================] - 5s 49ms/step - loss: 1.0198 - accuracy: 0.6119 - val_loss: 1.2707 - val_accuracy: 0.4563\n",
      "Epoch 4/10\n",
      "100/100 [==============================] - 5s 50ms/step - loss: 0.6973 - accuracy: 0.7619 - val_loss: 1.3843 - val_accuracy: 0.4600\n",
      "Epoch 5/10\n",
      "100/100 [==============================] - 5s 49ms/step - loss: 0.4164 - accuracy: 0.8797 - val_loss: 1.4960 - val_accuracy: 0.4588\n",
      "Epoch 6/10\n",
      "100/100 [==============================] - 5s 48ms/step - loss: 0.2259 - accuracy: 0.9519 - val_loss: 1.7028 - val_accuracy: 0.4500\n",
      "Epoch 7/10\n",
      "100/100 [==============================] - 5s 51ms/step - loss: 0.1087 - accuracy: 0.9859 - val_loss: 1.8758 - val_accuracy: 0.4462\n",
      "Epoch 8/10\n",
      "100/100 [==============================] - 5s 49ms/step - loss: 0.0539 - accuracy: 0.9962 - val_loss: 2.0417 - val_accuracy: 0.4363\n",
      "Epoch 9/10\n",
      "100/100 [==============================] - 5s 50ms/step - loss: 0.0310 - accuracy: 0.9984 - val_loss: 2.1501 - val_accuracy: 0.4288\n",
      "Epoch 10/10\n",
      "100/100 [==============================] - 5s 52ms/step - loss: 0.0187 - accuracy: 0.9994 - val_loss: 2.2163 - val_accuracy: 0.4338\n"
     ]
    }
   ],
   "source": [
    "history=model.fit(train_sequences, labels, validation_split=0.2, epochs=10)"
   ]
  },
  {
   "cell_type": "markdown",
   "metadata": {},
   "source": [
    "### Exercise 3:\n",
    "\n",
    "How well does this model perform? How does this compare to a baseline expectation? What do you notice about the accuracy and loss values for both the validation and training sets over time and what does this mean?"
   ]
  },
  {
   "cell_type": "markdown",
   "metadata": {},
   "source": [
    "**Answer.**"
   ]
  },
  {
   "cell_type": "code",
   "execution_count": 30,
   "metadata": {},
   "outputs": [],
   "source": [
    "# Plot history: MSE\n",
    "def plot_history(history):\n",
    "    import matplotlib.pyplot as plt\n",
    "    plt.plot(history.history['accuracy'], label='ACC (training data)')\n",
    "    plt.plot(history.history['val_accuracy'], label='ACC (validation data)')\n",
    "    plt.title('ACC')\n",
    "    plt.ylabel('ACC value')\n",
    "    plt.xlabel('No. epoch')\n",
    "    plt.legend(loc=\"upper left\")\n",
    "    plt.show()\n",
    "\n",
    "    plt.figure()\n",
    "    # Plot history: MAE\n",
    "    plt.plot(history.history['loss'], label='MAE (training data)')\n",
    "    plt.plot(history.history['val_loss'], label='MAE (validation data)')\n",
    "    plt.title('MAE')\n",
    "    plt.ylabel('MAE value')\n",
    "    plt.xlabel('No. epoch')\n",
    "    plt.legend(loc=\"upper left\")\n",
    "    plt.show()"
   ]
  },
  {
   "cell_type": "markdown",
   "metadata": {},
   "source": [
    "------------"
   ]
  },
  {
   "cell_type": "code",
   "execution_count": 34,
   "metadata": {
    "scrolled": true
   },
   "outputs": [
    {
     "data": {
      "image/png": "[encoded data removed]",
      "text/plain": [
       "<Figure size 432x288 with 1 Axes>"
      ]
     },
     "metadata": {
      "needs_background": "light"
     },
     "output_type": "display_data"
    },
    {
     "data": {
      "image/png": "[encoded data removed]",
      "text/plain": [
       "<Figure size 432x288 with 1 Axes>"
      ]
     },
     "metadata": {
      "needs_background": "light"
     },
     "output_type": "display_data"
    }
   ],
   "source": [
    "plot_history(history)"
   ]
  },
  {
   "cell_type": "markdown",
   "metadata": {},
   "source": [
    "Our algorithm has an incredible performance in the training stage, but when doing the validation we find that it does not have good results, that this model is even worse than making the decision by throwing a coin"
   ]
  },
  {
   "cell_type": "markdown",
   "metadata": {},
   "source": [
    "## Experimenting with different regularization strategies\n",
    "\n",
    "There are many different ways to mitigate overfitting in a neural network, collectively known as *regularization* techniques. One common regularization technique is called [Dropout](https://www.tensorflow.org/api_docs/python/tf/keras/layers/Dropout). In this regularization method, a set of neurons is randomly selected at each training step to be completely ignored. This is done so that the neurons in our network do not rely strongly on their neighboring neurons and we avoid the creation of [\"co-adaptations\"](http://jmlr.org/papers/volume15/srivastava14a/srivastava14a.pdf) that do not generalize well to unseen data. This making the model more robust and less prone to overffiting.\n",
    "\n",
    "You can create dropouts in `keras` by adding a layer named `Dropout(p)`, where `p` is the probability of dropping neurons in the previous layer. For example, the following model would implement dropout by removing roughly 20% percent of the outputs of the embedding layer at each training step:"
   ]
  },
  {
   "cell_type": "code",
   "execution_count": 35,
   "metadata": {},
   "outputs": [
    {
     "name": "stdout",
     "output_type": "stream",
     "text": [
      "Epoch 1/10\n",
      "100/100 [==============================] - 6s 59ms/step - loss: 1.5923 - accuracy: 0.2422 - val_loss: 1.5441 - val_accuracy: 0.3325\n",
      "Epoch 2/10\n",
      "100/100 [==============================] - 6s 58ms/step - loss: 1.4439 - accuracy: 0.3837 - val_loss: 1.3562 - val_accuracy: 0.4375\n",
      "Epoch 3/10\n",
      "100/100 [==============================] - 6s 58ms/step - loss: 1.1782 - accuracy: 0.5141 - val_loss: 1.2787 - val_accuracy: 0.4663\n",
      "Epoch 4/10\n",
      "100/100 [==============================] - 5s 55ms/step - loss: 0.9128 - accuracy: 0.6491 - val_loss: 1.3051 - val_accuracy: 0.4712\n",
      "Epoch 5/10\n",
      "100/100 [==============================] - 6s 55ms/step - loss: 0.6473 - accuracy: 0.7881 - val_loss: 1.3795 - val_accuracy: 0.4750\n",
      "Epoch 6/10\n",
      "100/100 [==============================] - 6s 55ms/step - loss: 0.4300 - accuracy: 0.8716 - val_loss: 1.5225 - val_accuracy: 0.4737\n",
      "Epoch 7/10\n",
      "100/100 [==============================] - 6s 56ms/step - loss: 0.2552 - accuracy: 0.9391 - val_loss: 1.7227 - val_accuracy: 0.4663\n",
      "Epoch 8/10\n",
      "100/100 [==============================] - 5s 54ms/step - loss: 0.1415 - accuracy: 0.9769 - val_loss: 1.9035 - val_accuracy: 0.4600\n",
      "Epoch 9/10\n",
      "100/100 [==============================] - 5s 53ms/step - loss: 0.0838 - accuracy: 0.9881 - val_loss: 2.0812 - val_accuracy: 0.4425\n",
      "Epoch 10/10\n",
      "100/100 [==============================] - 6s 57ms/step - loss: 0.0511 - accuracy: 0.9953 - val_loss: 2.2113 - val_accuracy: 0.4538\n"
     ]
    }
   ],
   "source": [
    "model2 = Sequential()\n",
    "model2.add(Embedding(20000, 128, input_length=116))\n",
    "model2.add(Dropout(0.2)) # --------------------------->Dropout layer will affect the output of previous layer.\n",
    "model2.add(Dense(128, activation='relu')) \n",
    "model2.add(Dense(128, activation='relu'))\n",
    "model2.add(GlobalMaxPooling1D())\n",
    "model2.add(Dense(5, activation='sigmoid'))\n",
    "model2.compile(loss='sparse_categorical_crossentropy', optimizer='adam', metrics=['accuracy'])\n",
    "history=model2.fit(train_sequences, labels, validation_split=0.2, epochs=10)"
   ]
  },
  {
   "cell_type": "code",
   "execution_count": 36,
   "metadata": {},
   "outputs": [
    {
     "data": {
      "image/png": "[encoded data removed]",
      "text/plain": [
       "<Figure size 432x288 with 1 Axes>"
      ]
     },
     "metadata": {
      "needs_background": "light"
     },
     "output_type": "display_data"
    },
    {
     "data": {
      "image/png": "[encoded data removed]",
      "text/plain": [
       "<Figure size 432x288 with 1 Axes>"
      ]
     },
     "metadata": {
      "needs_background": "light"
     },
     "output_type": "display_data"
    }
   ],
   "source": [
    "plot_history(history)"
   ]
  },
  {
   "cell_type": "markdown",
   "metadata": {},
   "source": [
    "### Exercise 4:\n",
    "\n",
    "Modify the neural network definition above to try and fix the overfitting problem using Dropout. Explain the configuration that you tried and your results. Why do you think your modifications were or were not able to mitigate the overfitting problem?"
   ]
  },
  {
   "cell_type": "markdown",
   "metadata": {},
   "source": [
    "**Answer.**"
   ]
  },
  {
   "cell_type": "code",
   "execution_count": 29,
   "metadata": {},
   "outputs": [
    {
     "name": "stdout",
     "output_type": "stream",
     "text": [
      "Epoch 1/10\n",
      "100/100 [==============================] - 8s 78ms/step - loss: 1.5891 - accuracy: 0.2466 - val_loss: 1.5366 - val_accuracy: 0.3162\n",
      "Epoch 2/10\n",
      "100/100 [==============================] - 7s 69ms/step - loss: 1.3998 - accuracy: 0.4116 - val_loss: 1.3696 - val_accuracy: 0.4050\n",
      "Epoch 3/10\n",
      "100/100 [==============================] - 6s 63ms/step - loss: 1.0798 - accuracy: 0.5713 - val_loss: 1.2890 - val_accuracy: 0.4387\n",
      "Epoch 4/10\n",
      "100/100 [==============================] - 7s 69ms/step - loss: 0.7670 - accuracy: 0.7212 - val_loss: 1.3634 - val_accuracy: 0.4450\n",
      "Epoch 5/10\n",
      "100/100 [==============================] - 7s 65ms/step - loss: 0.4807 - accuracy: 0.8503 - val_loss: 1.4799 - val_accuracy: 0.4450\n",
      "Epoch 1/10\n",
      "100/100 [==============================] - 7s 67ms/step - loss: 1.5825 - accuracy: 0.2675 - val_loss: 1.5312 - val_accuracy: 0.3088\n",
      "Epoch 2/10\n",
      "100/100 [==============================] - 7s 66ms/step - loss: 1.3837 - accuracy: 0.4241 - val_loss: 1.3364 - val_accuracy: 0.4450\n",
      "Epoch 3/10\n",
      "100/100 [==============================] - 6s 64ms/step - loss: 1.0680 - accuracy: 0.5628 - val_loss: 1.2407 - val_accuracy: 0.4800\n",
      "Epoch 4/10\n",
      "100/100 [==============================] - 7s 67ms/step - loss: 0.7668 - accuracy: 0.7163 - val_loss: 1.3117 - val_accuracy: 0.4588\n",
      "Epoch 5/10\n",
      "100/100 [==============================] - 7s 66ms/step - loss: 0.5085 - accuracy: 0.8341 - val_loss: 1.3875 - val_accuracy: 0.4600\n",
      "Epoch 1/10\n",
      "100/100 [==============================] - 7s 71ms/step - loss: 1.5835 - accuracy: 0.2591 - val_loss: 1.5483 - val_accuracy: 0.2962\n",
      "Epoch 2/10\n",
      "100/100 [==============================] - 7s 66ms/step - loss: 1.4017 - accuracy: 0.4131 - val_loss: 1.3594 - val_accuracy: 0.4275\n",
      "Epoch 3/10\n",
      "100/100 [==============================] - 7s 67ms/step - loss: 1.0935 - accuracy: 0.5644 - val_loss: 1.2535 - val_accuracy: 0.4663\n",
      "Epoch 4/10\n",
      "100/100 [==============================] - 7s 68ms/step - loss: 0.8123 - accuracy: 0.7006 - val_loss: 1.2783 - val_accuracy: 0.4613\n",
      "Epoch 5/10\n",
      "100/100 [==============================] - 7s 66ms/step - loss: 0.5565 - accuracy: 0.8084 - val_loss: 1.3230 - val_accuracy: 0.4588\n",
      "Epoch 1/10\n",
      "100/100 [==============================] - 7s 70ms/step - loss: 1.5837 - accuracy: 0.2716 - val_loss: 1.5411 - val_accuracy: 0.3400\n",
      "Epoch 2/10\n",
      "100/100 [==============================] - 7s 66ms/step - loss: 1.3959 - accuracy: 0.4191 - val_loss: 1.3773 - val_accuracy: 0.4250\n",
      "Epoch 3/10\n",
      "100/100 [==============================] - 7s 66ms/step - loss: 1.1095 - accuracy: 0.5372 - val_loss: 1.2687 - val_accuracy: 0.4550\n",
      "Epoch 4/10\n",
      "100/100 [==============================] - 7s 66ms/step - loss: 0.8416 - accuracy: 0.6694 - val_loss: 1.2829 - val_accuracy: 0.4462\n",
      "Epoch 5/10\n",
      "100/100 [==============================] - 7s 65ms/step - loss: 0.6035 - accuracy: 0.7862 - val_loss: 1.2914 - val_accuracy: 0.4638\n",
      "Epoch 1/10\n",
      "100/100 [==============================] - 7s 68ms/step - loss: 1.5769 - accuracy: 0.2772 - val_loss: 1.5297 - val_accuracy: 0.3275\n",
      "Epoch 2/10\n",
      "100/100 [==============================] - 7s 67ms/step - loss: 1.3892 - accuracy: 0.4172 - val_loss: 1.4024 - val_accuracy: 0.4313\n",
      "Epoch 3/10\n",
      "100/100 [==============================] - 7s 67ms/step - loss: 1.1370 - accuracy: 0.5366 - val_loss: 1.3159 - val_accuracy: 0.4187\n",
      "Epoch 4/10\n",
      "100/100 [==============================] - 7s 66ms/step - loss: 0.8944 - accuracy: 0.6403 - val_loss: 1.3147 - val_accuracy: 0.4313\n",
      "Epoch 5/10\n",
      "100/100 [==============================] - 7s 69ms/step - loss: 0.6655 - accuracy: 0.7494 - val_loss: 1.3503 - val_accuracy: 0.4387\n",
      "Epoch 6/10\n",
      "100/100 [==============================] - 7s 65ms/step - loss: 0.4762 - accuracy: 0.8269 - val_loss: 1.4355 - val_accuracy: 0.4462\n"
     ]
    },
    {
     "data": {
      "text/plain": [
       "[0.4449999928474426,\n",
       " 0.47999998927116394,\n",
       " 0.4662500023841858,\n",
       " 0.4637500047683716,\n",
       " 0.44624999165534973]"
      ]
     },
     "execution_count": 29,
     "metadata": {},
     "output_type": "execute_result"
    }
   ],
   "source": [
    "accuracy_p=[]\n",
    "for val in [0.1,0.2,0.3,0.4,0.5]:\n",
    "    callback = tf.keras.callbacks.EarlyStopping(monitor='val_loss', patience=2)\n",
    "    model2 = Sequential()\n",
    "    model2.add(Embedding(20000, 128, input_length=116))\n",
    "   # model2.add(Dropout(0.2)) # --------------------------->Dropout layer will affect the output of previous layer.\n",
    "    model2.add(Dense(128, activation='relu')) \n",
    "   # model2.add(Dropout(val)) # --------------------------->Dropout layer will affect the output of previous layer.\n",
    "    model2.add(Dense(128, activation='relu'))\n",
    "    model2.add(Dropout(val)) # --------------------------->Dropout layer will affect the output of previous layer.\n",
    "    model2.add(GlobalMaxPooling1D())\n",
    "    model2.add(Dense(5, activation='sigmoid'))\n",
    "    model2.compile(loss='sparse_categorical_crossentropy', optimizer='adam', metrics=['accuracy'])\n",
    "    history=model2.fit(train_sequences, labels, validation_split=0.2, epochs=10,callbacks=[callback])\n",
    "    accuracy_p+=[max(history.history['val_accuracy'])]\n",
    "accuracy_p"
   ]
  },
  {
   "cell_type": "code",
   "execution_count": 38,
   "metadata": {},
   "outputs": [
    {
     "data": {
      "image/png": "[encoded data removed]",
      "text/plain": [
       "<Figure size 432x288 with 1 Axes>"
      ]
     },
     "metadata": {
      "needs_background": "light"
     },
     "output_type": "display_data"
    },
    {
     "data": {
      "image/png": "[encoded data removed]",
      "text/plain": [
       "<Figure size 432x288 with 1 Axes>"
      ]
     },
     "metadata": {
      "needs_background": "light"
     },
     "output_type": "display_data"
    }
   ],
   "source": [
    "plot_history(history)"
   ]
  },
  {
   "cell_type": "markdown",
   "metadata": {},
   "source": [
    "We use dropout in each of the neural network layers to try to reduce the overfitting problem, but it seems that our network still has this problem. Probably the amount of data is not enough to get a good classification.\n",
    "\n",
    "Different combinations of dropouts were tested in different layers and with different values, the best result for the accuracy in the validation group was obtained using only a dropout in any layer with a value of 0.2"
   ]
  },
  {
   "cell_type": "markdown",
   "metadata": {},
   "source": [
    "------------"
   ]
  },
  {
   "cell_type": "markdown",
   "metadata": {},
   "source": [
    "### Exercise 5:\n",
    "\n",
    "Keras allows you to add [L1](https://www.tensorflow.org/api_docs/python/tf/keras/regularizers/l1), [L2](https://www.tensorflow.org/api_docs/python/tf/keras/regularizers/l2), or [L1 and L2](https://www.tensorflow.org/api_docs/python/tf/keras/regularizers/l1_l2) combined regularizers on individual layers by passing in the `kernel_regularizer`, `bias_regularizer` or `activity_regularizer` arguments. In neural networks, these regularizers work by penalizing the loss function in different ways, based on the number of weights or the size of the weights.\n",
    "\n",
    "Try 4-5 different combinations of L1, L2, L1 and L2 regularization in different combinations on different layers. In each example, explain why you tried that configuration and the results. Why do you think your modifications were or were not able to mitigate the overfitting problem?"
   ]
  },
  {
   "cell_type": "markdown",
   "metadata": {},
   "source": [
    "**Answer.**"
   ]
  },
  {
   "cell_type": "code",
   "execution_count": 42,
   "metadata": {},
   "outputs": [
    {
     "name": "stdout",
     "output_type": "stream",
     "text": [
      "Epoch 1/10\n",
      "100/100 [==============================] - 7s 67ms/step - loss: 1.7397 - accuracy: 0.2166 - val_loss: 1.6828 - val_accuracy: 0.2875\n",
      "Epoch 2/10\n",
      "100/100 [==============================] - 7s 66ms/step - loss: 1.6059 - accuracy: 0.3184 - val_loss: 1.5530 - val_accuracy: 0.3137\n",
      "Epoch 3/10\n",
      "100/100 [==============================] - 7s 69ms/step - loss: 1.4428 - accuracy: 0.3794 - val_loss: 1.5046 - val_accuracy: 0.3350\n",
      "Epoch 4/10\n",
      "100/100 [==============================] - 7s 66ms/step - loss: 1.2823 - accuracy: 0.4750 - val_loss: 1.5126 - val_accuracy: 0.3775\n",
      "Epoch 5/10\n",
      "100/100 [==============================] - 6s 64ms/step - loss: 1.1309 - accuracy: 0.5487 - val_loss: 1.5781 - val_accuracy: 0.3650\n",
      "Epoch 6/10\n",
      "100/100 [==============================] - 7s 67ms/step - loss: 0.9478 - accuracy: 0.6400 - val_loss: 1.7728 - val_accuracy: 0.3512\n",
      "Epoch 7/10\n",
      "100/100 [==============================] - 6s 65ms/step - loss: 0.7851 - accuracy: 0.7291 - val_loss: 2.0392 - val_accuracy: 0.3487\n",
      "Epoch 8/10\n",
      "100/100 [==============================] - 7s 65ms/step - loss: 0.6330 - accuracy: 0.7994 - val_loss: 2.2212 - val_accuracy: 0.3525\n",
      "Epoch 9/10\n",
      "100/100 [==============================] - 7s 67ms/step - loss: 0.5078 - accuracy: 0.8528 - val_loss: 2.4250 - val_accuracy: 0.3562\n",
      "Epoch 10/10\n",
      "100/100 [==============================] - 7s 67ms/step - loss: 0.4116 - accuracy: 0.8903 - val_loss: 2.6163 - val_accuracy: 0.3475\n"
     ]
    }
   ],
   "source": [
    "\n",
    "model2 = Sequential()\n",
    "model2.add(Embedding(20000, 128, input_length=116))\n",
    "model2.add(Dropout(0.2)) # --------------------------->Dropout layer will affect the output of previous layer.\n",
    "model2.add(Dense(128, activation='relu', kernel_regularizer=regularizers.l1(0.0001),activity_regularizer=regularizers.l1(0.001))) \n",
    "model2.add(Dropout(0.2)) # --------------------------->Dropout layer will affect the output of previous layer.\n",
    "model2.add(Dense(128, activation='relu',kernel_regularizer=regularizers.l2(1e-4)))\n",
    "model2.add(Dropout(0.2)) # --------------------------->Dropout layer will affect the output of previous layer.\n",
    "model2.add(GlobalMaxPooling1D())\n",
    "model2.add(Dense(5, activation='sigmoid'))\n",
    "model2.compile(loss='sparse_categorical_crossentropy', optimizer='adam', metrics=['accuracy'])\n",
    "history=model2.fit(train_sequences, labels, validation_split=0.2, epochs=10)"
   ]
  },
  {
   "cell_type": "code",
   "execution_count": 43,
   "metadata": {},
   "outputs": [
    {
     "data": {
      "image/png": "[encoded data removed]",
      "text/plain": [
       "<Figure size 432x288 with 1 Axes>"
      ]
     },
     "metadata": {
      "needs_background": "light"
     },
     "output_type": "display_data"
    },
    {
     "data": {
      "image/png": "[encoded data removed]",
      "text/plain": [
       "<Figure size 432x288 with 1 Axes>"
      ]
     },
     "metadata": {
      "needs_background": "light"
     },
     "output_type": "display_data"
    }
   ],
   "source": [
    "plot_history(history)"
   ]
  },
  {
   "cell_type": "code",
   "execution_count": 44,
   "metadata": {},
   "outputs": [
    {
     "name": "stdout",
     "output_type": "stream",
     "text": [
      "Epoch 1/10\n",
      "100/100 [==============================] - 7s 66ms/step - loss: 1.6310 - accuracy: 0.2138 - val_loss: 1.6086 - val_accuracy: 0.2900\n",
      "Epoch 2/10\n",
      "100/100 [==============================] - 6s 64ms/step - loss: 1.5366 - accuracy: 0.3378 - val_loss: 1.4954 - val_accuracy: 0.3775\n",
      "Epoch 3/10\n",
      "100/100 [==============================] - 7s 66ms/step - loss: 1.3503 - accuracy: 0.4431 - val_loss: 1.3881 - val_accuracy: 0.4338\n",
      "Epoch 4/10\n",
      "100/100 [==============================] - 6s 64ms/step - loss: 1.1577 - accuracy: 0.5422 - val_loss: 1.4254 - val_accuracy: 0.4087\n",
      "Epoch 5/10\n",
      "100/100 [==============================] - 6s 65ms/step - loss: 0.9820 - accuracy: 0.6247 - val_loss: 1.4844 - val_accuracy: 0.4050\n",
      "Epoch 6/10\n",
      "100/100 [==============================] - 6s 65ms/step - loss: 0.8026 - accuracy: 0.7150 - val_loss: 1.5734 - val_accuracy: 0.4062\n",
      "Epoch 7/10\n",
      "100/100 [==============================] - 6s 64ms/step - loss: 0.6142 - accuracy: 0.8000 - val_loss: 1.7858 - val_accuracy: 0.3887\n",
      "Epoch 8/10\n",
      "100/100 [==============================] - 7s 67ms/step - loss: 0.4718 - accuracy: 0.8606 - val_loss: 1.9874 - val_accuracy: 0.3913\n",
      "Epoch 9/10\n",
      "100/100 [==============================] - 7s 65ms/step - loss: 0.3714 - accuracy: 0.8994 - val_loss: 2.1934 - val_accuracy: 0.3938\n",
      "Epoch 10/10\n",
      "100/100 [==============================] - 7s 67ms/step - loss: 0.2962 - accuracy: 0.9309 - val_loss: 2.3523 - val_accuracy: 0.3925\n"
     ]
    }
   ],
   "source": [
    "model2 = Sequential()\n",
    "model2.add(Embedding(20000, 128, input_length=116))\n",
    "model2.add(Dropout(0.2)) # --------------------------->Dropout layer will affect the output of previous layer.\n",
    "model2.add(Dense(128, activation='relu', kernel_regularizer=regularizers.l2(0.0001),activity_regularizer=regularizers.l2(0.001))) \n",
    "model2.add(Dropout(0.2)) # --------------------------->Dropout layer will affect the output of previous layer.\n",
    "model2.add(Dense(128, activation='relu',kernel_regularizer=regularizers.l2(1e-4)))\n",
    "model2.add(Dropout(0.2)) # --------------------------->Dropout layer will affect the output of previous layer.\n",
    "model2.add(GlobalMaxPooling1D())\n",
    "model2.add(Dense(5, activation='sigmoid'))\n",
    "model2.compile(loss='sparse_categorical_crossentropy', optimizer='adam', metrics=['accuracy'])\n",
    "history=model2.fit(train_sequences, labels, validation_split=0.2, epochs=10)"
   ]
  },
  {
   "cell_type": "code",
   "execution_count": 45,
   "metadata": {},
   "outputs": [
    {
     "data": {
      "image/png": "[encoded data removed]",
      "text/plain": [
       "<Figure size 432x288 with 1 Axes>"
      ]
     },
     "metadata": {
      "needs_background": "light"
     },
     "output_type": "display_data"
    },
    {
     "data": {
      "image/png": "[encoded data removed]",
      "text/plain": [
       "<Figure size 432x288 with 1 Axes>"
      ]
     },
     "metadata": {
      "needs_background": "light"
     },
     "output_type": "display_data"
    }
   ],
   "source": [
    "plot_history(history)"
   ]
  },
  {
   "cell_type": "code",
   "execution_count": 34,
   "metadata": {},
   "outputs": [
    {
     "name": "stdout",
     "output_type": "stream",
     "text": [
      "Epoch 1/10\n",
      "100/100 [==============================] - 7s 67ms/step - loss: 1.6106 - accuracy: 0.2550 - val_loss: 1.5580 - val_accuracy: 0.3288\n",
      "Epoch 2/10\n",
      "100/100 [==============================] - 6s 64ms/step - loss: 1.4454 - accuracy: 0.3994 - val_loss: 1.4206 - val_accuracy: 0.3988\n",
      "Epoch 3/10\n",
      "100/100 [==============================] - 7s 65ms/step - loss: 1.1720 - accuracy: 0.5334 - val_loss: 1.3308 - val_accuracy: 0.4500\n",
      "Epoch 4/10\n",
      "100/100 [==============================] - 6s 63ms/step - loss: 0.9060 - accuracy: 0.6741 - val_loss: 1.3993 - val_accuracy: 0.4313\n",
      "Epoch 5/10\n",
      "100/100 [==============================] - 7s 66ms/step - loss: 0.6416 - accuracy: 0.7941 - val_loss: 1.5186 - val_accuracy: 0.4288\n",
      "Epoch 6/10\n",
      "100/100 [==============================] - 6s 64ms/step - loss: 0.4175 - accuracy: 0.8838 - val_loss: 1.7504 - val_accuracy: 0.4150\n",
      "Epoch 7/10\n",
      "100/100 [==============================] - 6s 64ms/step - loss: 0.2701 - accuracy: 0.9459 - val_loss: 1.9596 - val_accuracy: 0.4175\n",
      "Epoch 8/10\n",
      "100/100 [==============================] - 7s 65ms/step - loss: 0.1819 - accuracy: 0.9731 - val_loss: 2.1927 - val_accuracy: 0.4087\n",
      "Epoch 9/10\n",
      "100/100 [==============================] - 6s 64ms/step - loss: 0.1321 - accuracy: 0.9875 - val_loss: 2.3685 - val_accuracy: 0.3975\n",
      "Epoch 10/10\n",
      "100/100 [==============================] - 7s 66ms/step - loss: 0.1079 - accuracy: 0.9950 - val_loss: 2.5183 - val_accuracy: 0.3925\n"
     ]
    }
   ],
   "source": [
    "model2 = Sequential()\n",
    "model2.add(Embedding(20000, 128, input_length=116))\n",
    "#model2.add(Dropout(0.2)) # --------------------------->Dropout layer will affect the output of previous layer.\n",
    "model2.add(Dense(128, activation='relu', kernel_regularizer=regularizers.l2(0.0001),bias_regularizer=regularizers.l1(0.001))) \n",
    "#model2.add(Dropout(0.2)) # --------------------------->Dropout layer will affect the output of previous layer.\n",
    "model2.add(Dense(128, activation='relu',kernel_regularizer=regularizers.l2(1e-4)))\n",
    "model2.add(Dropout(0.2)) # --------------------------->Dropout layer will affect the output of previous layer.\n",
    "model2.add(GlobalMaxPooling1D())\n",
    "model2.add(Dense(5, activation='sigmoid'))\n",
    "model2.compile(loss='sparse_categorical_crossentropy', optimizer='adam', metrics=['accuracy'])\n",
    "history=model2.fit(train_sequences, labels, validation_split=0.2, epochs=10)"
   ]
  },
  {
   "cell_type": "code",
   "execution_count": 47,
   "metadata": {},
   "outputs": [
    {
     "data": {
      "image/png": "[encoded data removed]",
      "text/plain": [
       "<Figure size 432x288 with 1 Axes>"
      ]
     },
     "metadata": {
      "needs_background": "light"
     },
     "output_type": "display_data"
    },
    {
     "data": {
      "image/png": "[encoded data removed]",
      "text/plain": [
       "<Figure size 432x288 with 1 Axes>"
      ]
     },
     "metadata": {
      "needs_background": "light"
     },
     "output_type": "display_data"
    }
   ],
   "source": [
    "plot_history(history)"
   ]
  },
  {
   "cell_type": "code",
   "execution_count": 33,
   "metadata": {},
   "outputs": [
    {
     "name": "stdout",
     "output_type": "stream",
     "text": [
      "Epoch 1/10\n",
      "100/100 [==============================] - 7s 75ms/step - loss: 1.7051 - accuracy: 0.2394 - val_loss: 1.6565 - val_accuracy: 0.2738\n",
      "Epoch 2/10\n",
      "100/100 [==============================] - 7s 68ms/step - loss: 1.5435 - accuracy: 0.3791 - val_loss: 1.4785 - val_accuracy: 0.4000\n",
      "Epoch 3/10\n",
      "100/100 [==============================] - 6s 63ms/step - loss: 1.2921 - accuracy: 0.4913 - val_loss: 1.3861 - val_accuracy: 0.4275\n",
      "Epoch 4/10\n",
      "100/100 [==============================] - 6s 64ms/step - loss: 1.0337 - accuracy: 0.6256 - val_loss: 1.4727 - val_accuracy: 0.4275\n",
      "Epoch 5/10\n",
      "100/100 [==============================] - 6s 62ms/step - loss: 0.7986 - accuracy: 0.7369 - val_loss: 1.6151 - val_accuracy: 0.4175\n",
      "Epoch 6/10\n",
      "100/100 [==============================] - 6s 65ms/step - loss: 0.5884 - accuracy: 0.8369 - val_loss: 1.8193 - val_accuracy: 0.4238\n",
      "Epoch 7/10\n",
      "100/100 [==============================] - 6s 65ms/step - loss: 0.4176 - accuracy: 0.9013 - val_loss: 2.1130 - val_accuracy: 0.4050\n",
      "Epoch 8/10\n",
      "100/100 [==============================] - 7s 68ms/step - loss: 0.3074 - accuracy: 0.9416 - val_loss: 2.2926 - val_accuracy: 0.4000\n",
      "Epoch 9/10\n",
      "100/100 [==============================] - 7s 65ms/step - loss: 0.2301 - accuracy: 0.9725 - val_loss: 2.5469 - val_accuracy: 0.3950\n",
      "Epoch 10/10\n",
      "100/100 [==============================] - 7s 65ms/step - loss: 0.1871 - accuracy: 0.9859 - val_loss: 2.6922 - val_accuracy: 0.3837\n"
     ]
    }
   ],
   "source": [
    "model2 = Sequential()\n",
    "model2.add(Embedding(20000, 128, input_length=116))\n",
    "#model2.add(Dropout(0.2)) # --------------------------->Dropout layer will affect the output of previous layer.\n",
    "model2.add(Dense(128, activation='relu', kernel_regularizer=regularizers.l2(0.0001),bias_regularizer=regularizers.l1(0.001))) \n",
    "#model2.add(Dropout(0.2)) # --------------------------->Dropout layer will affect the output of previous layer.\n",
    "model2.add(Dense(128, activation='relu',kernel_regularizer=regularizers.l1(1e-4)))\n",
    "model2.add(Dropout(0.2)) # --------------------------->Dropout layer will affect the output of previous layer.\n",
    "model2.add(GlobalMaxPooling1D())\n",
    "model2.add(Dense(5, activation='sigmoid'))\n",
    "model2.compile(loss='sparse_categorical_crossentropy', optimizer='adam', metrics=['accuracy'])\n",
    "history=model2.fit(train_sequences, labels, validation_split=0.2, epochs=10)"
   ]
  },
  {
   "cell_type": "code",
   "execution_count": 49,
   "metadata": {},
   "outputs": [
    {
     "data": {
      "image/png": "[encoded data removed]",
      "text/plain": [
       "<Figure size 432x288 with 1 Axes>"
      ]
     },
     "metadata": {
      "needs_background": "light"
     },
     "output_type": "display_data"
    },
    {
     "data": {
      "image/png": "[encoded data removed]",
      "text/plain": [
       "<Figure size 432x288 with 1 Axes>"
      ]
     },
     "metadata": {
      "needs_background": "light"
     },
     "output_type": "display_data"
    }
   ],
   "source": [
    "plot_history(history)"
   ]
  },
  {
   "cell_type": "code",
   "execution_count": 32,
   "metadata": {},
   "outputs": [
    {
     "name": "stdout",
     "output_type": "stream",
     "text": [
      "Epoch 1/10\n",
      "100/100 [==============================] - 7s 74ms/step - loss: 1.6232 - accuracy: 0.2322 - val_loss: 1.5845 - val_accuracy: 0.3013\n",
      "Epoch 2/10\n",
      "100/100 [==============================] - 7s 69ms/step - loss: 1.5119 - accuracy: 0.3512 - val_loss: 1.4410 - val_accuracy: 0.3900\n",
      "Epoch 3/10\n",
      "100/100 [==============================] - 6s 65ms/step - loss: 1.2793 - accuracy: 0.4725 - val_loss: 1.3466 - val_accuracy: 0.4412\n",
      "Epoch 4/10\n",
      "100/100 [==============================] - 7s 66ms/step - loss: 1.0322 - accuracy: 0.6006 - val_loss: 1.3844 - val_accuracy: 0.4462\n",
      "Epoch 5/10\n",
      "100/100 [==============================] - 6s 64ms/step - loss: 0.7928 - accuracy: 0.7237 - val_loss: 1.4305 - val_accuracy: 0.4525\n",
      "Epoch 6/10\n",
      "100/100 [==============================] - 7s 67ms/step - loss: 0.5748 - accuracy: 0.8184 - val_loss: 1.5760 - val_accuracy: 0.4500\n",
      "Epoch 7/10\n",
      "100/100 [==============================] - 7s 65ms/step - loss: 0.3949 - accuracy: 0.8997 - val_loss: 1.7429 - val_accuracy: 0.4338\n",
      "Epoch 8/10\n",
      "100/100 [==============================] - 7s 66ms/step - loss: 0.2668 - accuracy: 0.9406 - val_loss: 1.9401 - val_accuracy: 0.4313\n",
      "Epoch 9/10\n",
      "100/100 [==============================] - 7s 66ms/step - loss: 0.1903 - accuracy: 0.9728 - val_loss: 2.1598 - val_accuracy: 0.4475\n",
      "Epoch 10/10\n",
      "100/100 [==============================] - 6s 65ms/step - loss: 0.1430 - accuracy: 0.9834 - val_loss: 2.3089 - val_accuracy: 0.4137\n"
     ]
    }
   ],
   "source": [
    "model2 = Sequential()\n",
    "model2.add(Embedding(20000, 128, input_length=116))\n",
    "model2.add(Dropout(0.2)) # --------------------------->Dropout layer will affect the output of previous layer.\n",
    "model2.add(Dense(128, activation='relu', kernel_regularizer=regularizers.l2(0.0001))) \n",
    "#model2.add(Dropout(0.2)) # --------------------------->Dropout layer will affect the output of previous layer.\n",
    "model2.add(Dense(128, activation='relu',kernel_regularizer=regularizers.l2(1e-4)))\n",
    "#model2.add(Dropout(0.2)) # --------------------------->Dropout layer will affect the output of previous layer.\n",
    "model2.add(GlobalMaxPooling1D())\n",
    "model2.add(Dense(5, activation='sigmoid'))\n",
    "model2.compile(loss='sparse_categorical_crossentropy', optimizer='adam', metrics=['accuracy'])\n",
    "history=model2.fit(train_sequences, labels, validation_split=0.2, epochs=10)"
   ]
  },
  {
   "cell_type": "code",
   "execution_count": 51,
   "metadata": {},
   "outputs": [
    {
     "data": {
      "image/png": "[encoded data removed]",
      "text/plain": [
       "<Figure size 432x288 with 1 Axes>"
      ]
     },
     "metadata": {
      "needs_background": "light"
     },
     "output_type": "display_data"
    },
    {
     "data": {
      "image/png": "[encoded data removed]",
      "text/plain": [
       "<Figure size 432x288 with 1 Axes>"
      ]
     },
     "metadata": {
      "needs_background": "light"
     },
     "output_type": "display_data"
    }
   ],
   "source": [
    "plot_history(history)"
   ]
  },
  {
   "cell_type": "markdown",
   "metadata": {},
   "source": [
    "------------"
   ]
  },
  {
   "cell_type": "markdown",
   "metadata": {},
   "source": [
    "## Regularization through adding more data\n",
    "\n",
    "Depending on the configurations you tried above, you probably saw that L1 and L2 regularization are pretty limited for this model and this amount of data. A more straightforward way to prevent overfitting is simply by adding more training data. If the network has more (and more varied) examples to learn from, perhaps it will learn more generalizable rules."
   ]
  },
  {
   "cell_type": "markdown",
   "metadata": {},
   "source": [
    "### Exercise 6:\n",
    "\n",
    "How would you test the hypothesis that adding more data would result in a more generalizable model? Explain any change in results you see from further experimentation.\n",
    "\n",
    "**Hint:** Try adding 6000 reviews for each score instead. Compare with the original proposed model."
   ]
  },
  {
   "cell_type": "markdown",
   "metadata": {},
   "source": [
    "**Answer.**"
   ]
  },
  {
   "cell_type": "code",
   "execution_count": 72,
   "metadata": {},
   "outputs": [],
   "source": [
    "amazon2=pd.DataFrame()\n",
    "for scores in range(1,6):\n",
    "    amazon2=pd.concat([amazon2,amazon_reviews[amazon_reviews['Score']==scores].head(6000)])\n",
    "amazon2=amazon2.reset_index(drop='True')\n",
    "\n",
    "y = amazon2.Score\n",
    "X = amazon2.Text\n",
    "X_train2, X_test2, y_train2, y_test2 = train_test_split(X, y, test_size=0.2, random_state=40)\n",
    "\n",
    "tokenizer2 = Tokenizer(num_words=20000) \n",
    "tokenizer2.fit_on_texts(X_train2)\n",
    "labels2=y_train2-1\n",
    "\n",
    "train_sequences2 = tokenizer2.texts_to_sequences(X_train2)\n",
    "test_sequences2 = tokenizer2.texts_to_sequences(X_test2)\n",
    "\n",
    "train_sequences2 = pad_sequences(train_sequences2, maxlen= 116)\n",
    "test_sequences2 = pad_sequences(test_sequences2, maxlen= 116)\n",
    "\n",
    "\n",
    "\n"
   ]
  },
  {
   "cell_type": "code",
   "execution_count": 73,
   "metadata": {},
   "outputs": [
    {
     "name": "stdout",
     "output_type": "stream",
     "text": [
      "Epoch 1/10\n",
      "600/600 [==============================] - 36s 59ms/step - loss: 1.3624 - accuracy: 0.4020 - val_loss: 1.2428 - val_accuracy: 0.4613\n",
      "Epoch 2/10\n",
      "600/600 [==============================] - 40s 66ms/step - loss: 1.1314 - accuracy: 0.5179 - val_loss: 1.2090 - val_accuracy: 0.4835\n",
      "Epoch 3/10\n",
      "600/600 [==============================] - 39s 65ms/step - loss: 0.9716 - accuracy: 0.6011 - val_loss: 1.2244 - val_accuracy: 0.5013\n",
      "Epoch 4/10\n",
      "600/600 [==============================] - 37s 62ms/step - loss: 0.8116 - accuracy: 0.6783 - val_loss: 1.2853 - val_accuracy: 0.4981\n",
      "Epoch 5/10\n",
      "600/600 [==============================] - 40s 67ms/step - loss: 0.6610 - accuracy: 0.7482 - val_loss: 1.4531 - val_accuracy: 0.4919\n",
      "Epoch 6/10\n",
      "600/600 [==============================] - 40s 67ms/step - loss: 0.5246 - accuracy: 0.8080 - val_loss: 1.5719 - val_accuracy: 0.4960\n",
      "Epoch 7/10\n",
      "600/600 [==============================] - 39s 66ms/step - loss: 0.4074 - accuracy: 0.8535 - val_loss: 1.7654 - val_accuracy: 0.4938\n",
      "Epoch 8/10\n",
      "600/600 [==============================] - 37s 61ms/step - loss: 0.3110 - accuracy: 0.8961 - val_loss: 1.9448 - val_accuracy: 0.4940\n",
      "Epoch 9/10\n",
      "600/600 [==============================] - 36s 60ms/step - loss: 0.2288 - accuracy: 0.9238 - val_loss: 2.1664 - val_accuracy: 0.4825\n",
      "Epoch 10/10\n",
      "600/600 [==============================] - 34s 56ms/step - loss: 0.1650 - accuracy: 0.9492 - val_loss: 2.3328 - val_accuracy: 0.4892\n"
     ]
    }
   ],
   "source": [
    "model = Sequential()\n",
    "model.add(Embedding(20000, 128, input_length=116))\n",
    "model.add(Dense(128, activation='relu'))\n",
    "model.add(Dense(128, activation='relu'))\n",
    "model.add(GlobalMaxPooling1D())\n",
    "model.add(Dense(5, activation='sigmoid'))\n",
    "model.compile(loss='sparse_categorical_crossentropy', optimizer='adam', metrics=['accuracy'])\n",
    "history=model.fit(train_sequences2, labels2, validation_split=0.2, epochs=10)"
   ]
  },
  {
   "cell_type": "code",
   "execution_count": 74,
   "metadata": {},
   "outputs": [
    {
     "data": {
      "image/png": "[encoded data removed]",
      "text/plain": [
       "<Figure size 432x288 with 1 Axes>"
      ]
     },
     "metadata": {
      "needs_background": "light"
     },
     "output_type": "display_data"
    },
    {
     "data": {
      "image/png": "[encoded data removed]",
      "text/plain": [
       "<Figure size 432x288 with 1 Axes>"
      ]
     },
     "metadata": {
      "needs_background": "light"
     },
     "output_type": "display_data"
    }
   ],
   "source": [
    "plot_history(history)"
   ]
  },
  {
   "cell_type": "markdown",
   "metadata": {},
   "source": [
    "------------"
   ]
  },
  {
   "cell_type": "markdown",
   "metadata": {},
   "source": [
    "## Regularization through early stopping\n",
    "\n",
    "We have consistently seen that our neural network overfits at around the third epoch. Hence, another form of regularization is to end training early if validation loss starts increasing. (This is similar to the validation curves we used when constructing classification models.) Although the network will not have found an optimal function in the training data, the looser function that it has found will likely be more generalizable.\n",
    "\n",
    "You can do this manually by inspecting the data as we have done above and modifying the `epochs` argument in `fit()`, but Keras also allows you to easily do this automatically via an [`EarlyStopping` callback](https://www.tensorflow.org/api_docs/python/tf/keras/callbacks/EarlyStopping)."
   ]
  },
  {
   "cell_type": "markdown",
   "metadata": {},
   "source": [
    "### Exercise 7:\n",
    "\n",
    "Experiment with the `EarlyStopping` callback and explain the results."
   ]
  },
  {
   "cell_type": "markdown",
   "metadata": {},
   "source": [
    "**Answer.**"
   ]
  },
  {
   "cell_type": "code",
   "execution_count": 79,
   "metadata": {},
   "outputs": [
    {
     "name": "stdout",
     "output_type": "stream",
     "text": [
      "Epoch 1/10\n",
      "600/600 [==============================] - 40s 67ms/step - loss: 1.3811 - accuracy: 0.3826 - val_loss: 1.2378 - val_accuracy: 0.4708\n",
      "Epoch 2/10\n",
      "600/600 [==============================] - 35s 59ms/step - loss: 1.1261 - accuracy: 0.5274 - val_loss: 1.2056 - val_accuracy: 0.4842\n",
      "Epoch 3/10\n",
      "600/600 [==============================] - 35s 58ms/step - loss: 0.9611 - accuracy: 0.6093 - val_loss: 1.2143 - val_accuracy: 0.5038\n",
      "Epoch 4/10\n",
      "600/600 [==============================] - 31s 52ms/step - loss: 0.8060 - accuracy: 0.6818 - val_loss: 1.2925 - val_accuracy: 0.5015\n"
     ]
    }
   ],
   "source": [
    "callback = tf.keras.callbacks.EarlyStopping(monitor='val_loss', patience=2)\n",
    "model = Sequential()\n",
    "model.add(Embedding(20000, 128, input_length=116))\n",
    "model.add(Dense(128, activation='relu'))\n",
    "model.add(Dense(128, activation='relu'))\n",
    "model.add(GlobalMaxPooling1D())\n",
    "model.add(Dense(5, activation='sigmoid'))\n",
    "model.compile(loss='sparse_categorical_crossentropy', optimizer='adam', metrics=['accuracy'])\n",
    "history=model.fit(train_sequences2, labels2, validation_split=0.2, epochs=10, callbacks=[callback])"
   ]
  },
  {
   "cell_type": "code",
   "execution_count": 80,
   "metadata": {},
   "outputs": [
    {
     "data": {
      "image/png": "[encoded data removed]",
      "text/plain": [
       "<Figure size 432x288 with 1 Axes>"
      ]
     },
     "metadata": {
      "needs_background": "light"
     },
     "output_type": "display_data"
    },
    {
     "data": {
      "image/png": "[encoded data removed]",
      "text/plain": [
       "<Figure size 432x288 with 1 Axes>"
      ]
     },
     "metadata": {
      "needs_background": "light"
     },
     "output_type": "display_data"
    }
   ],
   "source": [
    "plot_history(history)"
   ]
  },
  {
   "cell_type": "markdown",
   "metadata": {},
   "source": [
    "------------"
   ]
  },
  {
   "cell_type": "markdown",
   "metadata": {},
   "source": [
    "## Evaluating our model"
   ]
  },
  {
   "cell_type": "markdown",
   "metadata": {},
   "source": [
    "Unlike in most previous cases, we used *three* splits of our data instead of two. All of our model tuning has been done on the validation set, and we have not even touched the test set that we split off right at the start.\n",
    "\n",
    "For experiments, it's very important that your model is only run **once** on your test set. As there is so much randomness at play, it's vital to not \"cherry-pick\" the best results, so optimize as much as you want on the validation set, but keep the test set until the end and all official results should be based on the single run of the test set (or whatever configuration was decided *before the experiment started*)."
   ]
  },
  {
   "cell_type": "markdown",
   "metadata": {},
   "source": [
    "### Exercise 8:\n",
    "\n",
    "Let's take the model configuration that resulted in the highest validation accuracy and use that one as our final model. Evaluate this configuration on how well it performs on the test set, and furthermore diagnose *what kinds of mistakes it makes*. Explain whether these mistakes are expected or not, and print some of these poorly classified reviews. Given the mistakes the model made, how would you then go back and try to improve the model or optimize the tuning steps?\n",
    "\n",
    "**Hint:** You can use the [`predict_classes`](https://www.tensorflow.org/api_docs/python/tf/keras/Sequential#predict_classes) method on your model to get the most probable class directly."
   ]
  },
  {
   "cell_type": "markdown",
   "metadata": {},
   "source": [
    "**Answer.**"
   ]
  },
  {
   "cell_type": "markdown",
   "metadata": {},
   "source": [
    "------------"
   ]
  },
  {
   "cell_type": "code",
   "execution_count": 136,
   "metadata": {},
   "outputs": [
    {
     "data": {
      "text/html": [
       "<div>\n",
       "<style scoped>\n",
       "    .dataframe tbody tr th:only-of-type {\n",
       "        vertical-align: middle;\n",
       "    }\n",
       "\n",
       "    .dataframe tbody tr th {\n",
       "        vertical-align: top;\n",
       "    }\n",
       "\n",
       "    .dataframe thead th {\n",
       "        text-align: right;\n",
       "    }\n",
       "</style>\n",
       "<table border=\"1\" class=\"dataframe\">\n",
       "  <thead>\n",
       "    <tr style=\"text-align: right;\">\n",
       "      <th></th>\n",
       "      <th>0</th>\n",
       "      <th>Original_index</th>\n",
       "      <th>scores</th>\n",
       "    </tr>\n",
       "  </thead>\n",
       "  <tbody>\n",
       "    <tr>\n",
       "      <th>0</th>\n",
       "      <td>4</td>\n",
       "      <td>28478</td>\n",
       "      <td>4</td>\n",
       "    </tr>\n",
       "    <tr>\n",
       "      <th>1</th>\n",
       "      <td>0</td>\n",
       "      <td>3956</td>\n",
       "      <td>0</td>\n",
       "    </tr>\n",
       "    <tr>\n",
       "      <th>2</th>\n",
       "      <td>1</td>\n",
       "      <td>7014</td>\n",
       "      <td>1</td>\n",
       "    </tr>\n",
       "    <tr>\n",
       "      <th>3</th>\n",
       "      <td>3</td>\n",
       "      <td>18659</td>\n",
       "      <td>3</td>\n",
       "    </tr>\n",
       "    <tr>\n",
       "      <th>4</th>\n",
       "      <td>0</td>\n",
       "      <td>15274</td>\n",
       "      <td>2</td>\n",
       "    </tr>\n",
       "    <tr>\n",
       "      <th>...</th>\n",
       "      <td>...</td>\n",
       "      <td>...</td>\n",
       "      <td>...</td>\n",
       "    </tr>\n",
       "    <tr>\n",
       "      <th>5995</th>\n",
       "      <td>0</td>\n",
       "      <td>1432</td>\n",
       "      <td>0</td>\n",
       "    </tr>\n",
       "    <tr>\n",
       "      <th>5996</th>\n",
       "      <td>1</td>\n",
       "      <td>10241</td>\n",
       "      <td>1</td>\n",
       "    </tr>\n",
       "    <tr>\n",
       "      <th>5997</th>\n",
       "      <td>4</td>\n",
       "      <td>21975</td>\n",
       "      <td>3</td>\n",
       "    </tr>\n",
       "    <tr>\n",
       "      <th>5998</th>\n",
       "      <td>4</td>\n",
       "      <td>29297</td>\n",
       "      <td>4</td>\n",
       "    </tr>\n",
       "    <tr>\n",
       "      <th>5999</th>\n",
       "      <td>0</td>\n",
       "      <td>8093</td>\n",
       "      <td>1</td>\n",
       "    </tr>\n",
       "  </tbody>\n",
       "</table>\n",
       "<p>6000 rows × 3 columns</p>\n",
       "</div>"
      ],
      "text/plain": [
       "      0  Original_index  scores\n",
       "0     4           28478       4\n",
       "1     0            3956       0\n",
       "2     1            7014       1\n",
       "3     3           18659       3\n",
       "4     0           15274       2\n",
       "...  ..             ...     ...\n",
       "5995  0            1432       0\n",
       "5996  1           10241       1\n",
       "5997  4           21975       3\n",
       "5998  4           29297       4\n",
       "5999  0            8093       1\n",
       "\n",
       "[6000 rows x 3 columns]"
      ]
     },
     "execution_count": 136,
     "metadata": {},
     "output_type": "execute_result"
    }
   ],
   "source": [
    "predicted_model = pd.DataFrame(model.predict_classes(test_sequences2))\n",
    "predicted_model[['Original_index','scores']]=y_test2.reset_index()\n",
    "predicted_model.scores=predicted_model.scores-1\n",
    "predicted_model"
   ]
  },
  {
   "cell_type": "code",
   "execution_count": 96,
   "metadata": {},
   "outputs": [],
   "source": [
    "from sklearn.metrics import confusion_matrix\n",
    "cf_matrix=confusion_matrix(predicted_model.scores, predicted_model[0])"
   ]
  },
  {
   "cell_type": "code",
   "execution_count": 97,
   "metadata": {},
   "outputs": [
    {
     "data": {
      "text/plain": [
       "<matplotlib.axes._subplots.AxesSubplot at 0x2b93b91db50>"
      ]
     },
     "execution_count": 97,
     "metadata": {},
     "output_type": "execute_result"
    },
    {
     "data": {
      "image/png": "[encoded data removed]",
      "text/plain": [
       "<Figure size 432x288 with 2 Axes>"
      ]
     },
     "metadata": {
      "needs_background": "light"
     },
     "output_type": "display_data"
    }
   ],
   "source": [
    "import seaborn as sns\n",
    "sns.heatmap(cf_matrix, annot=True)"
   ]
  },
  {
   "cell_type": "code",
   "execution_count": 106,
   "metadata": {},
   "outputs": [],
   "source": [
    "acc=sum(np.where(predicted_model.scores == predicted_model[0], 1, 0))*100/len(predicted_model[0])"
   ]
  },
  {
   "cell_type": "code",
   "execution_count": 108,
   "metadata": {},
   "outputs": [
    {
     "name": "stdout",
     "output_type": "stream",
     "text": [
      "The final model has an accuracy of 49.35 % with the test group\n"
     ]
    }
   ],
   "source": [
    "print('The final model has an accuracy of', acc, '% with the test group')"
   ]
  },
  {
   "cell_type": "code",
   "execution_count": 137,
   "metadata": {},
   "outputs": [
    {
     "data": {
      "text/html": [
       "<div>\n",
       "<style scoped>\n",
       "    .dataframe tbody tr th:only-of-type {\n",
       "        vertical-align: middle;\n",
       "    }\n",
       "\n",
       "    .dataframe tbody tr th {\n",
       "        vertical-align: top;\n",
       "    }\n",
       "\n",
       "    .dataframe thead th {\n",
       "        text-align: right;\n",
       "    }\n",
       "</style>\n",
       "<table border=\"1\" class=\"dataframe\">\n",
       "  <thead>\n",
       "    <tr style=\"text-align: right;\">\n",
       "      <th></th>\n",
       "      <th>0</th>\n",
       "      <th>Original_index</th>\n",
       "      <th>scores</th>\n",
       "      <th>result</th>\n",
       "    </tr>\n",
       "  </thead>\n",
       "  <tbody>\n",
       "    <tr>\n",
       "      <th>4</th>\n",
       "      <td>0</td>\n",
       "      <td>15274</td>\n",
       "      <td>2</td>\n",
       "      <td>0</td>\n",
       "    </tr>\n",
       "    <tr>\n",
       "      <th>7</th>\n",
       "      <td>0</td>\n",
       "      <td>7222</td>\n",
       "      <td>1</td>\n",
       "      <td>0</td>\n",
       "    </tr>\n",
       "    <tr>\n",
       "      <th>8</th>\n",
       "      <td>4</td>\n",
       "      <td>3520</td>\n",
       "      <td>0</td>\n",
       "      <td>0</td>\n",
       "    </tr>\n",
       "    <tr>\n",
       "      <th>9</th>\n",
       "      <td>4</td>\n",
       "      <td>16222</td>\n",
       "      <td>2</td>\n",
       "      <td>0</td>\n",
       "    </tr>\n",
       "    <tr>\n",
       "      <th>12</th>\n",
       "      <td>3</td>\n",
       "      <td>14699</td>\n",
       "      <td>2</td>\n",
       "      <td>0</td>\n",
       "    </tr>\n",
       "    <tr>\n",
       "      <th>...</th>\n",
       "      <td>...</td>\n",
       "      <td>...</td>\n",
       "      <td>...</td>\n",
       "      <td>...</td>\n",
       "    </tr>\n",
       "    <tr>\n",
       "      <th>5989</th>\n",
       "      <td>3</td>\n",
       "      <td>25355</td>\n",
       "      <td>4</td>\n",
       "      <td>0</td>\n",
       "    </tr>\n",
       "    <tr>\n",
       "      <th>5992</th>\n",
       "      <td>0</td>\n",
       "      <td>8919</td>\n",
       "      <td>1</td>\n",
       "      <td>0</td>\n",
       "    </tr>\n",
       "    <tr>\n",
       "      <th>5993</th>\n",
       "      <td>2</td>\n",
       "      <td>20562</td>\n",
       "      <td>3</td>\n",
       "      <td>0</td>\n",
       "    </tr>\n",
       "    <tr>\n",
       "      <th>5997</th>\n",
       "      <td>4</td>\n",
       "      <td>21975</td>\n",
       "      <td>3</td>\n",
       "      <td>0</td>\n",
       "    </tr>\n",
       "    <tr>\n",
       "      <th>5999</th>\n",
       "      <td>0</td>\n",
       "      <td>8093</td>\n",
       "      <td>1</td>\n",
       "      <td>0</td>\n",
       "    </tr>\n",
       "  </tbody>\n",
       "</table>\n",
       "<p>3039 rows × 4 columns</p>\n",
       "</div>"
      ],
      "text/plain": [
       "      0  Original_index  scores  result\n",
       "4     0           15274       2       0\n",
       "7     0            7222       1       0\n",
       "8     4            3520       0       0\n",
       "9     4           16222       2       0\n",
       "12    3           14699       2       0\n",
       "...  ..             ...     ...     ...\n",
       "5989  3           25355       4       0\n",
       "5992  0            8919       1       0\n",
       "5993  2           20562       3       0\n",
       "5997  4           21975       3       0\n",
       "5999  0            8093       1       0\n",
       "\n",
       "[3039 rows x 4 columns]"
      ]
     },
     "execution_count": 137,
     "metadata": {},
     "output_type": "execute_result"
    }
   ],
   "source": [
    "predicted_model['result']=np.where(predicted_model.scores == predicted_model[0], 1, 0)\n",
    "bad_clasification=predicted_model[predicted_model.result==0]\n",
    "bad_clasification"
   ]
  },
  {
   "cell_type": "code",
   "execution_count": 124,
   "metadata": {},
   "outputs": [
    {
     "data": {
      "text/html": [
       "<div>\n",
       "<style scoped>\n",
       "    .dataframe tbody tr th:only-of-type {\n",
       "        vertical-align: middle;\n",
       "    }\n",
       "\n",
       "    .dataframe tbody tr th {\n",
       "        vertical-align: top;\n",
       "    }\n",
       "\n",
       "    .dataframe thead th {\n",
       "        text-align: right;\n",
       "    }\n",
       "</style>\n",
       "<table border=\"1\" class=\"dataframe\">\n",
       "  <thead>\n",
       "    <tr style=\"text-align: right;\">\n",
       "      <th></th>\n",
       "      <th>Text</th>\n",
       "    </tr>\n",
       "    <tr>\n",
       "      <th>index</th>\n",
       "      <th></th>\n",
       "    </tr>\n",
       "  </thead>\n",
       "  <tbody>\n",
       "    <tr>\n",
       "      <th>28478</th>\n",
       "      <td>Although the kernels may not be as large and f...</td>\n",
       "    </tr>\n",
       "    <tr>\n",
       "      <th>3956</th>\n",
       "      <td>My office of 4 women tried this coffee. Every ...</td>\n",
       "    </tr>\n",
       "    <tr>\n",
       "      <th>7014</th>\n",
       "      <td>I did not think PB2 tasted like true peanut bu...</td>\n",
       "    </tr>\n",
       "    <tr>\n",
       "      <th>18659</th>\n",
       "      <td>I got this at a local discount store for $6. I...</td>\n",
       "    </tr>\n",
       "    <tr>\n",
       "      <th>15274</th>\n",
       "      <td>I drink tea on a very regular basis.  Mostly b...</td>\n",
       "    </tr>\n",
       "    <tr>\n",
       "      <th>...</th>\n",
       "      <td>...</td>\n",
       "    </tr>\n",
       "    <tr>\n",
       "      <th>1432</th>\n",
       "      <td>I have spent a lot of time in Scotland and I c...</td>\n",
       "    </tr>\n",
       "    <tr>\n",
       "      <th>10241</th>\n",
       "      <td>I've been hooked on NOW's spearmint tea for aw...</td>\n",
       "    </tr>\n",
       "    <tr>\n",
       "      <th>21975</th>\n",
       "      <td>I use this product daily and it has significan...</td>\n",
       "    </tr>\n",
       "    <tr>\n",
       "      <th>29297</th>\n",
       "      <td>I was surprised to find out the coffee from my...</td>\n",
       "    </tr>\n",
       "    <tr>\n",
       "      <th>8093</th>\n",
       "      <td>Four out of twelve cans were dented, 3 severel...</td>\n",
       "    </tr>\n",
       "  </tbody>\n",
       "</table>\n",
       "<p>6000 rows × 1 columns</p>\n",
       "</div>"
      ],
      "text/plain": [
       "                                                    Text\n",
       "index                                                   \n",
       "28478  Although the kernels may not be as large and f...\n",
       "3956   My office of 4 women tried this coffee. Every ...\n",
       "7014   I did not think PB2 tasted like true peanut bu...\n",
       "18659  I got this at a local discount store for $6. I...\n",
       "15274  I drink tea on a very regular basis.  Mostly b...\n",
       "...                                                  ...\n",
       "1432   I have spent a lot of time in Scotland and I c...\n",
       "10241  I've been hooked on NOW's spearmint tea for aw...\n",
       "21975  I use this product daily and it has significan...\n",
       "29297  I was surprised to find out the coffee from my...\n",
       "8093   Four out of twelve cans were dented, 3 severel...\n",
       "\n",
       "[6000 rows x 1 columns]"
      ]
     },
     "execution_count": 124,
     "metadata": {},
     "output_type": "execute_result"
    }
   ],
   "source": [
    "X_test2.reset_index().set_index('index')"
   ]
  },
  {
   "cell_type": "code",
   "execution_count": 147,
   "metadata": {},
   "outputs": [
    {
     "name": "stdout",
     "output_type": "stream",
     "text": [
      "I drink tea on a very regular basis.  Mostly blacks, but I have green, white & rooibos in my collection.  I usually drink premium loose leaf teas and brew them in either a french press or now, my new <a href=\"http://www.amazon.com/gp/product/B000FPN8TK\">Adagio Teas 0 16-Ounce Ingenuitea Teapot</a> tea maker (I prefer the french press).  My usual favorite blacks run thirty to fifty a pound.<br /><br />When I opened the bag I was amazed at the smell...it was just as good as the berry tea at Wegman's (NE premium grocery chain).  I just made my first using the adagio ingenuiTEA brewer.  You can definitely taste the berry, but it's on the weaker side compared to Wegman's.  The tea was smooth and seems to be low in caffeine.<br /><br />I honestly don't think it's worth the MSRP of thirty eight per pound (or even the current price of thirty).  The only reason I took the risk on a pound was that, at the time I purchased, it was on sale and there was a coupon which brought it down to twelve per pound.  For the price I paid it's  a steal.  I have a feeling this will make some really incredible iced tea.<br /><br />FYI - My ratings are based SOLELY on the product itself and not the manufacturer, price, purchase, shipping or some other stupid reason.  All of those are NOT related to the product and can happen to any product you buy!!!  Come on people, when you write a review stick to the PRODUCT not some other random reason.\n",
      "So I bought this thing and my cockapoo wouldn't touch it, I played with her with it and tried to show her how it worked and even rubbed cheese on it, but she never figured it out.  So I got the idea that I could take a empty 20 oz coke bottle and fill it half way with kibble and maybe she would graduate to the tug a jug eventually.  Well, she loves the plastic soda bottles, but still ignores this toy.  I think maybe it is because they replaced the rope with a rubber faux rope.  She loves her rope toys, but doesn't like this rubber rope.  I recommend starting with a soda bottle and only moving to this if they regularly destroy the soda bottle.\n",
      "I was disappointed with this product. I like my seaweed snack thin and crispy. It was chewy. Not happy at all.\n",
      "I am enjoying the use of this item.  It is good quality mayo and I use it with my tuna.\n",
      "I read about these for weight loss among other benefits and thought I'd try them.  Make sure you know they are related to the tomato and chili pepper more than a normal \"berry\" because they taste more like a bit of dried tomato than a sweet fruit.  Easy to lose weight with them when they taste like dried tomato- make it your only available food :)\n"
     ]
    },
    {
     "data": {
      "text/html": [
       "<div>\n",
       "<style scoped>\n",
       "    .dataframe tbody tr th:only-of-type {\n",
       "        vertical-align: middle;\n",
       "    }\n",
       "\n",
       "    .dataframe tbody tr th {\n",
       "        vertical-align: top;\n",
       "    }\n",
       "\n",
       "    .dataframe thead th {\n",
       "        text-align: right;\n",
       "    }\n",
       "</style>\n",
       "<table border=\"1\" class=\"dataframe\">\n",
       "  <thead>\n",
       "    <tr style=\"text-align: right;\">\n",
       "      <th></th>\n",
       "      <th>Prediction</th>\n",
       "      <th>Original_index</th>\n",
       "      <th>Real</th>\n",
       "      <th>result</th>\n",
       "    </tr>\n",
       "  </thead>\n",
       "  <tbody>\n",
       "    <tr>\n",
       "      <th>4</th>\n",
       "      <td>0</td>\n",
       "      <td>15274</td>\n",
       "      <td>2</td>\n",
       "      <td>0</td>\n",
       "    </tr>\n",
       "    <tr>\n",
       "      <th>7</th>\n",
       "      <td>0</td>\n",
       "      <td>7222</td>\n",
       "      <td>1</td>\n",
       "      <td>0</td>\n",
       "    </tr>\n",
       "    <tr>\n",
       "      <th>8</th>\n",
       "      <td>4</td>\n",
       "      <td>3520</td>\n",
       "      <td>0</td>\n",
       "      <td>0</td>\n",
       "    </tr>\n",
       "    <tr>\n",
       "      <th>9</th>\n",
       "      <td>4</td>\n",
       "      <td>16222</td>\n",
       "      <td>2</td>\n",
       "      <td>0</td>\n",
       "    </tr>\n",
       "    <tr>\n",
       "      <th>12</th>\n",
       "      <td>3</td>\n",
       "      <td>14699</td>\n",
       "      <td>2</td>\n",
       "      <td>0</td>\n",
       "    </tr>\n",
       "  </tbody>\n",
       "</table>\n",
       "</div>"
      ],
      "text/plain": [
       "    Prediction  Original_index  Real  result\n",
       "4            0           15274     2       0\n",
       "7            0            7222     1       0\n",
       "8            4            3520     0       0\n",
       "9            4           16222     2       0\n",
       "12           3           14699     2       0"
      ]
     },
     "execution_count": 147,
     "metadata": {},
     "output_type": "execute_result"
    }
   ],
   "source": [
    "X_test2.reset_index().set_index('index').loc[list(bad_clasification.Original_index.head(5).values)]['Text'].apply(lambda x: print(x))\n",
    "bad_clasification.rename(columns={0:'Prediction','scores':'Real'}).head(5)"
   ]
  },
  {
   "cell_type": "markdown",
   "metadata": {},
   "source": [
    "Based on the results in the confusion matrix, we can conclude that the model still has problems in classifying reviews with neighboring ratings."
   ]
  },
  {
   "cell_type": "markdown",
   "metadata": {},
   "source": [
    "I would use as much information as possible, it seems that this is the one that has the most impact to avoid overfitting problems, later I would start adding dropout and l1, l2 regulizers, see how the model is improved"
   ]
  },
  {
   "cell_type": "code",
   "execution_count": null,
   "metadata": {},
   "outputs": [],
   "source": []
  }
 ],
 "metadata": {
  "kernelspec": {
   "display_name": "Python 3",
   "language": "python",
   "name": "python3"
  },
  "language_info": {
   "codemirror_mode": {
    "name": "ipython",
    "version": 3
   },
   "file_extension": ".py",
   "mimetype": "text/x-python",
   "name": "python",
   "nbconvert_exporter": "python",
   "pygments_lexer": "ipython3",
   "version": "3.8.2"
  }
 },
 "nbformat": 4,
 "nbformat_minor": 2
}
